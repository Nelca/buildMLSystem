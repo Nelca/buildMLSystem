{
 "cells": [
  {
   "cell_type": "code",
   "execution_count": 1,
   "metadata": {
    "collapsed": false
   },
   "outputs": [
    {
     "name": "stderr",
     "output_type": "stream",
     "text": [
      "Using TensorFlow backend.\n"
     ]
    }
   ],
   "source": [
    "from keras.models import Sequential\n",
    "from keras.layers import Dense, Dropout, Flatten\n",
    "from keras.layers.convolutional import Conv3D\n",
    "from keras.layers.convolutional_recurrent import ConvLSTM2D\n",
    "from keras.layers.normalization import BatchNormalization\n",
    "import numpy as np\n",
    "import pylab as plt\n",
    "\n",
    "from read_dataset import read_mfcc_10frame_with_train_test\n",
    "from read_saved_models import loadMfcc10frameStanderdScaler"
   ]
  },
  {
   "cell_type": "code",
   "execution_count": 2,
   "metadata": {
    "collapsed": true
   },
   "outputs": [],
   "source": [
    "def getStanderizedData(data):\n",
    "    data_shape = data.shape\n",
    "    n = data_shape[0]\n",
    "    reshaped_data = data.reshape(n, -1)\n",
    "    saved_ss = loadMfcc10frameStanderdScaler()\n",
    "    trasformed_data = saved_ss.transform(reshaped_data)\n",
    "    ret_data = trasformed_data.reshape(data_shape)\n",
    "    return ret_data"
   ]
  },
  {
   "cell_type": "code",
   "execution_count": 3,
   "metadata": {
    "collapsed": false
   },
   "outputs": [],
   "source": [
    "X_train, X_test, y_train, y_test = read_mfcc_10frame_with_train_test()\n",
    "X_ss_train = getStanderizedData(X_train)\n",
    "X_ss_test = getStanderizedData(X_test)"
   ]
  },
  {
   "cell_type": "code",
   "execution_count": 4,
   "metadata": {
    "collapsed": false
   },
   "outputs": [
    {
     "name": "stdout",
     "output_type": "stream",
     "text": [
      "(800, 1, 10, 128, 128)\n"
     ]
    }
   ],
   "source": [
    "print(X_ss_train.shape)"
   ]
  },
  {
   "cell_type": "code",
   "execution_count": 7,
   "metadata": {
    "collapsed": false
   },
   "outputs": [],
   "source": [
    "seq = Sequential()\n",
    "seq.add(ConvLSTM2D(filters=40, kernel_size=(3, 3),\n",
    "                   input_shape=(1, 10, 128, 128),\n",
    "                   padding='same', return_sequences=True, activation='relu', data_format='channels_first'))\n",
    "seq.add(BatchNormalization())\n",
    "\n",
    "seq.add(ConvLSTM2D(filters=40, kernel_size=(3, 3),\n",
    "                   padding='same', return_sequences=True))\n",
    "seq.add(BatchNormalization())\n",
    "\n",
    "seq.add(ConvLSTM2D(filters=40, kernel_size=(3, 3),\n",
    "                   padding='same', return_sequences=True))\n",
    "seq.add(BatchNormalization())\n",
    "\n",
    "seq.add(ConvLSTM2D(filters=40, kernel_size=(3, 3),\n",
    "                   padding='same', return_sequences=True))\n",
    "seq.add(BatchNormalization())\n",
    "\n",
    "seq.add(Flatten())\n",
    "seq.add(Dense(100, activation='relu'))\n",
    "seq.add(Dropout(0.4))\n",
    "seq.add(BatchNormalization())\n",
    "\n",
    "seq.add(Dense(10, activation='softmax'))\n",
    "\n",
    "seq.compile(loss='binary_crossentropy', optimizer='adadelta', metrics=['accuracy', 'categorical_accuracy'])\n"
   ]
  },
  {
   "cell_type": "code",
   "execution_count": 8,
   "metadata": {
    "collapsed": false
   },
   "outputs": [
    {
     "name": "stdout",
     "output_type": "stream",
     "text": [
      "Train on 720 samples, validate on 80 samples\n",
      "Epoch 1/300\n",
      "720/720 [==============================] - 2547s - loss: 0.3005 - acc: 0.8992 - categorical_accuracy: 0.3194 - val_loss: 0.3308 - val_acc: 0.9000 - val_categorical_accuracy: 0.1000\n",
      "Epoch 2/300\n",
      "720/720 [==============================] - 2528s - loss: 0.1538 - acc: 0.9387 - categorical_accuracy: 0.6792 - val_loss: 0.3319 - val_acc: 0.9000 - val_categorical_accuracy: 0.1000\n",
      "Epoch 3/300\n",
      "640/720 [=========================>....] - ETA: 266s - loss: 0.0975 - acc: 0.9664 - categorical_accuracy: 0.8500"
     ]
    },
    {
     "name": "stderr",
     "output_type": "stream",
     "text": [
      "ERROR:root:Internal Python error in the inspect module.\n",
      "Below is the traceback from this internal error.\n",
      "\n"
     ]
    },
    {
     "name": "stdout",
     "output_type": "stream",
     "text": [
      "Traceback (most recent call last):\n",
      "  File \"/home/minato/.pyenv/versions/anaconda3-4.2.0/lib/python3.5/site-packages/IPython/core/interactiveshell.py\", line 2881, in run_code\n",
      "    exec(code_obj, self.user_global_ns, self.user_ns)\n",
      "  File \"<ipython-input-8-aa26d0b794e9>\", line 2, in <module>\n",
      "    epochs=300, validation_split=0.1)\n",
      "  File \"/home/minato/.pyenv/versions/anaconda3-4.2.0/lib/python3.5/site-packages/keras/models.py\", line 870, in fit\n",
      "    initial_epoch=initial_epoch)\n",
      "  File \"/home/minato/.pyenv/versions/anaconda3-4.2.0/lib/python3.5/site-packages/keras/engine/training.py\", line 1507, in fit\n",
      "    initial_epoch=initial_epoch)\n",
      "  File \"/home/minato/.pyenv/versions/anaconda3-4.2.0/lib/python3.5/site-packages/keras/engine/training.py\", line 1156, in _fit_loop\n",
      "    outs = f(ins_batch)\n",
      "  File \"/home/minato/.pyenv/versions/anaconda3-4.2.0/lib/python3.5/site-packages/keras/backend/tensorflow_backend.py\", line 2269, in __call__\n",
      "    **self.session_kwargs)\n",
      "  File \"/home/minato/.pyenv/versions/anaconda3-4.2.0/lib/python3.5/site-packages/tensorflow/python/client/session.py\", line 778, in run\n",
      "    run_metadata_ptr)\n",
      "  File \"/home/minato/.pyenv/versions/anaconda3-4.2.0/lib/python3.5/site-packages/tensorflow/python/client/session.py\", line 982, in _run\n",
      "    feed_dict_string, options, run_metadata)\n",
      "  File \"/home/minato/.pyenv/versions/anaconda3-4.2.0/lib/python3.5/site-packages/tensorflow/python/client/session.py\", line 1032, in _do_run\n",
      "    target_list, options, run_metadata)\n",
      "  File \"/home/minato/.pyenv/versions/anaconda3-4.2.0/lib/python3.5/site-packages/tensorflow/python/client/session.py\", line 1039, in _do_call\n",
      "    return fn(*args)\n",
      "  File \"/home/minato/.pyenv/versions/anaconda3-4.2.0/lib/python3.5/site-packages/tensorflow/python/client/session.py\", line 1021, in _run_fn\n",
      "    status, run_metadata)\n",
      "KeyboardInterrupt\n",
      "\n",
      "During handling of the above exception, another exception occurred:\n",
      "\n",
      "Traceback (most recent call last):\n",
      "  File \"/home/minato/.pyenv/versions/anaconda3-4.2.0/lib/python3.5/site-packages/IPython/core/interactiveshell.py\", line 1821, in showtraceback\n",
      "    stb = value._render_traceback_()\n",
      "AttributeError: 'KeyboardInterrupt' object has no attribute '_render_traceback_'\n",
      "\n",
      "During handling of the above exception, another exception occurred:\n",
      "\n",
      "Traceback (most recent call last):\n",
      "  File \"/home/minato/.pyenv/versions/anaconda3-4.2.0/lib/python3.5/site-packages/IPython/core/ultratb.py\", line 1132, in get_records\n",
      "    return _fixed_getinnerframes(etb, number_of_lines_of_context, tb_offset)\n",
      "  File \"/home/minato/.pyenv/versions/anaconda3-4.2.0/lib/python3.5/site-packages/IPython/core/ultratb.py\", line 313, in wrapped\n",
      "    return f(*args, **kwargs)\n",
      "  File \"/home/minato/.pyenv/versions/anaconda3-4.2.0/lib/python3.5/site-packages/IPython/core/ultratb.py\", line 358, in _fixed_getinnerframes\n",
      "    records = fix_frame_records_filenames(inspect.getinnerframes(etb, context))\n",
      "  File \"/home/minato/.pyenv/versions/anaconda3-4.2.0/lib/python3.5/inspect.py\", line 1453, in getinnerframes\n",
      "    frameinfo = (tb.tb_frame,) + getframeinfo(tb, context)\n",
      "  File \"/home/minato/.pyenv/versions/anaconda3-4.2.0/lib/python3.5/inspect.py\", line 1410, in getframeinfo\n",
      "    filename = getsourcefile(frame) or getfile(frame)\n",
      "  File \"/home/minato/.pyenv/versions/anaconda3-4.2.0/lib/python3.5/inspect.py\", line 672, in getsourcefile\n",
      "    if getattr(getmodule(object, filename), '__loader__', None) is not None:\n",
      "  File \"/home/minato/.pyenv/versions/anaconda3-4.2.0/lib/python3.5/inspect.py\", line 718, in getmodule\n",
      "    os.path.realpath(f)] = module.__name__\n",
      "  File \"/home/minato/.pyenv/versions/anaconda3-4.2.0/lib/python3.5/posixpath.py\", line 372, in realpath\n",
      "    path, ok = _joinrealpath(filename[:0], filename, {})\n",
      "  File \"/home/minato/.pyenv/versions/anaconda3-4.2.0/lib/python3.5/posixpath.py\", line 405, in _joinrealpath\n",
      "    newpath = join(path, name)\n",
      "  File \"/home/minato/.pyenv/versions/anaconda3-4.2.0/lib/python3.5/posixpath.py\", line 87, in join\n",
      "    path += sep + b\n",
      "KeyboardInterrupt\n"
     ]
    },
    {
     "ename": "KeyboardInterrupt",
     "evalue": "",
     "output_type": "error",
     "traceback": [
      "\u001b[0;31m---------------------------------------------------------------------------\u001b[0m"
     ]
    }
   ],
   "source": [
    "result = seq.fit(X_ss_train, y_train, batch_size=10,\n",
    "        epochs=300, validation_split=0.1)"
   ]
  },
  {
   "cell_type": "code",
   "execution_count": null,
   "metadata": {
    "collapsed": true
   },
   "outputs": [],
   "source": []
  }
 ],
 "metadata": {
  "anaconda-cloud": {},
  "kernelspec": {
   "display_name": "Python [conda root]",
   "language": "python",
   "name": "conda-root-py"
  },
  "language_info": {
   "codemirror_mode": {
    "name": "ipython",
    "version": 3
   },
   "file_extension": ".py",
   "mimetype": "text/x-python",
   "name": "python",
   "nbconvert_exporter": "python",
   "pygments_lexer": "ipython3",
   "version": "3.5.2"
  }
 },
 "nbformat": 4,
 "nbformat_minor": 1
}
