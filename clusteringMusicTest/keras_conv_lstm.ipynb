{
 "cells": [
  {
   "cell_type": "code",
   "execution_count": 1,
   "metadata": {
    "collapsed": false
   },
   "outputs": [
    {
     "name": "stderr",
     "output_type": "stream",
     "text": [
      "Using TensorFlow backend.\n"
     ]
    }
   ],
   "source": [
    "from keras.models import Sequential\n",
    "from keras.layers import Dense, Dropout, Flatten\n",
    "from keras.layers.convolutional import Conv3D\n",
    "from keras.layers.convolutional_recurrent import ConvLSTM2D\n",
    "from keras.layers.normalization import BatchNormalization\n",
    "import numpy as np\n",
    "import pylab as plt\n",
    "\n",
    "from read_dataset import read_mfcc_10frame_with_train_test\n",
    "from read_saved_models import loadMfcc10frameStanderdScaler"
   ]
  },
  {
   "cell_type": "code",
   "execution_count": 2,
   "metadata": {
    "collapsed": true
   },
   "outputs": [],
   "source": [
    "def getStanderizedData(data):\n",
    "    data_shape = data.shape\n",
    "    n = data_shape[0]\n",
    "    reshaped_data = data.reshape(n, -1)\n",
    "    saved_ss = loadMfcc10frameStanderdScaler()\n",
    "    trasformed_data = saved_ss.transform(reshaped_data)\n",
    "    ret_data = trasformed_data.reshape(data_shape)\n",
    "    return ret_data"
   ]
  },
  {
   "cell_type": "code",
   "execution_count": 3,
   "metadata": {
    "collapsed": false
   },
   "outputs": [],
   "source": [
    "X_train, X_test, y_train, y_test = read_mfcc_10frame_with_train_test()\n",
    "X_ss_train = getStanderizedData(X_train)\n",
    "X_ss_test = getStanderizedData(X_test)"
   ]
  },
  {
   "cell_type": "code",
   "execution_count": 4,
   "metadata": {
    "collapsed": false
   },
   "outputs": [
    {
     "name": "stdout",
     "output_type": "stream",
     "text": [
      "(800, 1, 10, 128, 128)\n"
     ]
    }
   ],
   "source": [
    "print(X_ss_train.shape)"
   ]
  },
  {
   "cell_type": "code",
   "execution_count": 5,
   "metadata": {
    "collapsed": false
   },
   "outputs": [],
   "source": [
    "seq = Sequential()\n",
    "seq.add(ConvLSTM2D(filters=40, kernel_size=(3, 3),\n",
    "                   input_shape=(1, 10, 128, 128),\n",
    "                   padding='same', return_sequences=True, activation='relu', data_format='channels_first'))\n",
    "seq.add(BatchNormalization())\n",
    "\n",
    "seq.add(ConvLSTM2D(filters=40, kernel_size=(3, 3),\n",
    "                   padding='same', return_sequences=True))\n",
    "seq.add(BatchNormalization())\n",
    "\n",
    "seq.add(ConvLSTM2D(filters=40, kernel_size=(3, 3),\n",
    "                   padding='same', return_sequences=True))\n",
    "seq.add(BatchNormalization())\n",
    "\n",
    "seq.add(ConvLSTM2D(filters=40, kernel_size=(3, 3),\n",
    "                   padding='same', return_sequences=True))\n",
    "seq.add(BatchNormalization())\n",
    "\n",
    "seq.add(Flatten())\n",
    "seq.add(Dense(100, activation='relu'))\n",
    "seq.add(Dropout(0.4))\n",
    "seq.add(BatchNormalization())\n",
    "\n",
    "seq.add(Dense(10, activation='softmax'))\n",
    "\n",
    "seq.compile(loss='binary_crossentropy', optimizer='adadelta', metrics=['accuracy', 'categorical_accuracy'])"
   ]
  },
  {
   "cell_type": "code",
   "execution_count": 6,
   "metadata": {
    "collapsed": false,
    "scrolled": false
   },
   "outputs": [
    {
     "name": "stdout",
     "output_type": "stream",
     "text": [
      "Train on 640 samples, validate on 160 samples\n",
      "Epoch 1/5\n",
      "640/640 [==============================] - 2442s - loss: 0.3146 - acc: 0.8984 - categorical_accuracy: 0.3297 - val_loss: 0.3256 - val_acc: 0.9000 - val_categorical_accuracy: 0.0937\n",
      "Epoch 2/5\n",
      "640/640 [==============================] - 2343s - loss: 0.0832 - acc: 0.9727 - categorical_accuracy: 0.8984 - val_loss: 0.3268 - val_acc: 0.9000 - val_categorical_accuracy: 0.0937\n",
      "Epoch 3/5\n",
      "640/640 [==============================] - 2459s - loss: 0.0422 - acc: 0.9928 - categorical_accuracy: 0.9844 - val_loss: 0.3283 - val_acc: 0.9000 - val_categorical_accuracy: 0.0937\n",
      "Epoch 4/5\n",
      "640/640 [==============================] - 2405s - loss: 0.0302 - acc: 0.9959 - categorical_accuracy: 0.9938 - val_loss: 0.3297 - val_acc: 0.9000 - val_categorical_accuracy: 0.0937\n",
      "Epoch 5/5\n",
      "640/640 [==============================] - 2347s - loss: 0.0252 - acc: 0.9980 - categorical_accuracy: 0.9969 - val_loss: 0.3311 - val_acc: 0.9000 - val_categorical_accuracy: 0.0937\n"
     ]
    }
   ],
   "source": [
    "result = seq.fit(X_ss_train, y_train, batch_size=100, epochs=5, validation_split=0.2)"
   ]
  },
  {
   "cell_type": "code",
   "execution_count": 10,
   "metadata": {
    "collapsed": false
   },
   "outputs": [
    {
     "name": "stdout",
     "output_type": "stream",
     "text": [
      "200/200 [==============================] - 296s     \n",
      "\n",
      "['loss', 'acc', 'categorical_accuracy']\n",
      "[0.33154924213886261, 0.89999979734420776, 0.1099999975413084]\n"
     ]
    }
   ],
   "source": [
    "score = seq.evaluate(X_ss_test, y_test, batch_size=100)\n",
    "print(\"\")\n",
    "print(seq.metrics_names)\n",
    "print(score)"
   ]
  },
  {
   "cell_type": "code",
   "execution_count": 12,
   "metadata": {
    "collapsed": false
   },
   "outputs": [
    {
     "data": {
      "text/plain": [
       "<matplotlib.legend.Legend at 0x7ffbaa71bba8>"
      ]
     },
     "execution_count": 12,
     "metadata": {},
     "output_type": "execute_result"
    },
    {
     "data": {
      "image/png": "[encoded data removed]",
      "text/plain": [
       "<matplotlib.figure.Figure at 0x7ffc86853ef0>"
      ]
     },
     "metadata": {},
     "output_type": "display_data"
    }
   ],
   "source": [
    "%matplotlib inline\n",
    "\n",
    "x = range(5)\n",
    "plt.plot(x, result.history['acc'], label='train accuracy')\n",
    "plt.plot(x, result.history['val_acc'], label='test accuracy')\n",
    "plt.legend(loc='center left', bbox_to_anchor=(1, 0.5))"
   ]
  },
  {
   "cell_type": "code",
   "execution_count": 8,
   "metadata": {
    "collapsed": true
   },
   "outputs": [],
   "source": [
    "model_filepath = \"./savedModels/ceps_conv_lstm_model.h5\"\n",
    "seq.save(model_filepath)"
   ]
  }
 ],
 "metadata": {
  "anaconda-cloud": {},
  "kernelspec": {
   "display_name": "Python [conda root]",
   "language": "python",
   "name": "conda-root-py"
  },
  "language_info": {
   "codemirror_mode": {
    "name": "ipython",
    "version": 3
   },
   "file_extension": ".py",
   "mimetype": "text/x-python",
   "name": "python",
   "nbconvert_exporter": "python",
   "pygments_lexer": "ipython3",
   "version": "3.5.2"
  }
 },
 "nbformat": 4,
 "nbformat_minor": 1
}
