{
 "cells": [
  {
   "cell_type": "code",
   "execution_count": 1,
   "metadata": {
    "collapsed": false
   },
   "outputs": [
    {
     "name": "stderr",
     "output_type": "stream",
     "text": [
      "Using TensorFlow backend.\n"
     ]
    }
   ],
   "source": [
    "import numpy as np\n",
    "import keras\n",
    "from keras.models import Sequential\n",
    "from keras.layers import Dense, Dropout, Flatten\n",
    "from keras.layers import Conv1D, MaxPooling1D\n",
    "from keras.optimizers import SGD\n",
    "from keras.layers.normalization import BatchNormalization\n",
    "\n",
    "from sklearn.preprocessing import StandardScaler\n",
    "from sklearn.externals import joblib\n",
    "\n",
    "from read_dataset import read_ceps1d_with_train_test\n",
    "from read_saved_models import loadMfcc1dStanderdScaler"
   ]
  },
  {
   "cell_type": "code",
   "execution_count": 2,
   "metadata": {
    "collapsed": true
   },
   "outputs": [],
   "source": [
    "def getStanderizedData(data):\n",
    "    data_shape = data.shape\n",
    "    n = data_shape[0]\n",
    "    reshaped_data = data.reshape(n, -1)\n",
    "    saved_ss = loadMfcc1dStanderdScaler()\n",
    "    trasformed_data = saved_ss.transform(reshaped_data)\n",
    "    ret_data = trasformed_data.reshape(data_shape)\n",
    "    return ret_data"
   ]
  },
  {
   "cell_type": "code",
   "execution_count": 3,
   "metadata": {
    "collapsed": true
   },
   "outputs": [],
   "source": [
    "def createStdScaler():\n",
    "    file_path = \"../data/songData/genres/x_1d_all_data.npy\"\n",
    "    all_x_data = np.load(file_path)\n",
    "    n = all_x_data.shape[0]\n",
    "    reshaped_data = all_x_data.reshape(n, -1)\n",
    "\n",
    "    ss = StandardScaler()\n",
    "    ss.fit(reshaped_data)\n",
    "    joblib.dump(ss, './savedStanderdScaler/mfcc_3d_ss.pkl')"
   ]
  },
  {
   "cell_type": "code",
   "execution_count": null,
   "metadata": {
    "collapsed": true
   },
   "outputs": [],
   "source": [
    "createStdScaler()"
   ]
  },
  {
   "cell_type": "code",
   "execution_count": 4,
   "metadata": {
    "collapsed": false
   },
   "outputs": [],
   "source": [
    "X_train, X_test, y_train, y_test = read_ceps1d_with_train_test(recreate_data=True)"
   ]
  },
  {
   "cell_type": "code",
   "execution_count": 5,
   "metadata": {
    "collapsed": true
   },
   "outputs": [],
   "source": [
    "X_ss_train= getStanderizedData(X_train)\n",
    "X_ss_test= getStanderizedData(X_test)"
   ]
  },
  {
   "cell_type": "code",
   "execution_count": 6,
   "metadata": {
    "collapsed": false,
    "scrolled": true
   },
   "outputs": [
    {
     "name": "stdout",
     "output_type": "stream",
     "text": [
      "(600, 3, 30, 1293)\n",
      "(400, 3, 30, 1293)\n",
      "(600, 10)\n",
      "(400, 10)\n"
     ]
    }
   ],
   "source": [
    "print(X_ss_train.shape)\n",
    "print(X_ss_test.shape)\n",
    "print(y_train.shape)\n",
    "print(y_test.shape)"
   ]
  },
  {
   "cell_type": "code",
   "execution_count": 7,
   "metadata": {
    "collapsed": false
   },
   "outputs": [],
   "source": [
    "model = Sequential()\n",
    "\n",
    "# the model is convolutional with layer of 30 * 1293\n",
    "model.add(Conv2D(500, (10, 10), activation='relu',\n",
    "                 input_shape=(3, 30, 1293),\n",
    "                 data_format='channels_first'))\n",
    "model.add(MaxPooling2D(pool_size=(5, 5)))\n",
    "model.add(Dropout(0.5))\n",
    "model.add(BatchNormalization())\n",
    "\n",
    "model.add(Conv2D(50, (3, 3), activation='relu'))\n",
    "model.add(MaxPooling2D(pool_size=(2, 2)))\n",
    "model.add(Dropout(0.4))\n",
    "model.add(BatchNormalization())\n",
    "\n",
    "model.add(Flatten())\n",
    "model.add(Dense(300, activation='relu'))\n",
    "model.add(Dropout(0.3))\n",
    "model.add(BatchNormalization())\n",
    "    \n",
    "model.add(Dense(10, activation='softmax'))\n",
    "\n",
    "sgd = SGD(lr=0.01, decay=1e-6, momentum=0.9, nesterov=True)\n",
    "model.compile(loss='categorical_crossentropy', optimizer=sgd, metrics=['accuracy', 'categorical_accuracy'])"
   ]
  },
  {
   "cell_type": "code",
   "execution_count": 8,
   "metadata": {
    "collapsed": false
   },
   "outputs": [
    {
     "name": "stdout",
     "output_type": "stream",
     "text": [
      "Train on 480 samples, validate on 120 samples\n",
      "Epoch 1/10\n",
      "480/480 [==============================] - 1490s - loss: 2.6756 - acc: 0.1729 - categorical_accuracy: 0.1729 - val_loss: 13.0046 - val_acc: 0.1250 - val_categorical_accuracy: 0.1250\n",
      "Epoch 2/10\n",
      "480/480 [==============================] - 1070s - loss: 2.1199 - acc: 0.3083 - categorical_accuracy: 0.3083 - val_loss: 12.9228 - val_acc: 0.1250 - val_categorical_accuracy: 0.1250\n",
      "Epoch 3/10\n",
      "480/480 [==============================] - 1096s - loss: 1.9118 - acc: 0.3583 - categorical_accuracy: 0.3583 - val_loss: 11.9006 - val_acc: 0.1500 - val_categorical_accuracy: 0.1500\n",
      "Epoch 4/10\n",
      "480/480 [==============================] - 1066s - loss: 1.6578 - acc: 0.4438 - categorical_accuracy: 0.4438 - val_loss: 10.5433 - val_acc: 0.1583 - val_categorical_accuracy: 0.1583\n",
      "Epoch 5/10\n",
      "480/480 [==============================] - 1054s - loss: 1.4977 - acc: 0.4958 - categorical_accuracy: 0.4958 - val_loss: 8.9539 - val_acc: 0.2333 - val_categorical_accuracy: 0.2333\n",
      "Epoch 6/10\n",
      "480/480 [==============================] - 1054s - loss: 1.3380 - acc: 0.5500 - categorical_accuracy: 0.5500 - val_loss: 4.6717 - val_acc: 0.2750 - val_categorical_accuracy: 0.2750\n",
      "Epoch 7/10\n",
      "480/480 [==============================] - 1050s - loss: 1.1301 - acc: 0.6188 - categorical_accuracy: 0.6188 - val_loss: 4.0482 - val_acc: 0.2750 - val_categorical_accuracy: 0.2750\n",
      "Epoch 8/10\n",
      "480/480 [==============================] - 1054s - loss: 1.0953 - acc: 0.6125 - categorical_accuracy: 0.6125 - val_loss: 2.4325 - val_acc: 0.3583 - val_categorical_accuracy: 0.3583\n",
      "Epoch 9/10\n",
      "480/480 [==============================] - 1052s - loss: 0.9810 - acc: 0.6667 - categorical_accuracy: 0.6667 - val_loss: 2.4126 - val_acc: 0.3417 - val_categorical_accuracy: 0.3417\n",
      "Epoch 10/10\n",
      "480/480 [==============================] - 1051s - loss: 0.8493 - acc: 0.7083 - categorical_accuracy: 0.7083 - val_loss: 2.2908 - val_acc: 0.3917 - val_categorical_accuracy: 0.3917\n"
     ]
    }
   ],
   "source": [
    "result = model.fit(X_ss_train, y_train, batch_size=30, epochs=10, validation_split=0.2)"
   ]
  },
  {
   "cell_type": "code",
   "execution_count": 9,
   "metadata": {
    "collapsed": false
   },
   "outputs": [
    {
     "name": "stdout",
     "output_type": "stream",
     "text": [
      "400/400 [==============================] - 496s    \n",
      "['loss', 'acc', 'categorical_accuracy']\n",
      "[2.3172718316316603, 0.39750000722706319, 0.39750000722706319]\n"
     ]
    }
   ],
   "source": [
    "score = model.evaluate(X_ss_test, y_test, batch_size=30)\n",
    "print(model.metrics_names)\n",
    "print(score)"
   ]
  },
  {
   "cell_type": "code",
   "execution_count": 10,
   "metadata": {
    "collapsed": true
   },
   "outputs": [],
   "source": [
    "model_filepath = \"./savedModels/ceps_cnn3d_model.h5\"\n",
    "model.save(model_filepath)"
   ]
  },
  {
   "cell_type": "code",
   "execution_count": 11,
   "metadata": {
    "collapsed": false
   },
   "outputs": [
    {
     "data": {
      "text/plain": [
       "<matplotlib.legend.Legend at 0x7fdcb67d4860>"
      ]
     },
     "execution_count": 11,
     "metadata": {},
     "output_type": "execute_result"
    },
    {
     "data": {
      "image/png": "[encoded data removed]",
      "text/plain": [
       "<matplotlib.figure.Figure at 0x7fdcb820cf28>"
      ]
     },
     "metadata": {},
     "output_type": "display_data"
    }
   ],
   "source": [
    "from matplotlib import pyplot as plt\n",
    "%matplotlib inline\n",
    "\n",
    "plt.plot(range(10), result.history['acc'], label='train accuracy')\n",
    "plt.plot(range(10), result.history['val_acc'], label='test accuracy')\n",
    "plt.legend(loc='center left', bbox_to_anchor=(1, 0.5))\n"
   ]
  }
 ],
 "metadata": {
  "anaconda-cloud": {},
  "kernelspec": {
   "display_name": "Python [conda root]",
   "language": "python",
   "name": "conda-root-py"
  },
  "language_info": {
   "codemirror_mode": {
    "name": "ipython",
    "version": 3
   },
   "file_extension": ".py",
   "mimetype": "text/x-python",
   "name": "python",
   "nbconvert_exporter": "python",
   "pygments_lexer": "ipython3",
   "version": "3.5.2"
  }
 },
 "nbformat": 4,
 "nbformat_minor": 1
}
