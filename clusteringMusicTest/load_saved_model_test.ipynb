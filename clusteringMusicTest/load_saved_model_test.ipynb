{
 "cells": [
  {
   "cell_type": "code",
   "execution_count": 1,
   "metadata": {
    "collapsed": false
   },
   "outputs": [
    {
     "name": "stderr",
     "output_type": "stream",
     "text": [
      "Using TensorFlow backend.\n"
     ]
    }
   ],
   "source": [
    "import numpy as np\n",
    "from keras.models import load_model\n",
    "from sklearn.externals import joblib"
   ]
  },
  {
   "cell_type": "code",
   "execution_count": 2,
   "metadata": {
    "collapsed": true
   },
   "outputs": [],
   "source": [
    "file_path = \"../data/songData/genres/classical/classical.00010.ceps.npy\"\n",
    "ceps = np.load(file_path)\n",
    "\n",
    "t_ceps = ceps.transpose()\n",
    "t_num_ceps = len(t_ceps)\n",
    "t_ceps_mean = np.mean(t_ceps[int(t_num_ceps / 10):int(t_num_ceps * 9 / 10)], axis=0)\n",
    "predict_data = np.array([t_ceps_mean])"
   ]
  },
  {
   "cell_type": "code",
   "execution_count": 3,
   "metadata": {
    "collapsed": false
   },
   "outputs": [
    {
     "name": "stdout",
     "output_type": "stream",
     "text": [
      "[[  1.18247539e-04   9.94438410e-01   5.84900154e-05   6.30514842e-06\n",
      "    4.27116429e-05   5.09536173e-03   4.70405103e-05   9.89640757e-05\n",
      "    8.89068033e-05   5.57087969e-06]]\n",
      "1\n"
     ]
    }
   ],
   "source": [
    "dense_model = load_model('./savedModels/ceps_dense_model.h5')\n",
    "dense_predict_result = dense_model.predict(predict_data)\n",
    "print(dense_predict_result)\n",
    "print(np.argmax(dense_predict_result))"
   ]
  },
  {
   "cell_type": "code",
   "execution_count": 36,
   "metadata": {
    "collapsed": false
   },
   "outputs": [
    {
     "name": "stdout",
     "output_type": "stream",
     "text": [
      "(1, 3, 30, 1293)\n"
     ]
    }
   ],
   "source": [
    "file_path_3d = \"../data/songData/genres/pop/pop.00010.mfcc3d.npy\"\n",
    "\n",
    "mfcc_3d = np.load(file_path_3d)\n",
    "\n",
    "# standerized data\n",
    "data_shape = mfcc_3d.shape\n",
    "reshaped_data = mfcc_3d.reshape(1, -1)\n",
    "saved_ss = joblib.load('./savedStanderdScaler/mfcc_3d_ss.pkl')\n",
    "trasformed_data = saved_ss.transform(reshaped_data)\n",
    "trasformed_data = trasformed_data.reshape(data_shape)\n",
    "predict_data_3d = []\n",
    "predict_data_3d.append(trasformed_data)\n",
    "predict_data_3d = np.array(predict_data_3d)\n",
    "\n",
    "print(predict_data_3d.shape)"
   ]
  },
  {
   "cell_type": "code",
   "execution_count": 37,
   "metadata": {
    "collapsed": false
   },
   "outputs": [
    {
     "name": "stdout",
     "output_type": "stream",
     "text": [
      "[[  2.90684313e-01   3.18571090e-08   2.71079659e-01   2.59588618e-04\n",
      "    3.16386833e-03   5.70687756e-04   3.14192846e-02   1.09637898e-04\n",
      "    2.91190833e-01   1.11522116e-01]]\n",
      "8\n"
     ]
    }
   ],
   "source": [
    "cnn_model = load_model('./savedModels/ceps_cnn_model.h5')\n",
    "cnn_predict_result = cnn_model.predict(predict_data_3d)\n",
    "print(cnn_predict_result)\n",
    "print(np.argmax(cnn_predict_result))"
   ]
  }
 ],
 "metadata": {
  "anaconda-cloud": {},
  "kernelspec": {
   "display_name": "Python [conda root]",
   "language": "python",
   "name": "conda-root-py"
  },
  "language_info": {
   "codemirror_mode": {
    "name": "ipython",
    "version": 3
   },
   "file_extension": ".py",
   "mimetype": "text/x-python",
   "name": "python",
   "nbconvert_exporter": "python",
   "pygments_lexer": "ipython3",
   "version": "3.5.2"
  }
 },
 "nbformat": 4,
 "nbformat_minor": 1
}
