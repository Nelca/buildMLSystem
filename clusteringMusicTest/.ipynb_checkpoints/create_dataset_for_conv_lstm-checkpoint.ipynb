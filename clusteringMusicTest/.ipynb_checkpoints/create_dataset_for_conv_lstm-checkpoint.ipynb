{
 "cells": [
  {
   "cell_type": "code",
   "execution_count": 1,
   "metadata": {
    "collapsed": false
   },
   "outputs": [
    {
     "name": "stderr",
     "output_type": "stream",
     "text": [
      "Using TensorFlow backend.\n"
     ]
    }
   ],
   "source": [
    "import numpy as np\n",
    "import matplotlib.pyplot as plt\n",
    "import matplotlib.style as ms\n",
    "ms.use('seaborn-muted')\n",
    "%matplotlib inline\n",
    "\n",
    "import librosa\n",
    "import librosa.display\n",
    "\n",
    "import IPython.display\n",
    "\n",
    "import os\n",
    "import glob\n",
    "import sys\n",
    "\n",
    "from sklearn.model_selection import train_test_split\n",
    "from sklearn.preprocessing import StandardScaler\n",
    "from sklearn.externals import joblib\n",
    "\n",
    "import keras\n",
    "\n",
    "GENRE_DIR = \"/home/minato/deep_learning/buildMLSystem/data/songData/genres/\"\n",
    "GENRE_LIST = []\n",
    "# 0\n",
    "GENRE_LIST.append(\"blues\")\n",
    "# 1\n",
    "GENRE_LIST.append(\"classical\")\n",
    "# 2\n",
    "GENRE_LIST.append(\"country\")\n",
    "# 3\n",
    "GENRE_LIST.append(\"disco\")\n",
    "# 4\n",
    "GENRE_LIST.append(\"hiphop\")\n",
    "# 5\n",
    "GENRE_LIST.append(\"jazz\")\n",
    "# 6\n",
    "GENRE_LIST.append(\"metal\")\n",
    "# 7\n",
    "GENRE_LIST.append(\"pop\")\n",
    "# 8\n",
    "GENRE_LIST.append(\"reggae\")\n",
    "# 9\n",
    "GENRE_LIST.append(\"rock\")"
   ]
  },
  {
   "cell_type": "code",
   "execution_count": 2,
   "metadata": {
    "collapsed": true
   },
   "outputs": [],
   "source": [
    "def create_data_for_conv_lstm(genre_list=GENRE_LIST):\n",
    "    os.chdir(GENRE_DIR)\n",
    "    for genre in genre_list:\n",
    "        glob_wav = os.path.join(genre, \"*.wav\")\n",
    "        for fn in glob.glob(glob_wav):\n",
    "            create_mfcc_for_conv_lstm(fn)"
   ]
  },
  {
   "cell_type": "code",
   "execution_count": 3,
   "metadata": {
    "collapsed": false
   },
   "outputs": [
    {
     "ename": "SyntaxError",
     "evalue": "invalid syntax (<ipython-input-3-20d83db193b5>, line 21)",
     "output_type": "error",
     "traceback": [
      "\u001b[0;36m  File \u001b[0;32m\"<ipython-input-3-20d83db193b5>\"\u001b[0;36m, line \u001b[0;32m21\u001b[0m\n\u001b[0;31m    1dim = []\u001b[0m\n\u001b[0m       ^\u001b[0m\n\u001b[0;31mSyntaxError\u001b[0m\u001b[0;31m:\u001b[0m invalid syntax\n"
     ]
    }
   ],
   "source": [
    "def create_mfcc_for_conv_lstm(fn):\n",
    "    y, sr = librosa.load(fn)\n",
    "    mfcc = librosa.feature.mfcc(y=y, sr=sr,n_mfcc=128)\n",
    "    last_dim = mfcc.shape[1]\n",
    "    if last_dim < 1290:\n",
    "        add_dim = 1290 - last_dim\n",
    "        add_list = np.zeros((30, add_dim))\n",
    "        mfcc = np.append(mfcc, add_list, axis=1)\n",
    "    elif  last_dim > 1290:\n",
    "        mfcc = mfcc[:,:1290]\n",
    "\n",
    "    mfcc = mfcc.T\n",
    "    data = []\n",
    "    start_num = 0\n",
    "    end_num = 128\n",
    "    for i in range(0, 10):\n",
    "        data.append(mfcc[start_num:end_num, :])\n",
    "        start_num = start_num + 129\n",
    "        end_num = end_num + 129\n",
    "\n",
    "    dim1 = []\n",
    "    dim1.append(data)\n",
    "    dim1_10frame_data = np.array(dim1)\n",
    "    base_fn, ext = os.path.splitext(fn)\n",
    "    data_fn = base_fn + \".mfcc_10frame\"\n",
    "    np.save(data_fn, dim1_10frame_data)\n",
    "    print(\"Written\", data_fn)"
   ]
  },
  {
   "cell_type": "code",
   "execution_count": null,
   "metadata": {
    "collapsed": true
   },
   "outputs": [],
   "source": [
    "def create_mfcc_all_data():\n",
    "    genre_list = GENRE_LIST\n",
    "    base_dir = GENRE_DIR\n",
    "    X = []\n",
    "    y = []\n",
    "    for label, genre in enumerate(genre_list):\n",
    "        mfcc_files = os.path.join(base_dir, genre, \"*.mfcc_10frame.npy\")\n",
    "        for fn in glob.glob(mfcc_files):\n",
    "            mfcc = np.load(fn)\n",
    "            X.append(mfcc)\n",
    "            y.append(label)\n",
    "\n",
    "    print(\"loaded all data\")\n",
    "    all_x_data = np.array(X)\n",
    "    all_y_data = np.array(y)\n",
    "    print(\"all data x shape is\")\n",
    "    print(all_x_data.shape)\n",
    "    print(\"all data y shape is\")\n",
    "    print(all_y_data.shape)\n",
    "\n",
    "    x_data_path = '/home/minato/deep_learning/buildMLSystem/data/songData/genres/x_mfcc_10frame_all_data'\n",
    "    y_data_path = '/home/minato/deep_learning/buildMLSystem/data/songData/genres/y_mfcc_10frame_all_data'\n",
    "\n",
    "    np.save(x_data_path, all_x_data)\n",
    "    np.save(y_data_path, all_y_data)\n",
    "    print(\"Written\", x_data_path)\n",
    "    print(\"Written\", y_data_path)"
   ]
  },
  {
   "cell_type": "code",
   "execution_count": null,
   "metadata": {
    "collapsed": true
   },
   "outputs": [],
   "source": [
    "def createStdScaler():\n",
    "    file_path = \"/home/minato/deep_learning/buildMLSystem/data/songData/genres/x_mfcc_10frame_all_data.npy\"\n",
    "    all_x_data = np.load(file_path)\n",
    "    n = all_x_data.shape[0]\n",
    "    reshaped_data = all_x_data.reshape(n, -1)\n",
    "\n",
    "    ss = StandardScaler()\n",
    "    ss.fit(reshaped_data)\n",
    "    joblib.dump(ss, './savedStanderdScaler/mfcc_10frame_ss.pkl')"
   ]
  },
  {
   "cell_type": "code",
   "execution_count": null,
   "metadata": {
    "collapsed": false
   },
   "outputs": [],
   "source": [
    "#create_data_for_conv_lstm()"
   ]
  },
  {
   "cell_type": "code",
   "execution_count": null,
   "metadata": {
    "collapsed": false
   },
   "outputs": [],
   "source": [
    "#create_mfcc_all_data()"
   ]
  },
  {
   "cell_type": "code",
   "execution_count": null,
   "metadata": {
    "collapsed": true
   },
   "outputs": [],
   "source": [
    "create_mfcc_for_conv_lstm(\"/home/minato/deep_learning/buildMLSystem/data/songData/genres/blues/blues.00000.wav\")"
   ]
  },
  {
   "cell_type": "code",
   "execution_count": null,
   "metadata": {
    "collapsed": false
   },
   "outputs": [],
   "source": []
  }
 ],
 "metadata": {
  "anaconda-cloud": {},
  "kernelspec": {
   "display_name": "Python [conda root]",
   "language": "python",
   "name": "conda-root-py"
  },
  "language_info": {
   "codemirror_mode": {
    "name": "ipython",
    "version": 3
   },
   "file_extension": ".py",
   "mimetype": "text/x-python",
   "name": "python",
   "nbconvert_exporter": "python",
   "pygments_lexer": "ipython3",
   "version": "3.5.2"
  }
 },
 "nbformat": 4,
 "nbformat_minor": 1
}
