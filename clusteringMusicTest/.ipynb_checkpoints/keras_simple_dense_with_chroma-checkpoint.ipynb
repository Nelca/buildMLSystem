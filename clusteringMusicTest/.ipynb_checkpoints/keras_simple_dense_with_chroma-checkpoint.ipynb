{
 "cells": [
  {
   "cell_type": "code",
   "execution_count": 1,
   "metadata": {
    "collapsed": false
   },
   "outputs": [
    {
     "name": "stderr",
     "output_type": "stream",
     "text": [
      "Using TensorFlow backend.\n"
     ]
    }
   ],
   "source": [
    "import keras\n",
    "from keras.models import Sequential\n",
    "from keras.layers import Dense, Dropout, Activation\n",
    "from keras.optimizers import SGD, Adam\n",
    "from keras.layers.normalization import BatchNormalization\n",
    "\n",
    "from read_dataset import read_ceps_with_train_test\n",
    "import numpy as np\n",
    "from create_data_ceps import createCepsSS\n",
    "from read_saved_models import loadCepsStanderdScaler\n",
    "\n",
    "from matplotlib import pyplot as plt\n",
    "%matplotlib inline"
   ]
  },
  {
   "cell_type": "code",
   "execution_count": 2,
   "metadata": {
    "collapsed": false,
    "scrolled": true
   },
   "outputs": [],
   "source": [
    "X_train, X_test, y_train, y_test = read_ceps_with_train_test(recreate_data=True)"
   ]
  },
  {
   "cell_type": "code",
   "execution_count": 3,
   "metadata": {
    "collapsed": true
   },
   "outputs": [],
   "source": [
    "def getStanderizedData(data):\n",
    "    data_shape = data.shape\n",
    "    n = data_shape[0]\n",
    "    reshaped_data = data.reshape(n, -1)\n",
    "    saved_ss = loadCepsStanderdScaler()\n",
    "    trasformed_data = saved_ss.transform(reshaped_data)\n",
    "    ret_data = trasformed_data.reshape(data_shape)\n",
    "    return ret_data"
   ]
  },
  {
   "cell_type": "code",
   "execution_count": 4,
   "metadata": {
    "collapsed": false
   },
   "outputs": [],
   "source": [
    "X_ss_train = getStanderizedData(X_train)\n",
    "X_ss_test = getStanderizedData(X_test)"
   ]
  },
  {
   "cell_type": "code",
   "execution_count": 5,
   "metadata": {
    "collapsed": true
   },
   "outputs": [],
   "source": [
    "layer_1_outdim = 1000\n",
    "layer_1_dropout = 0.5\n",
    "layer_2_outdim = 800\n",
    "layer_2_dropout = 0.5\n",
    "layer_3_outdim = 100\n",
    "layer_3_dropout = 0.3"
   ]
  },
  {
   "cell_type": "code",
   "execution_count": 6,
   "metadata": {
    "collapsed": false
   },
   "outputs": [],
   "source": [
    "model = Sequential()\n",
    "\n",
    "# this layerf from https://keras.io/getting-started/sequntial-model-guide/\n",
    "# Dense(64) is fully-connected layer with 64 hidden units\n",
    "model.add(Dense(layer_1_outdim, activation='relu', input_dim=20))\n",
    "model.add(Dropout(layer_1_dropout))\n",
    "model.add(BatchNormalization())\n",
    "\n",
    "model.add(Dense(layer_2_outdim, activation='relu'))\n",
    "model.add(Dropout(layer_2_dropout))\n",
    "model.add(BatchNormalization())\n",
    "\n",
    "model.add(Dense(layer_3_outdim, activation='relu'))\n",
    "model.add(Dropout(layer_3_dropout))\n",
    "model.add(BatchNormalization())\n",
    "\n",
    "model.add(Dense(10, activation='softmax'))\n",
    "\n",
    "# sgd = SGD(lr=0.001, decay=1e-6, momentum=0.9, nesterov=True)\n",
    "adam = Adam(lr=0.01, decay=1e-9)\n",
    "\n",
    "model.compile(loss='categorical_crossentropy',\n",
    "             optimizer=adam,\n",
    "             metrics=['accuracy'])\n",
    "epoch = 20"
   ]
  },
  {
   "cell_type": "code",
   "execution_count": 7,
   "metadata": {
    "collapsed": false,
    "scrolled": true
   },
   "outputs": [
    {
     "name": "stdout",
     "output_type": "stream",
     "text": [
      "Train on 640 samples, validate on 160 samples\n",
      "Epoch 1/20\n",
      "640/640 [==============================] - 5s - loss: 2.1763 - acc: 0.3125 - val_loss: 7.3191 - val_acc: 0.2750\n",
      "Epoch 2/20\n",
      "640/640 [==============================] - 1s - loss: 1.5618 - acc: 0.4656 - val_loss: 6.4201 - val_acc: 0.2562\n",
      "Epoch 3/20\n",
      "640/640 [==============================] - 1s - loss: 1.2728 - acc: 0.5375 - val_loss: 6.5581 - val_acc: 0.2750\n",
      "Epoch 4/20\n",
      "640/640 [==============================] - 1s - loss: 1.2559 - acc: 0.5641 - val_loss: 5.0283 - val_acc: 0.3375\n",
      "Epoch 5/20\n",
      "640/640 [==============================] - 1s - loss: 1.1871 - acc: 0.5812 - val_loss: 3.6837 - val_acc: 0.3563\n",
      "Epoch 6/20\n",
      "640/640 [==============================] - 1s - loss: 1.1197 - acc: 0.5859 - val_loss: 3.4748 - val_acc: 0.3750\n",
      "Epoch 7/20\n",
      "640/640 [==============================] - 1s - loss: 1.0435 - acc: 0.6219 - val_loss: 2.5772 - val_acc: 0.4312\n",
      "Epoch 8/20\n",
      "640/640 [==============================] - 1s - loss: 1.0053 - acc: 0.6375 - val_loss: 2.0105 - val_acc: 0.4250\n",
      "Epoch 9/20\n",
      "640/640 [==============================] - 1s - loss: 0.9970 - acc: 0.6391 - val_loss: 2.0323 - val_acc: 0.4500\n",
      "Epoch 10/20\n",
      "640/640 [==============================] - 1s - loss: 0.9501 - acc: 0.6625 - val_loss: 1.9768 - val_acc: 0.4625\n",
      "Epoch 11/20\n",
      "640/640 [==============================] - 1s - loss: 0.9489 - acc: 0.6484 - val_loss: 1.7253 - val_acc: 0.5188\n",
      "Epoch 12/20\n",
      "640/640 [==============================] - 1s - loss: 0.8975 - acc: 0.6703 - val_loss: 1.6586 - val_acc: 0.5625\n",
      "Epoch 13/20\n",
      "640/640 [==============================] - 1s - loss: 0.8404 - acc: 0.7125 - val_loss: 1.5737 - val_acc: 0.5250\n",
      "Epoch 14/20\n",
      "640/640 [==============================] - 1s - loss: 0.8091 - acc: 0.7125 - val_loss: 1.7147 - val_acc: 0.5438\n",
      "Epoch 15/20\n",
      "640/640 [==============================] - 1s - loss: 0.8208 - acc: 0.7156 - val_loss: 1.8529 - val_acc: 0.4750\n",
      "Epoch 16/20\n",
      "640/640 [==============================] - 1s - loss: 0.7959 - acc: 0.7281 - val_loss: 1.7756 - val_acc: 0.4812\n",
      "Epoch 17/20\n",
      "640/640 [==============================] - 1s - loss: 0.7798 - acc: 0.7344 - val_loss: 1.8830 - val_acc: 0.4812\n",
      "Epoch 18/20\n",
      "640/640 [==============================] - 1s - loss: 0.7797 - acc: 0.7219 - val_loss: 1.8994 - val_acc: 0.5000\n",
      "Epoch 19/20\n",
      "640/640 [==============================] - 1s - loss: 0.7986 - acc: 0.7172 - val_loss: 1.7971 - val_acc: 0.5000\n",
      "Epoch 20/20\n",
      "640/640 [==============================] - 1s - loss: 0.7477 - acc: 0.7297 - val_loss: 1.6692 - val_acc: 0.4875\n"
     ]
    }
   ],
   "source": [
    "result = model.fit(X_ss_train, y_train, epochs=epoch, batch_size=100,  validation_split=0.2)"
   ]
  },
  {
   "cell_type": "code",
   "execution_count": 8,
   "metadata": {
    "collapsed": false,
    "scrolled": true
   },
   "outputs": [
    {
     "name": "stdout",
     "output_type": "stream",
     "text": [
      "100/200 [==============>...............] - ETA: 0s\n",
      "['loss', 'acc']\n",
      "[1.4013639688491821, 0.53499999642372131]\n"
     ]
    },
    {
     "data": {
      "image/png": "[encoded data removed]",
      "text/plain": [
       "<matplotlib.figure.Figure at 0x7f0860d80dd8>"
      ]
     },
     "metadata": {},
     "output_type": "display_data"
    }
   ],
   "source": [
    "x = range(epoch)\n",
    "plt.plot(x, result.history['acc'], label='train accuracy')\n",
    "plt.plot(x, result.history['val_acc'], label='test accuracy')\n",
    "plt.legend(loc='center left', bbox_to_anchor=(1, 0.5))\n",
    "\n",
    "score = model.evaluate(X_ss_test, y_test, batch_size=100)\n",
    "print(\"\")\n",
    "print(model.metrics_names)\n",
    "print(score)"
   ]
  },
  {
   "cell_type": "code",
   "execution_count": 9,
   "metadata": {
    "collapsed": true
   },
   "outputs": [],
   "source": [
    "model_filepath = \"./savedModels/ceps_standerized_dense_model.h5\"\n",
    "model.save(model_filepath)"
   ]
  },
  {
   "cell_type": "code",
   "execution_count": 10,
   "metadata": {
    "collapsed": false
   },
   "outputs": [
    {
     "data": {
      "text/plain": [
       "\"\\nnote\\n\\n---\\nlayer_1_outdim = 100\\nlayer_1_dropout = 0.5\\nlayer_2_outdim = 100\\nlayer_2_dropout = 0.4\\nlayer_3_outdim = 50\\nlayer_3_dropout = 0.5\\nloss: 1.3307 - acc: 0.5479 - val_loss: 1.4328 - val_acc: 0.4250\\ntest['loss', 'acc'][1.3474427759647369, 0.51999998837709427]\\n---\\n\\n\""
      ]
     },
     "execution_count": 10,
     "metadata": {},
     "output_type": "execute_result"
    }
   ],
   "source": [
    "# adjast param results\n",
    "\n",
    "\"\"\"\n",
    "note\n",
    "\n",
    "---\n",
    "layer_1_outdim = 100\n",
    "layer_1_dropout = 0.5\n",
    "layer_2_outdim = 100\n",
    "layer_2_dropout = 0.4\n",
    "layer_3_outdim = 50\n",
    "layer_3_dropout = 0.5\n",
    "loss: 1.3307 - acc: 0.5479 - val_loss: 1.4328 - val_acc: 0.4250\n",
    "test['loss', 'acc'][1.3474427759647369, 0.51999998837709427]\n",
    "---\n",
    "\n",
    "\"\"\""
   ]
  },
  {
   "cell_type": "code",
   "execution_count": 11,
   "metadata": {
    "collapsed": false
   },
   "outputs": [],
   "source": [
    "file_path = \"../data/songData/genres/disco/disco.00006.ceps.npy\"\n",
    "ceps = np.load(file_path)\n",
    "\n",
    "t_ceps = ceps.transpose()\n",
    "t_num_ceps = len(t_ceps)\n",
    "t_ceps_mean = np.mean(t_ceps[int(t_num_ceps / 10):int(t_num_ceps * 9 / 10)], axis=0)\n",
    "predict_data = np.array([t_ceps_mean])\n",
    "predict_data = getStanderizedData(predict_data)"
   ]
  },
  {
   "cell_type": "code",
   "execution_count": 12,
   "metadata": {
    "collapsed": false
   },
   "outputs": [
    {
     "name": "stdout",
     "output_type": "stream",
     "text": [
      "[[  1.76468445e-03   3.03516979e-04   6.63060928e-03   7.69682944e-01\n",
      "    1.71433622e-03   1.76223845e-03   9.09261499e-03   2.68233428e-03\n",
      "    1.29737100e-03   2.05069467e-01]]\n",
      "3\n"
     ]
    }
   ],
   "source": [
    "predict_result = model.predict(predict_data)\n",
    "print(predict_result)\n",
    "print(np.argmax(predict_result))"
   ]
  }
 ],
 "metadata": {
  "anaconda-cloud": {},
  "kernelspec": {
   "display_name": "Python [conda root]",
   "language": "python",
   "name": "conda-root-py"
  },
  "language_info": {
   "codemirror_mode": {
    "name": "ipython",
    "version": 3
   },
   "file_extension": ".py",
   "mimetype": "text/x-python",
   "name": "python",
   "nbconvert_exporter": "python",
   "pygments_lexer": "ipython3",
   "version": "3.5.2"
  }
 },
 "nbformat": 4,
 "nbformat_minor": 1
}
