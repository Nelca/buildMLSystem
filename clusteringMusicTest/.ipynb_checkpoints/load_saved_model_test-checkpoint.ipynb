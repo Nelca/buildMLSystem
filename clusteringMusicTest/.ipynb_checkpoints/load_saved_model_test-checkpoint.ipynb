{
 "cells": [
  {
   "cell_type": "code",
   "execution_count": 2,
   "metadata": {
    "collapsed": false
   },
   "outputs": [],
   "source": [
    "from keras.models import load_model\n",
    "import numpy as np"
   ]
  },
  {
   "cell_type": "code",
   "execution_count": 3,
   "metadata": {
    "collapsed": true
   },
   "outputs": [],
   "source": [
    "file_path = \"../data/songData/genres/blues/blues.00006.ceps.npy\"\n",
    "ceps = np.load(file_path)\n",
    "\n",
    "t_ceps = ceps.transpose()\n",
    "t_num_ceps = len(t_ceps)\n",
    "t_ceps_mean = np.mean(t_ceps[int(t_num_ceps / 10):int(t_num_ceps * 9 / 10)], axis=0)\n",
    "predict_data = np.array([t_ceps_mean])"
   ]
  },
  {
   "cell_type": "code",
   "execution_count": 4,
   "metadata": {
    "collapsed": false
   },
   "outputs": [
    {
     "name": "stdout",
     "output_type": "stream",
     "text": [
      "[[ 0.05079316  0.24151665  0.24299751  0.06045676  0.0108883   0.29590088\n",
      "   0.00260795  0.0098785   0.03682956  0.04813083]]\n",
      "5\n"
     ]
    }
   ],
   "source": [
    "chk_model = load_model('./savedModels/ceps_cnn_model.h5')\n",
    "predict_result_chk = chk_model.predict(predict_data)\n",
    "print(predict_result_chk)\n",
    "print(np.argmax(predict_result_chk))"
   ]
  }
 ],
 "metadata": {
  "anaconda-cloud": {},
  "kernelspec": {
   "display_name": "Python [conda root]",
   "language": "python",
   "name": "conda-root-py"
  },
  "language_info": {
   "codemirror_mode": {
    "name": "ipython",
    "version": 3
   },
   "file_extension": ".py",
   "mimetype": "text/x-python",
   "name": "python",
   "nbconvert_exporter": "python",
   "pygments_lexer": "ipython3",
   "version": "3.5.2"
  }
 },
 "nbformat": 4,
 "nbformat_minor": 1
}
