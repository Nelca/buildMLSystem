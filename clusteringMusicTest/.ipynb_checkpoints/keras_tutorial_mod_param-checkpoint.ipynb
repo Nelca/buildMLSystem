{
 "cells": [
  {
   "cell_type": "code",
   "execution_count": 1,
   "metadata": {
    "collapsed": false
   },
   "outputs": [
    {
     "name": "stderr",
     "output_type": "stream",
     "text": [
      "Using TensorFlow backend.\n"
     ]
    }
   ],
   "source": [
    "import keras\n",
    "from keras.models import Sequential\n",
    "from keras.layers import Dense, Dropout, Activation\n",
    "from keras.optimizers import SGD\n",
    "from read_dataset import read_ceps_with_train_test\n"
   ]
  },
  {
   "cell_type": "code",
   "execution_count": 2,
   "metadata": {
    "collapsed": false
   },
   "outputs": [],
   "source": [
    "X_train, X_test, y_train, y_test = read_ceps_with_train_test()\n",
    "y_train = keras.utils.to_categorical(y_train, num_classes=10)\n",
    "y_test = keras.utils.to_categorical(y_test, num_classes=10)"
   ]
  },
  {
   "cell_type": "code",
   "execution_count": 3,
   "metadata": {
    "collapsed": false
   },
   "outputs": [],
   "source": [
    "model = Sequential()\n",
    "\n",
    "# this layerf from https://keras.io/getting-started/sequential-model-guide/\n",
    "# Dense(64) is fully-connected layer with 64 hidden units\n",
    "model.add(Dense(64, activation='relu', input_dim=20))\n",
    "model.add(Dropout(0.3))\n",
    "model.add(Dense(64, activation='relu'))\n",
    "model.add(Dropout(0.3))\n",
    "model.add(Dense(10, activation='softmax'))\n",
    "\n",
    "sgd = SGD(lr=0.01, decay=1e-6, momentum=0.9, nesterov=True)"
   ]
  },
  {
   "cell_type": "code",
   "execution_count": 4,
   "metadata": {
    "collapsed": false
   },
   "outputs": [
    {
     "name": "stdout",
     "output_type": "stream",
     "text": [
      "Epoch 1/20\n",
      "600/600 [==============================] - 1s - loss: 12.4321 - acc: 0.1583     \n",
      "Epoch 2/20\n",
      "600/600 [==============================] - 0s - loss: 11.4581 - acc: 0.1933     \n",
      "Epoch 3/20\n",
      "600/600 [==============================] - 0s - loss: 10.3294 - acc: 0.2183     \n",
      "Epoch 4/20\n",
      "600/600 [==============================] - 0s - loss: 5.5729 - acc: 0.1750     \n",
      "Epoch 5/20\n",
      "600/600 [==============================] - 0s - loss: 2.1953 - acc: 0.1967     \n",
      "Epoch 6/20\n",
      "600/600 [==============================] - 0s - loss: 2.1965 - acc: 0.1900     \n",
      "Epoch 7/20\n",
      "600/600 [==============================] - 0s - loss: 2.1726 - acc: 0.2167     \n",
      "Epoch 8/20\n",
      "600/600 [==============================] - 0s - loss: 2.1627 - acc: 0.2067     \n",
      "Epoch 9/20\n",
      "600/600 [==============================] - 0s - loss: 2.1101 - acc: 0.2150     \n",
      "Epoch 10/20\n",
      "600/600 [==============================] - 0s - loss: 2.1114 - acc: 0.2233     \n",
      "Epoch 11/20\n",
      "600/600 [==============================] - 0s - loss: 2.0666 - acc: 0.2367     \n",
      "Epoch 12/20\n",
      "600/600 [==============================] - 0s - loss: 2.1150 - acc: 0.2383     \n",
      "Epoch 13/20\n",
      "600/600 [==============================] - 0s - loss: 2.0366 - acc: 0.2433     \n",
      "Epoch 14/20\n",
      "600/600 [==============================] - 0s - loss: 2.0617 - acc: 0.2500     \n",
      "Epoch 15/20\n",
      "600/600 [==============================] - 0s - loss: 2.0254 - acc: 0.2500     \n",
      "Epoch 16/20\n",
      "600/600 [==============================] - 0s - loss: 2.0789 - acc: 0.2667     \n",
      "Epoch 17/20\n",
      "600/600 [==============================] - 0s - loss: 2.0187 - acc: 0.2600     \n",
      "Epoch 18/20\n",
      "600/600 [==============================] - 0s - loss: 1.9718 - acc: 0.2683     \n",
      "Epoch 19/20\n",
      "600/600 [==============================] - 0s - loss: 2.0129 - acc: 0.2617     \n",
      "Epoch 20/20\n",
      "600/600 [==============================] - 0s - loss: 1.9774 - acc: 0.2633     \n"
     ]
    },
    {
     "data": {
      "text/plain": [
       "<keras.callbacks.History at 0x7f4af78a4eb8>"
      ]
     },
     "execution_count": 4,
     "metadata": {},
     "output_type": "execute_result"
    }
   ],
   "source": [
    "model.compile(loss='categorical_crossentropy',\n",
    "             optimizer=sgd,\n",
    "             metrics=['accuracy'])\n",
    "\n",
    "model.fit(X_train, y_train, epochs=20, batch_size=128)"
   ]
  },
  {
   "cell_type": "code",
   "execution_count": 5,
   "metadata": {
    "collapsed": false
   },
   "outputs": [
    {
     "name": "stdout",
     "output_type": "stream",
     "text": [
      "100/400 [======>.......................] - ETA: 0s\n",
      "[1.9393672943115234, 0.27499999105930328]\n"
     ]
    }
   ],
   "source": [
    "score = model.evaluate(X_test, y_test, batch_size=100)\n",
    "print(\"\")\n",
    "print(score)"
   ]
  },
  {
   "cell_type": "code",
   "execution_count": 6,
   "metadata": {
    "collapsed": false
   },
   "outputs": [
    {
     "data": {
      "text/plain": [
       "['loss', 'acc']"
      ]
     },
     "execution_count": 6,
     "metadata": {},
     "output_type": "execute_result"
    }
   ],
   "source": [
    "model.metrics_names"
   ]
  }
 ],
 "metadata": {
  "anaconda-cloud": {},
  "kernelspec": {
   "display_name": "Python [conda root]",
   "language": "python",
   "name": "conda-root-py"
  },
  "language_info": {
   "codemirror_mode": {
    "name": "ipython",
    "version": 3
   },
   "file_extension": ".py",
   "mimetype": "text/x-python",
   "name": "python",
   "nbconvert_exporter": "python",
   "pygments_lexer": "ipython3",
   "version": "3.5.2"
  }
 },
 "nbformat": 4,
 "nbformat_minor": 1
}
