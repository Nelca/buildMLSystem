{
 "cells": [
  {
   "cell_type": "code",
   "execution_count": 1,
   "metadata": {
    "collapsed": true
   },
   "outputs": [],
   "source": [
    "import os\n",
    "import glob\n",
    "import sys\n",
    "import numpy as np\n",
    "\n",
    "from sklearn.model_selection import train_test_split\n",
    "import keras\n",
    "\n",
    "\n",
    "GENRE_DIR = \"../data/songData/genres/\"\n",
    "GENRE_LIST = []\n",
    "GENRE_LIST.append(\"blues\")\n",
    "GENRE_LIST.append(\"classical\")\n",
    "GENRE_LIST.append(\"country\")\n",
    "GENRE_LIST.append(\"disco\")\n",
    "GENRE_LIST.append(\"hiphop\")\n",
    "GENRE_LIST.append(\"jazz\")\n",
    "GENRE_LIST.append(\"metal\")\n",
    "GENRE_LIST.append(\"pop\")\n",
    "GENRE_LIST.append(\"reggae\")\n",
    "GENRE_LIST.append(\"rock\")\n"
   ]
  }
 ],
 "metadata": {
  "anaconda-cloud": {},
  "kernelspec": {
   "display_name": "Python [conda root]",
   "language": "python",
   "name": "conda-root-py"
  },
  "language_info": {
   "codemirror_mode": {
    "name": "ipython",
    "version": 3
   },
   "file_extension": ".py",
   "mimetype": "text/x-python",
   "name": "python",
   "nbconvert_exporter": "python",
   "pygments_lexer": "ipython3",
   "version": "3.5.2"
  }
 },
 "nbformat": 4,
 "nbformat_minor": 1
}
