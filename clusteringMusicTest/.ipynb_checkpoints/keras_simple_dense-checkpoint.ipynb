{
 "cells": [
  {
   "cell_type": "code",
   "execution_count": 1,
   "metadata": {
    "collapsed": false
   },
   "outputs": [
    {
     "name": "stderr",
     "output_type": "stream",
     "text": [
      "Using TensorFlow backend.\n"
     ]
    }
   ],
   "source": [
    "import keras\n",
    "from keras.models import Sequential\n",
    "from keras.layers import Dense, Dropout, Activation\n",
    "from keras.optimizers import SGD, Adam\n",
    "from keras.layers.normalization import BatchNormalization\n",
    "\n",
    "from read_dataset import read_ceps_with_train_test\n",
    "import numpy as np\n",
    "from create_data_ceps import createCepsSS\n",
    "from read_saved_models import loadCepsStanderdScaler\n",
    "\n",
    "from matplotlib import pyplot as plt\n",
    "%matplotlib inline"
   ]
  },
  {
   "cell_type": "code",
   "execution_count": 2,
   "metadata": {
    "collapsed": false,
    "scrolled": true
   },
   "outputs": [],
   "source": [
    "X_train, X_test, y_train, y_test = read_ceps_with_train_test()"
   ]
  },
  {
   "cell_type": "code",
   "execution_count": 3,
   "metadata": {
    "collapsed": true
   },
   "outputs": [],
   "source": [
    "def getStanderizedData(data):\n",
    "    data_shape = data.shape\n",
    "    n = data_shape[0]\n",
    "    reshaped_data = data.reshape(n, -1)\n",
    "    saved_ss = loadCepsStanderdScaler()\n",
    "    trasformed_data = saved_ss.transform(reshaped_data)\n",
    "    ret_data = trasformed_data.reshape(data_shape)\n",
    "    return ret_data"
   ]
  },
  {
   "cell_type": "code",
   "execution_count": 4,
   "metadata": {
    "collapsed": false
   },
   "outputs": [],
   "source": [
    "X_ss_train = getStanderizedData(X_train)\n",
    "X_ss_test = getStanderizedData(X_test)"
   ]
  },
  {
   "cell_type": "code",
   "execution_count": 5,
   "metadata": {
    "collapsed": true
   },
   "outputs": [],
   "source": [
    "layer_1_outdim = 500\n",
    "layer_1_dropout = 0.5\n",
    "layer_2_outdim = 300\n",
    "layer_2_dropout = 0.4\n",
    "layer_3_outdim = 100\n",
    "layer_3_dropout = 0.5\n",
    "layer_4_outdim = 50\n",
    "layer_4_dropout = 0.5"
   ]
  },
  {
   "cell_type": "code",
   "execution_count": 6,
   "metadata": {
    "collapsed": false
   },
   "outputs": [],
   "source": [
    "model = Sequential()\n",
    "\n",
    "# this layerf from https://keras.io/getting-started/sequntial-model-guide/\n",
    "# Dense(64) is fully-connected layer with 64 hidden units\n",
    "model.add(Dense(layer_1_outdim, activation='relu', input_dim=20))\n",
    "model.add(Dropout(layer_1_dropout))\n",
    "model.add(BatchNormalization())\n",
    "\n",
    "model.add(Dense(layer_2_outdim, activation='relu'))\n",
    "model.add(Dropout(layer_2_dropout))\n",
    "model.add(BatchNormalization())\n",
    "\n",
    "model.add(Dense(layer_3_outdim, activation='relu'))\n",
    "model.add(Dropout(layer_3_dropout))\n",
    "model.add(BatchNormalization())\n",
    "\n",
    "model.add(Dense(layer_4_outdim, activation='relu'))\n",
    "model.add(Dropout(layer_4_dropout))\n",
    "model.add(BatchNormalization())\n",
    "\n",
    "model.add(Dense(10, activation='softmax'))\n",
    "\n",
    "# sgd = SGD(lr=0.001, decay=1e-6, momentum=0.9, nesterov=True)\n",
    "adam = Adam(lr=0.01, decay=1e-7)\n",
    "\n",
    "model.compile(loss='categorical_crossentropy',\n",
    "             optimizer=adam,\n",
    "             metrics=['accuracy'])\n",
    "epoch = 20"
   ]
  },
  {
   "cell_type": "code",
   "execution_count": 7,
   "metadata": {
    "collapsed": false,
    "scrolled": true
   },
   "outputs": [
    {
     "name": "stdout",
     "output_type": "stream",
     "text": [
      "Train on 480 samples, validate on 120 samples\n",
      "Epoch 1/20\n",
      "480/480 [==============================] - 3s - loss: 2.6652 - acc: 0.1437 - val_loss: 2.1283 - val_acc: 0.2417\n",
      "Epoch 2/20\n",
      "480/480 [==============================] - 0s - loss: 2.2404 - acc: 0.2500 - val_loss: 2.6365 - val_acc: 0.2833\n",
      "Epoch 3/20\n",
      "480/480 [==============================] - 0s - loss: 1.9681 - acc: 0.3125 - val_loss: 3.3472 - val_acc: 0.2833\n",
      "Epoch 4/20\n",
      "480/480 [==============================] - 0s - loss: 1.8115 - acc: 0.3396 - val_loss: 3.4602 - val_acc: 0.2917\n",
      "Epoch 5/20\n",
      "480/480 [==============================] - 0s - loss: 1.7683 - acc: 0.3708 - val_loss: 3.4045 - val_acc: 0.2917\n",
      "Epoch 6/20\n",
      "480/480 [==============================] - 0s - loss: 1.7004 - acc: 0.3792 - val_loss: 3.2859 - val_acc: 0.3250\n",
      "Epoch 7/20\n",
      "480/480 [==============================] - 0s - loss: 1.6008 - acc: 0.4479 - val_loss: 3.2190 - val_acc: 0.3083\n",
      "Epoch 8/20\n",
      "480/480 [==============================] - 0s - loss: 1.6066 - acc: 0.4396 - val_loss: 2.9629 - val_acc: 0.3250\n",
      "Epoch 9/20\n",
      "480/480 [==============================] - 0s - loss: 1.4712 - acc: 0.4708 - val_loss: 2.7138 - val_acc: 0.3500\n",
      "Epoch 10/20\n",
      "480/480 [==============================] - 0s - loss: 1.5406 - acc: 0.4083 - val_loss: 2.5338 - val_acc: 0.3167\n",
      "Epoch 11/20\n",
      "480/480 [==============================] - 0s - loss: 1.4069 - acc: 0.4896 - val_loss: 2.3529 - val_acc: 0.3250\n",
      "Epoch 12/20\n",
      "480/480 [==============================] - 0s - loss: 1.4502 - acc: 0.5062 - val_loss: 2.2548 - val_acc: 0.3500\n",
      "Epoch 13/20\n",
      "480/480 [==============================] - 0s - loss: 1.4038 - acc: 0.4875 - val_loss: 1.9381 - val_acc: 0.4083\n",
      "Epoch 14/20\n",
      "480/480 [==============================] - 0s - loss: 1.3913 - acc: 0.5042 - val_loss: 1.7849 - val_acc: 0.4000\n",
      "Epoch 15/20\n",
      "480/480 [==============================] - 0s - loss: 1.3397 - acc: 0.5125 - val_loss: 1.7438 - val_acc: 0.4083\n",
      "Epoch 16/20\n",
      "480/480 [==============================] - 0s - loss: 1.2912 - acc: 0.5604 - val_loss: 1.5441 - val_acc: 0.4500\n",
      "Epoch 17/20\n",
      "480/480 [==============================] - 0s - loss: 1.3291 - acc: 0.4875 - val_loss: 1.5508 - val_acc: 0.4583\n",
      "Epoch 18/20\n",
      "480/480 [==============================] - 0s - loss: 1.2737 - acc: 0.5000 - val_loss: 1.5202 - val_acc: 0.4667\n",
      "Epoch 19/20\n",
      "480/480 [==============================] - 0s - loss: 1.2030 - acc: 0.5750 - val_loss: 1.4754 - val_acc: 0.4667\n",
      "Epoch 20/20\n",
      "480/480 [==============================] - 0s - loss: 1.2745 - acc: 0.5667 - val_loss: 1.4374 - val_acc: 0.5083\n"
     ]
    }
   ],
   "source": [
    "result = model.fit(X_ss_train, y_train, epochs=epoch, batch_size=100,  validation_split=0.2)"
   ]
  },
  {
   "cell_type": "code",
   "execution_count": 8,
   "metadata": {
    "collapsed": false,
    "scrolled": true
   },
   "outputs": [
    {
     "name": "stdout",
     "output_type": "stream",
     "text": [
      "300/400 [=====================>........] - ETA: 0s\n",
      "['loss', 'acc']\n",
      "[1.3716511130332947, 0.52499999105930328]\n"
     ]
    },
    {
     "data": {
      "image/png": "iVBORw0KGgoAAAANSUhEUgAAArsAAAFkCAYAAAAg4/PlAAAABHNCSVQICAgIfAhkiAAAAAlwSFlz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\n",
      "text/plain": [
       "<matplotlib.figure.Figure at 0x7f1f2cb7cc18>"
      ]
     },
     "metadata": {},
     "output_type": "display_data"
    }
   ],
   "source": [
    "x = range(epoch)\n",
    "plt.plot(x, result.history['acc'], label='train accuracy')\n",
    "plt.plot(x, result.history['val_acc'], label='test accuracy')\n",
    "plt.legend(loc='center left', bbox_to_anchor=(1, 0.5))\n",
    "\n",
    "score = model.evaluate(X_ss_test, y_test, batch_size=100)\n",
    "print(\"\")\n",
    "print(model.metrics_names)\n",
    "print(score)"
   ]
  },
  {
   "cell_type": "code",
   "execution_count": 9,
   "metadata": {
    "collapsed": true
   },
   "outputs": [],
   "source": [
    "model_filepath = \"./savedModels/ceps_standerized_dense_model.h5\"\n",
    "model.save(model_filepath)"
   ]
  },
  {
   "cell_type": "code",
   "execution_count": 10,
   "metadata": {
    "collapsed": false
   },
   "outputs": [
    {
     "data": {
      "text/plain": [
       "\"\\nnote\\n\\n---\\nlayer_1_outdim = 100\\nlayer_1_dropout = 0.5\\nlayer_2_outdim = 100\\nlayer_2_dropout = 0.4\\nlayer_3_outdim = 50\\nlayer_3_dropout = 0.5\\nloss: 1.3307 - acc: 0.5479 - val_loss: 1.4328 - val_acc: 0.4250\\ntest['loss', 'acc'][1.3474427759647369, 0.51999998837709427]\\n---\\nlayer_1_outdim = 500\\nlayer_1_dropout = 0.5\\nlayer_2_outdim = 100\\nlayer_2_dropout = 0.4\\nlayer_3_outdim = 50\\nlayer_3_dropout = 0.5\\nlayer_4_outdim = 50\\nlayer_4_dropout = 0.5\\n['loss', 'acc']\\n[1.5192622244358063, 0.45500000566244125]\\n---\\nlayer_1_outdim = 100\\nlayer_1_dropout = 0.5\\nlayer_2_outdim = 100\\nlayer_2_dropout = 0.4\\nlayer_3_outdim = 50\\nlayer_3_dropout = 0.5\\nlayer_4_outdim = 50\\nlayer_4_dropout = 0.5\\n['loss', 'acc']\\n[1.5430989861488342, 0.4375]\\n---\\nlayer_1_outdim = 500\\nlayer_1_dropout = 0.5\\nlayer_2_outdim = 300\\nlayer_2_dropout = 0.4\\nlayer_3_outdim = 50\\nlayer_3_dropout = 0.5\\nlayer_4_outdim = 50\\nlayer_4_dropout = 0.5\\n['loss', 'acc']\\n[1.4455146491527557, 0.47250000387430191]\\n---\\nlayer_1_outdim = 500\\nlayer_1_dropout = 0.5\\nlayer_2_outdim = 300\\nlayer_2_dropout = 0.4\\nlayer_3_outdim = 100\\nlayer_3_dropout = 0.5\\nlayer_4_outdim = 50\\nlayer_4_dropout = 0.5\\n['loss', 'acc']\\n[1.3061552047729492, 0.54500000178813934]\\n\""
      ]
     },
     "execution_count": 10,
     "metadata": {},
     "output_type": "execute_result"
    }
   ],
   "source": [
    "\"\"\"\n",
    "note\n",
    "\n",
    "---\n",
    "layer_1_outdim = 100\n",
    "layer_1_dropout = 0.5\n",
    "layer_2_outdim = 100\n",
    "layer_2_dropout = 0.4\n",
    "layer_3_outdim = 50\n",
    "layer_3_dropout = 0.5\n",
    "loss: 1.3307 - acc: 0.5479 - val_loss: 1.4328 - val_acc: 0.4250\n",
    "test['loss', 'acc'][1.3474427759647369, 0.51999998837709427]\n",
    "---\n",
    "layer_1_outdim = 500\n",
    "layer_1_dropout = 0.5\n",
    "layer_2_outdim = 100\n",
    "layer_2_dropout = 0.4\n",
    "layer_3_outdim = 50\n",
    "layer_3_dropout = 0.5\n",
    "layer_4_outdim = 50\n",
    "layer_4_dropout = 0.5\n",
    "['loss', 'acc']\n",
    "[1.5192622244358063, 0.45500000566244125]\n",
    "---\n",
    "layer_1_outdim = 100\n",
    "layer_1_dropout = 0.5\n",
    "layer_2_outdim = 100\n",
    "layer_2_dropout = 0.4\n",
    "layer_3_outdim = 50\n",
    "layer_3_dropout = 0.5\n",
    "layer_4_outdim = 50\n",
    "layer_4_dropout = 0.5\n",
    "['loss', 'acc']\n",
    "[1.5430989861488342, 0.4375]\n",
    "---\n",
    "layer_1_outdim = 500\n",
    "layer_1_dropout = 0.5\n",
    "layer_2_outdim = 300\n",
    "layer_2_dropout = 0.4\n",
    "layer_3_outdim = 50\n",
    "layer_3_dropout = 0.5\n",
    "layer_4_outdim = 50\n",
    "layer_4_dropout = 0.5\n",
    "['loss', 'acc']\n",
    "[1.4455146491527557, 0.47250000387430191]\n",
    "---\n",
    "layer_1_outdim = 500\n",
    "layer_1_dropout = 0.5\n",
    "layer_2_outdim = 300\n",
    "layer_2_dropout = 0.4\n",
    "layer_3_outdim = 100\n",
    "layer_3_dropout = 0.5\n",
    "layer_4_outdim = 50\n",
    "layer_4_dropout = 0.5\n",
    "['loss', 'acc']\n",
    "[1.3061552047729492, 0.54500000178813934]\n",
    "\"\"\""
   ]
  },
  {
   "cell_type": "code",
   "execution_count": 11,
   "metadata": {
    "collapsed": false
   },
   "outputs": [],
   "source": [
    "file_path = \"../data/songData/genres/disco/disco.00006.ceps.npy\"\n",
    "ceps = np.load(file_path)\n",
    "\n",
    "t_ceps = ceps.transpose()\n",
    "t_num_ceps = len(t_ceps)\n",
    "t_ceps_mean = np.mean(t_ceps[int(t_num_ceps / 10):int(t_num_ceps * 9 / 10)], axis=0)\n",
    "predict_data = np.array([t_ceps_mean])\n",
    "predict_data = getStanderizedData(predict_data)"
   ]
  },
  {
   "cell_type": "code",
   "execution_count": 12,
   "metadata": {
    "collapsed": false
   },
   "outputs": [
    {
     "name": "stdout",
     "output_type": "stream",
     "text": [
      "[[ 0.10766103  0.00320496  0.07989725  0.20977364  0.03204824  0.0141445\n",
      "   0.0839183   0.0076337   0.04354151  0.4181768 ]]\n",
      "9\n"
     ]
    }
   ],
   "source": [
    "predict_result = model.predict(predict_data)\n",
    "print(predict_result)\n",
    "print(np.argmax(predict_result))"
   ]
  }
 ],
 "metadata": {
  "anaconda-cloud": {},
  "kernelspec": {
   "display_name": "Python [conda root]",
   "language": "python",
   "name": "conda-root-py"
  },
  "language_info": {
   "codemirror_mode": {
    "name": "ipython",
    "version": 3
   },
   "file_extension": ".py",
   "mimetype": "text/x-python",
   "name": "python",
   "nbconvert_exporter": "python",
   "pygments_lexer": "ipython3",
   "version": "3.5.2"
  }
 },
 "nbformat": 4,
 "nbformat_minor": 1
}
t))"
   ]
  }
 ],
 "metadata": {
  "anaconda-cloud": {},
  "kernelspec": {
   "display_name": "Python [conda root]",
   "language": "python",
   "name": "conda-root-py"
  },
  "language_info": {
   "codemirror_mode": {
    "name": "ipython",
    "version": 3
   },
   "file_extension": ".py",
   "mimetype": "text/x-python",
   "name": "python",
   "nbconvert_exporter": "python",
   "pygments_lexer": "ipython3",
   "version": "3.5.2"
  }
 },
 "nbformat": 4,
 "nbformat_minor": 1
}
