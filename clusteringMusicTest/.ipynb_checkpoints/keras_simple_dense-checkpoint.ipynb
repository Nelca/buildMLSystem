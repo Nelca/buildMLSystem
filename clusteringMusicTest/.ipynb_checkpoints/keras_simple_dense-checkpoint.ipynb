{
 "cells": [
  {
   "cell_type": "code",
   "execution_count": 1,
   "metadata": {
    "collapsed": false
   },
   "outputs": [
    {
     "name": "stderr",
     "output_type": "stream",
     "text": [
      "Using TensorFlow backend.\n"
     ]
    }
   ],
   "source": [
    "import keras\n",
    "from keras.models import Sequential\n",
    "from keras.layers import Dense, Dropout, Activation\n",
    "from keras.optimizers import SGD, Adam\n",
    "from keras.layers.normalization import BatchNormalization\n",
    "\n",
    "from read_dataset import read_ceps_with_train_test\n",
    "import numpy as np\n"
   ]
  },
  {
   "cell_type": "code",
   "execution_count": 2,
   "metadata": {
    "collapsed": false,
    "scrolled": true
   },
   "outputs": [],
   "source": [
    "X_train, X_test, y_train, y_test = read_ceps_with_train_test(recreate_data=True)"
   ]
  },
  {
   "cell_type": "code",
   "execution_count": 3,
   "metadata": {
    "collapsed": false
   },
   "outputs": [
    {
     "name": "stdout",
     "output_type": "stream",
     "text": [
      "recreated data as follow.\n",
      "X_train shape is\n"
     ]
    }
   ],
   "source": [
    "print(\"recreated data as follow.\")\n",
    "print(\"X_train shape is\")"
   ]
  },
  {
   "cell_type": "code",
   "execution_count": 5,
   "metadata": {
    "collapsed": false
   },
   "outputs": [
    {
     "name": "stdout",
     "output_type": "stream",
     "text": [
      "Epoch 1/20\n",
      "600/600 [==============================] - 1s - loss: 2.3297 - acc: 0.2400     \n",
      "Epoch 2/20\n",
      "600/600 [==============================] - 0s - loss: 1.7943 - acc: 0.3817     \n",
      "Epoch 3/20\n",
      "600/600 [==============================] - 0s - loss: 1.5538 - acc: 0.4583     \n",
      "Epoch 4/20\n",
      "600/600 [==============================] - 0s - loss: 1.3742 - acc: 0.5300     \n",
      "Epoch 5/20\n",
      "600/600 [==============================] - 0s - loss: 1.3711 - acc: 0.5100     \n",
      "Epoch 6/20\n",
      "600/600 [==============================] - 0s - loss: 1.2661 - acc: 0.5483     \n",
      "Epoch 7/20\n",
      "600/600 [==============================] - 0s - loss: 1.2115 - acc: 0.5733     \n",
      "Epoch 8/20\n",
      "600/600 [==============================] - 0s - loss: 1.1818 - acc: 0.5850     \n",
      "Epoch 9/20\n",
      "600/600 [==============================] - 0s - loss: 1.1426 - acc: 0.6017     \n",
      "Epoch 10/20\n",
      "600/600 [==============================] - 0s - loss: 1.1364 - acc: 0.5950     \n",
      "Epoch 11/20\n",
      "600/600 [==============================] - 0s - loss: 1.0744 - acc: 0.6183     \n",
      "Epoch 12/20\n",
      "600/600 [==============================] - 0s - loss: 1.0330 - acc: 0.6367     \n",
      "Epoch 13/20\n",
      "600/600 [==============================] - 0s - loss: 0.9705 - acc: 0.6483     \n",
      "Epoch 14/20\n",
      "600/600 [==============================] - 0s - loss: 0.9716 - acc: 0.6483     \n",
      "Epoch 15/20\n",
      "600/600 [==============================] - 0s - loss: 0.9598 - acc: 0.6483     \n",
      "Epoch 16/20\n",
      "600/600 [==============================] - 0s - loss: 0.9182 - acc: 0.6750     \n",
      "Epoch 17/20\n",
      "600/600 [==============================] - 0s - loss: 0.8638 - acc: 0.6683     \n",
      "Epoch 18/20\n",
      "600/600 [==============================] - 0s - loss: 0.8464 - acc: 0.6950     \n",
      "Epoch 19/20\n",
      "600/600 [==============================] - 0s - loss: 0.8653 - acc: 0.6917     \n",
      "Epoch 20/20\n",
      "600/600 [==============================] - 0s - loss: 0.8711 - acc: 0.6933     \n"
     ]
    },
    {
     "data": {
      "text/plain": [
       "<keras.callbacks.History at 0x7f2ec4d70470>"
      ]
     },
     "execution_count": 5,
     "metadata": {},
     "output_type": "execute_result"
    }
   ],
   "source": [
    "model = Sequential()\n",
    "\n",
    "# this layerf from https://keras.io/getting-started/sequntial-model-guide/\n",
    "# Dense(64) is fully-connected layer with 64 hidden units\n",
    "model.add(Dense(200, activation='relu', input_dim=20))\n",
    "model.add(Dropout(0.1))\n",
    "model.add(BatchNormalization())\n",
    "model.add(Dense(400, activation='relu'))\n",
    "model.add(Dropout(0.2))\n",
    "model.add(BatchNormalization())\n",
    "model.add(Dense(10, activation='softmax'))\n",
    "\n",
    "# sgd = SGD(lr=0.001, decay=1e-6, momentum=0.9, nesterov=True)\n",
    "adam = Adam(lr=0.001, decay=1e-6)\n",
    "\n",
    "model.compile(loss='categorical_crossentropy',\n",
    "             optimizer=adam,\n",
    "             metrics=['accuracy'])\n",
    "\n",
    "model.fit(X_train, y_train, epochs=20, batch_size=100)"
   ]
  },
  {
   "cell_type": "code",
   "execution_count": 6,
   "metadata": {
    "collapsed": true
   },
   "outputs": [],
   "source": [
    "model_filepath = \"./savedModels/ceps_dense_model.h5\"\n",
    "model.save(model_filepath)"
   ]
  },
  {
   "cell_type": "code",
   "execution_count": 7,
   "metadata": {
    "collapsed": false
   },
   "outputs": [
    {
     "name": "stdout",
     "output_type": "stream",
     "text": [
      "100/400 [======>.......................] - ETA: 0s\n",
      "['loss', 'acc']\n",
      "[1.3895326256752014, 0.51749999076128006]\n"
     ]
    }
   ],
   "source": [
    "score = model.evaluate(X_test, y_test, batch_size=100)\n",
    "print(\"\")\n",
    "print(model.metrics_names)\n",
    "print(score)"
   ]
  },
  {
   "cell_type": "code",
   "execution_count": 8,
   "metadata": {
    "collapsed": false
   },
   "outputs": [],
   "source": [
    "file_path = \"../data/songData/genres/blues/blues.00006.ceps.npy\"\n",
    "ceps = np.load(file_path)\n",
    "\n",
    "t_ceps = ceps.transpose()\n",
    "t_num_ceps = len(t_ceps)\n",
    "t_ceps_mean = np.mean(t_ceps[int(t_num_ceps / 10):int(t_num_ceps * 9 / 10)], axis=0)\n",
    "predict_data = np.array([t_ceps_mean])"
   ]
  },
  {
   "cell_type": "code",
   "execution_count": 9,
   "metadata": {
    "collapsed": false
   },
   "outputs": [
    {
     "name": "stdout",
     "output_type": "stream",
     "text": [
      "[[ 0.39664122  0.16806206  0.19433783  0.00164268  0.00239261  0.20081925\n",
      "   0.00603341  0.00888419  0.0076208   0.01356603]]\n",
      "0\n"
     ]
    }
   ],
   "source": [
    "predict_result = model.predict(predict_data)\n",
    "print(predict_result)\n",
    "print(np.argmax(predict_result))"
   ]
  },
  {
   "cell_type": "code",
   "execution_count": 10,
   "metadata": {
    "collapsed": true
   },
   "outputs": [],
   "source": [
    "from keras.models import load_model\n",
    "\n",
    "chk_model = load_model('./savedModels/ceps_cnn_model.h5')"
   ]
  },
  {
   "cell_type": "code",
   "execution_count": 11,
   "metadata": {
    "collapsed": false
   },
   "outputs": [
    {
     "name": "stdout",
     "output_type": "stream",
     "text": [
      "[[ 0.05079316  0.24151665  0.24299751  0.06045676  0.0108883   0.29590088\n",
      "   0.00260795  0.0098785   0.03682956  0.04813083]]\n",
      "5\n"
     ]
    }
   ],
   "source": [
    "predict_result_chk = chk_model.predict(predict_data)\n",
    "print(predict_result_chk)\n",
    "print(np.argmax(predict_result_chk))"
   ]
  }
 ],
 "metadata": {
  "anaconda-cloud": {},
  "kernelspec": {
   "display_name": "Python [conda root]",
   "language": "python",
   "name": "conda-root-py"
  },
  "language_info": {
   "codemirror_mode": {
    "name": "ipython",
    "version": 3
   },
   "file_extension": ".py",
   "mimetype": "text/x-python",
   "name": "python",
   "nbconvert_exporter": "python",
   "pygments_lexer": "ipython3",
   "version": "3.5.2"
  }
 },
 "nbformat": 4,
 "nbformat_minor": 1
}
