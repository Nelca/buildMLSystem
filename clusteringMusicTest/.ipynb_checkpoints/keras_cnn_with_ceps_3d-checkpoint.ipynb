{
 "cells": [
  {
   "cell_type": "code",
   "execution_count": 1,
   "metadata": {
    "collapsed": false
   },
   "outputs": [
    {
     "name": "stderr",
     "output_type": "stream",
     "text": [
      "Using TensorFlow backend.\n"
     ]
    }
   ],
   "source": [
    "import numpy as np\n",
    "import keras\n",
    "from keras.models import Sequential\n",
    "from keras.layers import Dense, Dropout, Flatten\n",
    "from keras.layers import Conv2D, MaxPooling2D\n",
    "from keras.optimizers import SGD\n",
    "from keras.layers.normalization import BatchNormalization\n",
    "\n",
    "from sklearn.preprocessing import StandardScaler\n",
    "from sklearn.externals import joblib\n",
    "\n",
    "from read_dataset import read_ceps3d_with_train_test\n",
    "from read_saved_models import loadMfcc3dStanderdScaler"
   ]
  },
  {
   "cell_type": "code",
   "execution_count": 2,
   "metadata": {
    "collapsed": true
   },
   "outputs": [],
   "source": [
    "def getStanderizedData(data):\n",
    "    data_shape = data.shape\n",
    "    n = data_shape[0]\n",
    "    reshaped_data = data.reshape(n, -1)\n",
    "    saved_ss = loadMfcc3dStanderdScaler()\n",
    "    trasformed_data = saved_ss.transform(reshaped_data)\n",
    "    ret_data = trasformed_data.reshape(data_shape)\n",
    "    return ret_data"
   ]
  },
  {
   "cell_type": "code",
   "execution_count": 3,
   "metadata": {
    "collapsed": true
   },
   "outputs": [],
   "source": [
    "def createStdScaler():\n",
    "    file_path = \"../data/songData/genres/x_3d_all_data.npy\"\n",
    "    all_x_data = np.load(file_path)\n",
    "    n = all_x_data.shape[0]\n",
    "    reshaped_data = all_x_data.reshape(n, -1)\n",
    "\n",
    "    ss = StandardScaler()\n",
    "    ss.fit(reshaped_data)\n",
    "    joblib.dump(ss, './savedStanderdScaler/mfcc_3d_ss.pkl')"
   ]
  },
  {
   "cell_type": "code",
   "execution_count": 4,
   "metadata": {
    "collapsed": false
   },
   "outputs": [],
   "source": [
    "X_train, X_test, y_train, y_test = read_ceps3d_with_train_test()"
   ]
  },
  {
   "cell_type": "code",
   "execution_count": 5,
   "metadata": {
    "collapsed": true
   },
   "outputs": [],
   "source": [
    "X_ss_train= getStanderizedData(X_train)\n",
    "X_ss_test= getStanderizedData(X_test)"
   ]
  },
  {
   "cell_type": "code",
   "execution_count": 6,
   "metadata": {
    "collapsed": false,
    "scrolled": true
   },
   "outputs": [
    {
     "name": "stdout",
     "output_type": "stream",
     "text": [
      "(600, 3, 30, 1293)\n",
      "(400, 3, 30, 1293)\n",
      "(600, 10)\n",
      "(400, 10)\n"
     ]
    }
   ],
   "source": [
    "print(X_ss_train.shape)\n",
    "print(X_ss_test.shape)\n",
    "print(y_train.shape)\n",
    "print(y_test.shape)"
   ]
  },
  {
   "cell_type": "code",
   "execution_count": 7,
   "metadata": {
    "collapsed": false
   },
   "outputs": [],
   "source": [
    "model = Sequential()\n",
    "\n",
    "# the model is convolutional with layer of 30 * 1293\n",
    "model.add(Conv2D(100, (10, 10), activation='relu',\n",
    "                 input_shape=(3, 30, 1293),\n",
    "                 data_format='channels_first'))\n",
    "model.add(MaxPooling2D(pool_size=(5, 5)))\n",
    "\n",
    "model.add(Dropout(0.5))\n",
    "model.add(BatchNormalization())\n",
    "\n",
    "model.add(Conv2D(50, (3, 3), activation='relu'))\n",
    "model.add(MaxPooling2D(pool_size=(2, 2)))\n",
    "model.add(Dropout(0.4))\n",
    "model.add(BatchNormalization())\n",
    "\n",
    "model.add(Flatten())\n",
    "model.add(Dense(300, activation='relu'))\n",
    "model.add(Dropout(0.3))\n",
    "model.add(BatchNormalization())\n",
    "    \n",
    "model.add(Dense(10, activation='softmax'))\n",
    "\n",
    "sgd = SGD(lr=0.01, decay=1e-6, momentum=0.9, nesterov=True)\n",
    "model.compile(loss='categorical_crossentropy', optimizer=sgd, metrics=['accuracy', 'categorical_accuracy'])"
   ]
  },
  {
   "cell_type": "code",
   "execution_count": 8,
   "metadata": {
    "collapsed": false
   },
   "outputs": [
    {
     "name": "stdout",
     "output_type": "stream",
     "text": [
      "Train on 480 samples, validate on 120 samples\n",
      "Epoch 1/10\n",
      "480/480 [==============================] - 246s - loss: 2.8518 - acc: 0.1292 - categorical_accuracy: 0.1292 - val_loss: 10.6158 - val_acc: 0.2417 - val_categorical_accuracy: 0.2417\n",
      "Epoch 2/10\n",
      "480/480 [==============================] - 217s - loss: 2.2419 - acc: 0.2521 - categorical_accuracy: 0.2521 - val_loss: 12.4100 - val_acc: 0.1083 - val_categorical_accuracy: 0.1083\n",
      "Epoch 3/10\n",
      "480/480 [==============================] - 216s - loss: 1.9570 - acc: 0.3667 - categorical_accuracy: 0.3667 - val_loss: 10.3268 - val_acc: 0.1083 - val_categorical_accuracy: 0.1083\n",
      "Epoch 4/10\n",
      "480/480 [==============================] - 218s - loss: 1.9495 - acc: 0.3563 - categorical_accuracy: 0.3563 - val_loss: 5.9601 - val_acc: 0.2833 - val_categorical_accuracy: 0.2833\n",
      "Epoch 5/10\n",
      "480/480 [==============================] - 216s - loss: 1.6578 - acc: 0.4458 - categorical_accuracy: 0.4458 - val_loss: 4.6142 - val_acc: 0.2667 - val_categorical_accuracy: 0.2667\n",
      "Epoch 6/10\n",
      "480/480 [==============================] - 217s - loss: 1.5266 - acc: 0.4917 - categorical_accuracy: 0.4917 - val_loss: 4.1328 - val_acc: 0.2417 - val_categorical_accuracy: 0.2417\n",
      "Epoch 7/10\n",
      "480/480 [==============================] - 215s - loss: 1.4600 - acc: 0.5125 - categorical_accuracy: 0.5125 - val_loss: 2.9988 - val_acc: 0.2417 - val_categorical_accuracy: 0.2417\n",
      "Epoch 8/10\n",
      "480/480 [==============================] - 217s - loss: 1.3860 - acc: 0.5250 - categorical_accuracy: 0.5250 - val_loss: 2.8425 - val_acc: 0.3000 - val_categorical_accuracy: 0.3000\n",
      "Epoch 9/10\n",
      "480/480 [==============================] - 218s - loss: 1.3320 - acc: 0.5458 - categorical_accuracy: 0.5458 - val_loss: 2.6796 - val_acc: 0.2917 - val_categorical_accuracy: 0.2917\n",
      "Epoch 10/10\n",
      "480/480 [==============================] - 217s - loss: 1.1876 - acc: 0.5708 - categorical_accuracy: 0.5708 - val_loss: 2.1255 - val_acc: 0.3417 - val_categorical_accuracy: 0.3417\n"
     ]
    }
   ],
   "source": [
    "result = model.fit(X_ss_train, y_train, batch_size=30, epochs=10, validation_split=0.2)"
   ]
  },
  {
   "cell_type": "code",
   "execution_count": 9,
   "metadata": {
    "collapsed": false
   },
   "outputs": [
    {
     "name": "stdout",
     "output_type": "stream",
     "text": [
      "400/400 [==============================] - 97s    \n",
      "['loss', 'acc', 'categorical_accuracy']\n",
      "[2.0212361097335814, 0.41000000983476637, 0.41000000983476637]\n"
     ]
    }
   ],
   "source": [
    "score = model.evaluate(X_ss_test, y_test, batch_size=30)\n",
    "print(model.metrics_names)\n",
    "print(score)"
   ]
  },
  {
   "cell_type": "code",
   "execution_count": 10,
   "metadata": {
    "collapsed": true
   },
   "outputs": [],
   "source": [
    "model_filepath = \"./savedModels/ceps_cnn3d_model.h5\"\n",
    "model.save(model_filepath)"
   ]
  },
  {
   "cell_type": "code",
   "execution_count": 12,
   "metadata": {
    "collapsed": false
   },
   "outputs": [
    {
     "data": {
      "text/plain": [
       "<matplotlib.legend.Legend at 0x7fa54c34cc88>"
      ]
     },
     "execution_count": 12,
     "metadata": {},
     "output_type": "execute_result"
    },
    {
     "data": {
      "image/png": "[encoded data removed]",
      "text/plain": [
       "<matplotlib.figure.Figure at 0x7fa54c4f8f28>"
      ]
     },
     "metadata": {},
     "output_type": "display_data"
    }
   ],
   "source": [
    "from matplotlib import pyplot as plt\n",
    "%matplotlib inline\n",
    "\n",
    "plt.plot(range(10), result.history['acc'], label='train accuracy')\n",
    "plt.plot(range(10), result.history['val_acc'], label='test accuracy')\n",
    "plt.legend(loc='center left', bbox_to_anchor=(1, 0.5))\n"
   ]
  }
 ],
 "metadata": {
  "anaconda-cloud": {},
  "kernelspec": {
   "display_name": "Python [conda root]",
   "language": "python",
   "name": "conda-root-py"
  },
  "language_info": {
   "codemirror_mode": {
    "name": "ipython",
    "version": 3
   },
   "file_extension": ".py",
   "mimetype": "text/x-python",
   "name": "python",
   "nbconvert_exporter": "python",
   "pygments_lexer": "ipython3",
   "version": "3.5.2"
  }
 },
 "nbformat": 4,
 "nbformat_minor": 1
}
