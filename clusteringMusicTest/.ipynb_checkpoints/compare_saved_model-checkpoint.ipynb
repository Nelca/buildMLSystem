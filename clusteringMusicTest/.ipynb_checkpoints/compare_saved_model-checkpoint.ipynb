{
 "cells": [
  {
   "cell_type": "code",
   "execution_count": 1,
   "metadata": {
    "collapsed": false
   },
   "outputs": [
    {
     "name": "stderr",
     "output_type": "stream",
     "text": [
      "Using TensorFlow backend.\n"
     ]
    }
   ],
   "source": [
    "import numpy as np\n",
    "from keras.models import load_model\n",
    "from sklearn.externals import joblib\n",
    "from read_saved_models import loadCepsDenseModel, loadMfcc3dStanderdScaler, loadMfcc3dCnnModel, loadMfcc10frameStanderdScaler, loadConvLstmModel"
   ]
  },
  {
   "cell_type": "code",
   "execution_count": 2,
   "metadata": {
    "collapsed": true
   },
   "outputs": [],
   "source": [
    "file_path = \"../data/songData/genres/classical/classical.00010.ceps.npy\"\n",
    "ceps = np.load(file_path)\n",
    "\n",
    "t_ceps = ceps.transpose()\n",
    "t_num_ceps = len(t_ceps)\n",
    "t_ceps_mean = np.mean(t_ceps[int(t_num_ceps / 10):int(t_num_ceps * 9 / 10)], axis=0)\n",
    "predict_data = np.array([t_ceps_mean])"
   ]
  },
  {
   "cell_type": "code",
   "execution_count": 3,
   "metadata": {
    "collapsed": false
   },
   "outputs": [
    {
     "name": "stdout",
     "output_type": "stream",
     "text": [
      "[[  1.18247539e-04   9.94438410e-01   5.84900154e-05   6.30514842e-06\n",
      "    4.27116429e-05   5.09536173e-03   4.70405103e-05   9.89640757e-05\n",
      "    8.89068033e-05   5.57087969e-06]]\n",
      "1\n"
     ]
    }
   ],
   "source": [
    "dense_model = loadCepsDenseModel()\n",
    "dense_predict_result = dense_model.predict(predict_data)\n",
    "print(dense_predict_result)\n",
    "print(np.argmax(dense_predict_result))"
   ]
  },
  {
   "cell_type": "code",
   "execution_count": 4,
   "metadata": {
    "collapsed": false
   },
   "outputs": [
    {
     "name": "stdout",
     "output_type": "stream",
     "text": [
      "(1, 3, 30, 1293)\n"
     ]
    }
   ],
   "source": [
    "file_path_3d = \"../data/songData/genres/pop/pop.00010.mfcc3d.npy\"\n",
    "\n",
    "mfcc_3d = np.load(file_path_3d)\n",
    "\n",
    "# standerized data\n",
    "data_shape = mfcc_3d.shape\n",
    "reshaped_data = mfcc_3d.reshape(1, -1)\n",
    "saved_ss = loadMfcc3dStanderdScaler()\n",
    "trasformed_data = saved_ss.transform(reshaped_data)\n",
    "trasformed_data = trasformed_data.reshape(data_shape)\n",
    "predict_data_3d = []\n",
    "predict_data_3d.append(trasformed_data)\n",
    "predict_data_3d = np.array(predict_data_3d)\n",
    "\n",
    "print(predict_data_3d.shape)"
   ]
  },
  {
   "cell_type": "code",
   "execution_count": 5,
   "metadata": {
    "collapsed": false,
    "scrolled": true
   },
   "outputs": [
    {
     "name": "stdout",
     "output_type": "stream",
     "text": [
      "(1, 1, 10, 128, 128)\n"
     ]
    }
   ],
   "source": [
    "file_path_cl = \"../data/songData/genres/country/country.00001.mfcc_10frame.npy\"\n",
    "\n",
    "cl_data = np.load(file_path_cl)\n",
    "\n",
    "# standerized data\n",
    "cl_data_shape = cl_data.shape\n",
    "reshaped_cl_data = cl_data.reshape(cl_data_shape[0], -1)\n",
    "saved_cl_ss = loadMfcc10frameStanderdScaler()\n",
    "trasformed_cl_data = saved_cl_ss.transform(reshaped_cl_data)\n",
    "trasformed_cl_data = trasformed_cl_data.reshape(cl_data_shape)\n",
    "predict_cl_data = []\n",
    "predict_cl_data.append(trasformed_cl_data)\n",
    "predict_cl_data = np.array(predict_cl_data)\n",
    "\n",
    "print(predict_cl_data.shape)"
   ]
  },
  {
   "cell_type": "code",
   "execution_count": 6,
   "metadata": {
    "collapsed": true
   },
   "outputs": [],
   "source": [
    "conv_lstm_model = loadConvLstmModel()"
   ]
  },
  {
   "cell_type": "code",
   "execution_count": 7,
   "metadata": {
    "collapsed": false
   },
   "outputs": [
    {
     "name": "stdout",
     "output_type": "stream",
     "text": [
      "[ 0.11747002  0.08560755  0.17334425  0.11880676  0.08818927  0.08533259\n",
      "  0.07334767  0.0474162   0.13102086  0.07946486]\n",
      "2\n"
     ]
    }
   ],
   "source": [
    "conv_lstm_predict_result = conv_lstm_model.predict(predict_cl_data)\n",
    "print(conv_lstm_predict_result[0])\n",
    "print(np.argmax(conv_lstm_predict_result[0]))"
   ]
  }
 ],
 "metadata": {
  "anaconda-cloud": {},
  "kernelspec": {
   "display_name": "Python [conda root]",
   "language": "python",
   "name": "conda-root-py"
  },
  "language_info": {
   "codemirror_mode": {
    "name": "ipython",
    "version": 3
   },
   "file_extension": ".py",
   "mimetype": "text/x-python",
   "name": "python",
   "nbconvert_exporter": "python",
   "pygments_lexer": "ipython3",
   "version": "3.5.2"
  }
 },
 "nbformat": 4,
 "nbformat_minor": 1
}
