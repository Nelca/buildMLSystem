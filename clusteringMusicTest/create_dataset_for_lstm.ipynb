{
 "cells": [
  {
   "cell_type": "code",
   "execution_count": null,
   "metadata": {
    "collapsed": true
   },
   "outputs": [],
   "source": [
    "import numpy as np\n",
    "import matplotlib.pyplot as plt\n",
    "import matplotlib.style as ms\n",
    "ms.use('seaborn-muted')\n",
    "%matplotlib inline\n",
    "\n",
    "import librosa\n",
    "import librosa.display\n",
    "\n",
    "import IPython.display\n",
    "\n",
    "import os\n",
    "import glob\n",
    "import sys\n",
    "\n",
    "from sklearn.model_selection import train_test_split\n",
    "import keras\n",
    "\n",
    "GENRE_DIR = \"../data/songData/genres/\"\n",
    "GENRE_LIST = []\n",
    "GENRE_LIST.append(\"blues\")\n",
    "GENRE_LIST.append(\"classical\")\n",
    "GENRE_LIST.append(\"country\")\n",
    "GENRE_LIST.append(\"disco\")\n",
    "GENRE_LIST.append(\"hiphop\")\n",
    "GENRE_LIST.append(\"jazz\")\n",
    "GENRE_LIST.append(\"metal\")\n",
    "GENRE_LIST.append(\"pop\")\n",
    "GENRE_LIST.append(\"reggae\")\n",
    "GENRE_LIST.append(\"rock\")"
   ]
  },
  {
   "cell_type": "code",
   "execution_count": null,
   "metadata": {
    "collapsed": true
   },
   "outputs": [],
   "source": [
    "def create_data_for_conv(genre_list=GENRE_LIST):\n",
    "    os.chdir(GENRE_DIR)\n",
    "    for genre in genre_list:\n",
    "        glob_wav = os.path.join(genre, \"*.wav\")\n",
    "        for fn in glob.glob(glob_wav):\n",
    "            create_mfcc_for_lstm(fn)"
   ]
  },
  {
   "cell_type": "code",
   "execution_count": null,
   "metadata": {
    "collapsed": true
   },
   "outputs": [],
   "source": [
    "def create_mfcc_for_lstm(fn):\n",
    "    y, sr = librosa.load(fn)\n",
    "    mfcc = librosa.feature.mfcc(y=y, sr=sr,n_mfcc=30)\n",
    "    \n",
    "    base_fn, ext = os.path.splitext(fn)\n",
    "    data_fn = base_fn + \".mfcc\"\n",
    "    np.save(data_fn, mfcc)\n",
    "    print(\"Written\", data_fn)"
   ]
  }
 ],
 "metadata": {
  "anaconda-cloud": {},
  "kernelspec": {
   "display_name": "Python [conda root]",
   "language": "python",
   "name": "conda-root-py"
  },
  "language_info": {
   "codemirror_mode": {
    "name": "ipython",
    "version": 3
   },
   "file_extension": ".py",
   "mimetype": "text/x-python",
   "name": "python",
   "nbconvert_exporter": "python",
   "pygments_lexer": "ipython3",
   "version": "3.5.2"
  }
 },
 "nbformat": 4,
 "nbformat_minor": 1
}
