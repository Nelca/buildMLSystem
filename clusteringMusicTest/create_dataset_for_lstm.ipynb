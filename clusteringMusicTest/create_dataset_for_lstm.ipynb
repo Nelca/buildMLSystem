{
 "cells": [
  {
   "cell_type": "code",
   "execution_count": 1,
   "metadata": {
    "collapsed": false
   },
   "outputs": [
    {
     "name": "stderr",
     "output_type": "stream",
     "text": [
      "Using TensorFlow backend.\n"
     ]
    }
   ],
   "source": [
    "import numpy as np\n",
    "import matplotlib.pyplot as plt\n",
    "import matplotlib.style as ms\n",
    "ms.use('seaborn-muted')\n",
    "%matplotlib inline\n",
    "\n",
    "import librosa\n",
    "import librosa.display\n",
    "\n",
    "import IPython.display\n",
    "\n",
    "import os\n",
    "import glob\n",
    "import sys\n",
    "\n",
    "from sklearn.model_selection import train_test_split\n",
    "import keras\n",
    "\n",
    "GENRE_DIR = \"../data/songData/genres/\"\n",
    "GENRE_LIST = []\n",
    "GENRE_LIST.append(\"blues\")\n",
    "GENRE_LIST.append(\"classical\")\n",
    "GENRE_LIST.append(\"country\")\n",
    "GENRE_LIST.append(\"disco\")\n",
    "GENRE_LIST.append(\"hiphop\")\n",
    "GENRE_LIST.append(\"jazz\")\n",
    "GENRE_LIST.append(\"metal\")\n",
    "GENRE_LIST.append(\"pop\")\n",
    "GENRE_LIST.append(\"reggae\")\n",
    "GENRE_LIST.append(\"rock\")"
   ]
  },
  {
   "cell_type": "code",
   "execution_count": 2,
   "metadata": {
    "collapsed": true
   },
   "outputs": [],
   "source": [
    "def create_data_for_lstm(genre_list=GENRE_LIST):\n",
    "    os.chdir(GENRE_DIR)\n",
    "    for genre in genre_list:\n",
    "        glob_wav = os.path.join(genre, \"*.wav\")\n",
    "        for fn in glob.glob(glob_wav):\n",
    "            create_mfcc_for_lstm(fn)"
   ]
  },
  {
   "cell_type": "code",
   "execution_count": 3,
   "metadata": {
    "collapsed": true
   },
   "outputs": [],
   "source": [
    "def create_mfcc_for_lstm(fn):\n",
    "    y, sr = librosa.load(fn)\n",
    "    mfcc = librosa.feature.mfcc(y=y, sr=sr,n_mfcc=30)\n",
    "    \n",
    "    last_dim = mfcc.shape[1]\n",
    "    if last_dim < 1293:\n",
    "        add_dim = 1293 - last_dim\n",
    "        add_list = np.zeros((30, add_dim))\n",
    "        mfcc = np.append(mfcc, add_list, axis=1)\n",
    "    elif  last_dim > 1293:\n",
    "        mfcc = mfcc[:,:1293]\n",
    "    \n",
    "    mfcc = mfcc.T\n",
    "    \n",
    "    base_fn, ext = os.path.splitext(fn)\n",
    "    data_fn = base_fn + \".mfcc\"\n",
    "    np.save(data_fn, mfcc)\n",
    "    print(\"Written\", data_fn)"
   ]
  },
  {
   "cell_type": "code",
   "execution_count": 9,
   "metadata": {
    "collapsed": true
   },
   "outputs": [],
   "source": [
    "def create_mfcc_all_data():\n",
    "    genre_list = GENRE_LIST\n",
    "    base_dir = GENRE_DIR\n",
    "    X = []\n",
    "    y = []\n",
    "    for label, genre in enumerate(genre_list):\n",
    "        mfcc_files = os.path.join(base_dir, genre, \"*.mfcc.npy\")\n",
    "        print(\"check_1\")\n",
    "        for fn in glob.glob(mfcc_files):\n",
    "            mfcc = np.load(fn)\n",
    "            X.append(mfcc)\n",
    "            y.append(label)\n",
    "\n",
    "    print(\"loaded all data\")\n",
    "    all_x_data = np.array(X)\n",
    "    all_y_data = np.array(y)\n",
    "    print(\"all data x shape is\")\n",
    "    print(all_x_data.shape)\n",
    "    print(\"all data y shape is\")\n",
    "    print(all_y_data.shape)\n",
    "\n",
    "    x_data_path = '/home/minato/deep_learning/buildMLSystem/data/songData/genres/x_mfcc_all_data'\n",
    "    y_data_path = '/home/minato/deep_learning/buildMLSystem/data/songData/genres/y_mfcc_all_data'\n",
    "\n",
    "    np.save(x_data_path, all_x_data)\n",
    "    np.save(y_data_path, all_y_data)\n",
    "    print(\"Written\", x_data_path)\n",
    "    print(\"Written\", y_data_path)"
   ]
  },
  {
   "cell_type": "code",
   "execution_count": 10,
   "metadata": {
    "collapsed": false
   },
   "outputs": [
    {
     "name": "stdout",
     "output_type": "stream",
     "text": [
      "check_1\n",
      "check_1\n",
      "check_1\n",
      "check_1\n",
      "check_1\n",
      "check_1\n",
      "check_1\n",
      "check_1\n",
      "check_1\n",
      "check_1\n",
      "loaded all data\n",
      "all data x shape is\n",
      "(1000, 1293, 30)\n",
      "all data y shape is\n",
      "(1000,)\n",
      "Written /home/minato/deep_learning/buildMLSystem/data/songData/genres/x_mfcc_all_data\n",
      "Written /home/minato/deep_learning/buildMLSystem/data/songData/genres/y_mfcc_all_data\n"
     ]
    }
   ],
   "source": [
    "create_mfcc_all_data()"
   ]
  }
 ],
 "metadata": {
  "anaconda-cloud": {},
  "kernelspec": {
   "display_name": "Python [conda root]",
   "language": "python",
   "name": "conda-root-py"
  },
  "language_info": {
   "codemirror_mode": {
    "name": "ipython",
    "version": 3
   },
   "file_extension": ".py",
   "mimetype": "text/x-python",
   "name": "python",
   "nbconvert_exporter": "python",
   "pygments_lexer": "ipython3",
   "version": "3.5.2"
  }
 },
 "nbformat": 4,
 "nbformat_minor": 1
}
