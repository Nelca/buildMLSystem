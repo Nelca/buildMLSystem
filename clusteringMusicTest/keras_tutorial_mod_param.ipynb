{
 "cells": [
  {
   "cell_type": "code",
   "execution_count": 1,
   "metadata": {
    "collapsed": false
   },
   "outputs": [
    {
     "name": "stderr",
     "output_type": "stream",
     "text": [
      "Using TensorFlow backend.\n"
     ]
    }
   ],
   "source": [
    "import keras\n",
    "from keras.models import Sequential\n",
    "from keras.layers import Dense, Dropout, Activation\n",
    "from keras.optimizers import SGD, Adam\n",
    "from read_dataset import read_ceps_with_train_test\n",
    "import numpy as np\n"
   ]
  },
  {
   "cell_type": "code",
   "execution_count": 2,
   "metadata": {
    "collapsed": true
   },
   "outputs": [],
   "source": [
    "X_train, X_test, y_train, y_test = read_ceps_with_train_test()\n",
    "y_train = keras.utils.to_categorical(y_train, num_classes=10)\n",
    "y_test = keras.utils.to_categorical(y_test, num_classes=10)"
   ]
  },
  {
   "cell_type": "code",
   "execution_count": 3,
   "metadata": {
    "collapsed": false
   },
   "outputs": [
    {
     "name": "stdout",
     "output_type": "stream",
     "text": [
      "Epoch 1/20\n",
      "600/600 [==============================] - 1s - loss: 8.9262 - acc: 0.1300     \n",
      "Epoch 2/20\n",
      "600/600 [==============================] - 0s - loss: 7.2238 - acc: 0.2233     \n",
      "Epoch 3/20\n",
      "600/600 [==============================] - 0s - loss: 6.0111 - acc: 0.2550     \n",
      "Epoch 4/20\n",
      "600/600 [==============================] - 0s - loss: 5.4797 - acc: 0.3250     \n",
      "Epoch 5/20\n",
      "600/600 [==============================] - 0s - loss: 4.7474 - acc: 0.3183     \n",
      "Epoch 6/20\n",
      "600/600 [==============================] - 0s - loss: 4.1675 - acc: 0.3600     \n",
      "Epoch 7/20\n",
      "600/600 [==============================] - 0s - loss: 3.8440 - acc: 0.3517     \n",
      "Epoch 8/20\n",
      "600/600 [==============================] - 0s - loss: 3.3630 - acc: 0.3750     \n",
      "Epoch 9/20\n",
      "600/600 [==============================] - 0s - loss: 3.0434 - acc: 0.4183     \n",
      "Epoch 10/20\n",
      "600/600 [==============================] - 0s - loss: 2.4699 - acc: 0.3767     \n",
      "Epoch 11/20\n",
      "600/600 [==============================] - 0s - loss: 2.0218 - acc: 0.4100     \n",
      "Epoch 12/20\n",
      "600/600 [==============================] - 0s - loss: 1.9744 - acc: 0.4267     \n",
      "Epoch 13/20\n",
      "600/600 [==============================] - 0s - loss: 1.7519 - acc: 0.4200     \n",
      "Epoch 14/20\n",
      "600/600 [==============================] - 0s - loss: 1.6369 - acc: 0.4783     \n",
      "Epoch 15/20\n",
      "600/600 [==============================] - 0s - loss: 1.4000 - acc: 0.5267     \n",
      "Epoch 16/20\n",
      "600/600 [==============================] - 0s - loss: 1.4817 - acc: 0.5050     \n",
      "Epoch 17/20\n",
      "600/600 [==============================] - 0s - loss: 1.3867 - acc: 0.5283     \n",
      "Epoch 18/20\n",
      "600/600 [==============================] - 0s - loss: 1.3539 - acc: 0.5117     \n",
      "Epoch 19/20\n",
      "600/600 [==============================] - 0s - loss: 1.3049 - acc: 0.5167     \n",
      "Epoch 20/20\n",
      "600/600 [==============================] - 0s - loss: 1.3690 - acc: 0.5083     \n"
     ]
    },
    {
     "data": {
      "text/plain": [
       "<keras.callbacks.History at 0x7f5910f98898>"
      ]
     },
     "execution_count": 3,
     "metadata": {},
     "output_type": "execute_result"
    }
   ],
   "source": [
    "model = Sequential()\n",
    "\n",
    "# this layerf from https://keras.io/getting-started/sequential-model-guide/\n",
    "# Dense(64) is fully-connected layer with 64 hidden units\n",
    "model.add(Dense(200, activation='relu', input_dim=20))\n",
    "model.add(Dropout(0.1))\n",
    "model.add(Dense(400, activation='relu'))\n",
    "model.add(Dropout(0.2))\n",
    "model.add(Dense(10, activation='softmax'))\n",
    "\n",
    "# sgd = SGD(lr=0.001, decay=1e-6, momentum=0.9, nesterov=True)\n",
    "adam = Adam(lr=0.001, decay=1e-6)\n",
    "\n",
    "model.compile(loss='categorical_crossentropy',\n",
    "             optimizer=adam,\n",
    "             metrics=['accuracy'])\n",
    "\n",
    "model.fit(X_train, y_train, epochs=20, batch_size=100)"
   ]
  },
  {
   "cell_type": "code",
   "execution_count": null,
   "metadata": {
    "collapsed": true
   },
   "outputs": [],
   "source": [
    "model_filepath = \"./savedModels/ceps_cnn_model.h5\"\n",
    "model.save(model_filepath)"
   ]
  },
  {
   "cell_type": "code",
   "execution_count": 4,
   "metadata": {
    "collapsed": false
   },
   "outputs": [
    {
     "name": "stdout",
     "output_type": "stream",
     "text": [
      "100/400 [======>.......................] - ETA: 0s\n",
      "[1.3827826976776123, 0.50499998778104782]\n"
     ]
    }
   ],
   "source": [
    "score = model.evaluate(X_test, y_test, batch_size=100)\n",
    "print(\"\")\n",
    "print(model.metrics_names)\n",
    "print(score)"
   ]
  },
  {
   "cell_type": "code",
   "execution_count": 6,
   "metadata": {
    "collapsed": false
   },
   "outputs": [],
   "source": [
    "file_path = \"../data/songData/genres/blues/blues.00006.ceps.npy\"\n",
    "ceps = np.load(file_path)\n",
    "\n",
    "t_ceps = ceps.transpose()\n",
    "t_num_ceps = len(t_ceps)\n",
    "t_ceps_mean = np.mean(t_ceps[int(t_num_ceps / 10):int(t_num_ceps * 9 / 10)], axis=0)\n",
    "predict_data = np.array([t_ceps_mean])"
   ]
  },
  {
   "cell_type": "code",
   "execution_count": 12,
   "metadata": {
    "collapsed": false
   },
   "outputs": [
    {
     "name": "stdout",
     "output_type": "stream",
     "text": [
      "[[ 0.17342827  0.20206432  0.153035    0.0302213   0.01436054  0.30325627\n",
      "   0.00561712  0.01311695  0.04392323  0.06097703]]\n",
      "5\n"
     ]
    }
   ],
   "source": [
    "predict_result = model.predict(predict_data)\n",
    "print(predict_result)\n",
    "print(np.argmax(predict_result))"
   ]
  },
  {
   "cell_type": "code",
   "execution_count": null,
   "metadata": {
    "collapsed": true
   },
   "outputs": [],
   "source": [
    "from keras.models import load_model\n",
    "\n",
    "chk_model = load_model('./savedModels/ceps_cnn_model.h5')"
   ]
  }
 ],
 "metadata": {
  "anaconda-cloud": {},
  "kernelspec": {
   "display_name": "Python [conda root]",
   "language": "python",
   "name": "conda-root-py"
  },
  "language_info": {
   "codemirror_mode": {
    "name": "ipython",
    "version": 3
   },
   "file_extension": ".py",
   "mimetype": "text/x-python",
   "name": "python",
   "nbconvert_exporter": "python",
   "pygments_lexer": "ipython3",
   "version": "3.5.2"
  }
 },
 "nbformat": 4,
 "nbformat_minor": 1
}
