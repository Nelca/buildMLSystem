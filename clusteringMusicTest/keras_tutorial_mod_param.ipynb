{
 "cells": [
  {
   "cell_type": "code",
   "execution_count": 1,
   "metadata": {
    "collapsed": false
   },
   "outputs": [
    {
     "name": "stderr",
     "output_type": "stream",
     "text": [
      "Using TensorFlow backend.\n"
     ]
    }
   ],
   "source": [
    "import keras\n",
    "from keras.models import Sequential\n",
    "from keras.layers import Dense, Dropout, Activation\n",
    "from keras.optimizers import SGD, Adam\n",
    "from read_dataset import read_ceps_with_train_test\n",
    "import numpy as np\n"
   ]
  },
  {
   "cell_type": "code",
   "execution_count": 2,
   "metadata": {
    "collapsed": true
   },
   "outputs": [],
   "source": [
    "X_train, X_test, y_train, y_test = read_ceps_with_train_test()\n",
    "y_train = keras.utils.to_categorical(y_train, num_classes=10)\n",
    "y_test = keras.utils.to_categorical(y_test, num_classes=10)"
   ]
  },
  {
   "cell_type": "code",
   "execution_count": 3,
   "metadata": {
    "collapsed": false
   },
   "outputs": [
    {
     "name": "stdout",
     "output_type": "stream",
     "text": [
      "Epoch 1/20\n",
      "600/600 [==============================] - 1s - loss: 10.1415 - acc: 0.1267     \n",
      "Epoch 2/20\n",
      "600/600 [==============================] - 0s - loss: 7.9101 - acc: 0.2417     \n",
      "Epoch 3/20\n",
      "600/600 [==============================] - 0s - loss: 7.2442 - acc: 0.2483     \n",
      "Epoch 4/20\n",
      "600/600 [==============================] - 0s - loss: 5.9892 - acc: 0.3217     \n",
      "Epoch 5/20\n",
      "600/600 [==============================] - 0s - loss: 5.4122 - acc: 0.3633     \n",
      "Epoch 6/20\n",
      "600/600 [==============================] - 0s - loss: 5.1213 - acc: 0.3367     \n",
      "Epoch 7/20\n",
      "600/600 [==============================] - 0s - loss: 4.4767 - acc: 0.3633     \n",
      "Epoch 8/20\n",
      "600/600 [==============================] - 0s - loss: 3.9379 - acc: 0.3683     \n",
      "Epoch 9/20\n",
      "600/600 [==============================] - 0s - loss: 3.3782 - acc: 0.4050     \n",
      "Epoch 10/20\n",
      "600/600 [==============================] - 0s - loss: 2.7806 - acc: 0.4283     \n",
      "Epoch 11/20\n",
      "600/600 [==============================] - 0s - loss: 2.5957 - acc: 0.4017     \n",
      "Epoch 12/20\n",
      "600/600 [==============================] - 0s - loss: 2.2024 - acc: 0.4700     \n",
      "Epoch 13/20\n",
      "600/600 [==============================] - 0s - loss: 1.9524 - acc: 0.4500     \n",
      "Epoch 14/20\n",
      "600/600 [==============================] - 0s - loss: 1.8004 - acc: 0.4500     \n",
      "Epoch 15/20\n",
      "600/600 [==============================] - 0s - loss: 1.7165 - acc: 0.4783     \n",
      "Epoch 16/20\n",
      "600/600 [==============================] - 0s - loss: 1.5594 - acc: 0.4800     \n",
      "Epoch 17/20\n",
      "600/600 [==============================] - 0s - loss: 1.5799 - acc: 0.4883     \n",
      "Epoch 18/20\n",
      "600/600 [==============================] - 0s - loss: 1.4470 - acc: 0.5250     \n",
      "Epoch 19/20\n",
      "600/600 [==============================] - 0s - loss: 1.4202 - acc: 0.5200     \n",
      "Epoch 20/20\n",
      "600/600 [==============================] - 0s - loss: 1.4165 - acc: 0.5117     \n"
     ]
    },
    {
     "data": {
      "text/plain": [
       "<keras.callbacks.History at 0x7fd6c44a9c18>"
      ]
     },
     "execution_count": 3,
     "metadata": {},
     "output_type": "execute_result"
    }
   ],
   "source": [
    "model = Sequential()\n",
    "\n",
    "# this layerf from https://keras.io/getting-started/sequential-model-guide/\n",
    "# Dense(64) is fully-connected layer with 64 hidden units\n",
    "model.add(Dense(200, activation='relu', input_dim=20))\n",
    "model.add(Dropout(0.1))\n",
    "model.add(Dense(400, activation='relu'))\n",
    "model.add(Dropout(0.2))\n",
    "model.add(Dense(10, activation='softmax'))\n",
    "\n",
    "# sgd = SGD(lr=0.001, decay=1e-6, momentum=0.9, nesterov=True)\n",
    "adam = Adam(lr=0.001, decay=1e-6)\n",
    "\n",
    "model.compile(loss='categorical_crossentropy',\n",
    "             optimizer=adam,\n",
    "             metrics=['accuracy'])\n",
    "\n",
    "model.fit(X_train, y_train, epochs=20, batch_size=100)"
   ]
  },
  {
   "cell_type": "code",
   "execution_count": 4,
   "metadata": {
    "collapsed": false
   },
   "outputs": [
    {
     "name": "stdout",
     "output_type": "stream",
     "text": [
      "100/400 [======>.......................] - ETA: 0s\n",
      "[1.4379535317420959, 0.49499998986721039]\n"
     ]
    }
   ],
   "source": [
    "score = model.evaluate(X_test, y_test, batch_size=100)\n",
    "print(\"\")\n",
    "print(score)"
   ]
  },
  {
   "cell_type": "code",
   "execution_count": 5,
   "metadata": {
    "collapsed": false
   },
   "outputs": [
    {
     "data": {
      "text/plain": [
       "['loss', 'acc']"
      ]
     },
     "execution_count": 5,
     "metadata": {},
     "output_type": "execute_result"
    }
   ],
   "source": [
    "model.metrics_names"
   ]
  },
  {
   "cell_type": "code",
   "execution_count": 22,
   "metadata": {
    "collapsed": false
   },
   "outputs": [],
   "source": [
    "file_path = \"../data/songData/genres/blues/blues.00006.ceps.npy\"\n",
    "ceps = np.load(file_path)\n",
    "\n",
    "t_ceps = ceps.transpose()\n",
    "t_num_ceps = len(t_ceps)\n",
    "t_ceps_mean = np.mean(t_ceps[int(t_num_ceps / 10):int(t_num_ceps * 9 / 10)], axis=0)\n",
    "predict_data = np.array([t_ceps_mean])"
   ]
  },
  {
   "cell_type": "code",
   "execution_count": 23,
   "metadata": {
    "collapsed": false
   },
   "outputs": [
    {
     "name": "stdout",
     "output_type": "stream",
     "text": [
      "[[ 0.08429586  0.12301886  0.32500595  0.0344555   0.04888422  0.12231422\n",
      "   0.03667093  0.0299997   0.07871182  0.11664286]]\n",
      "2\n"
     ]
    }
   ],
   "source": [
    "predict_result = model.predict(predict_data)\n",
    "print(predict_result)\n",
    "print(np.argmax(predict_result))"
   ]
  }
 ],
 "metadata": {
  "anaconda-cloud": {},
  "kernelspec": {
   "display_name": "Python [conda root]",
   "language": "python",
   "name": "conda-root-py"
  },
  "language_info": {
   "codemirror_mode": {
    "name": "ipython",
    "version": 3
   },
   "file_extension": ".py",
   "mimetype": "text/x-python",
   "name": "python",
   "nbconvert_exporter": "python",
   "pygments_lexer": "ipython3",
   "version": "3.5.2"
  }
 },
 "nbformat": 4,
 "nbformat_minor": 1
}
