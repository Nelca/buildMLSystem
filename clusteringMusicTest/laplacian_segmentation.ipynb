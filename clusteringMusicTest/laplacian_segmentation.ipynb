{
 "cells": [
  {
   "cell_type": "code",
   "execution_count": 1,
   "metadata": {
    "collapsed": true
   },
   "outputs": [],
   "source": [
    "# Code source: Brian McFee\n",
    "# License: ISC\n",
    "\n",
    "from __future__ import print_function\n",
    "\n",
    "import numpy as np\n",
    "import scipy\n",
    "import matplotlib.pyplot as plt\n",
    "\n",
    "import sklearn.cluster\n",
    "\n",
    "import librosa\n",
    "import librosa.display"
   ]
  },
  {
   "cell_type": "code",
   "execution_count": 2,
   "metadata": {
    "collapsed": false
   },
   "outputs": [],
   "source": [
    "file_path = \"../data/songData/genres/blues/blues.00000.wav\"\n",
    "y, sr = librosa.load(file_path)"
   ]
  },
  {
   "cell_type": "code",
   "execution_count": 3,
   "metadata": {
    "collapsed": false
   },
   "outputs": [],
   "source": [
    "BINS_PER_OCTAVE = 12 * 3\n",
    "N_OCTAVE = 7\n",
    "\n",
    "C = librosa.amplitude_to_db(librosa.cqt(y=y, sr=sr,\n",
    "                                        bins_per_octave=BINS_PER_OCTAVE,\n",
    "                                        n_bins=N_OCTAVE * BINS_PER_OCTAVE),\n",
    "                           ref=np.max)\n",
    "\n",
    "plt.figure(figsize=(12, 4))\n",
    "librosa.display.specshow(C, y_axis='cqt_hz', sr=sr,\n",
    "                        bins_per_octave=BINS_PER_OCTAVE,\n",
    "                        x_axis='time')\n",
    "plt.title('log power cqt')\n",
    "plt.tight_layout()"
   ]
  },
  {
   "cell_type": "code",
   "execution_count": 4,
   "metadata": {
    "collapsed": true
   },
   "outputs": [],
   "source": [
    "S = librosa.feature.melspectrogram(y, sr=sr, n_mels=128)\n",
    "log_S = librosa.logamplitude(S, ref_power=np.max)\n",
    "\n",
    "plt.figure(figsize=(12, 4))\n",
    "librosa.display.specshow(log_S, sr=sr, x_axis='time', y_axis='mel')\n",
    "plt.title('mel power spectrogram')\n",
    "plt.colorbar(format='%02.0f dB')\n",
    "plt.tight_layout()"
   ]
  },
  {
   "cell_type": "code",
   "execution_count": 5,
   "metadata": {
    "collapsed": false
   },
   "outputs": [],
   "source": [
    "tempo, beats = librosa.beat.beat_track(y=y, sr=sr, trim=False)\n",
    "Csync = librosa.util.sync(C, beats, aggregate=np.median)\n",
    "\n",
    "beat_times = librosa.frames_to_time(librosa.util.fix_frames(beats,\n",
    "                                                           x_min=0,\n",
    "                                                           x_max=C.shape[1]),\n",
    "                                   sr=sr)\n",
    "\n",
    "plt.figure(figsize=(12, 4))\n",
    "librosa.display.specshow(Csync, bins_per_octave=12*3,\n",
    "                        y_axis='cqt_hz', x_axis='time',\n",
    "                        x_coords=beat_times)\n",
    "plt.tight_layout()"
   ]
  }
 ],
 "metadata": {
  "anaconda-cloud": {},
  "kernelspec": {
   "display_name": "Python [conda root]",
   "language": "python",
   "name": "conda-root-py"
  },
  "language_info": {
   "codemirror_mode": {
    "name": "ipython",
    "version": 3
   },
   "file_extension": ".py",
   "mimetype": "text/x-python",
   "name": "python",
   "nbconvert_exporter": "python",
   "pygments_lexer": "ipython3",
   "version": "3.5.2"
  }
 },
 "nbformat": 4,
 "nbformat_minor": 1
}
