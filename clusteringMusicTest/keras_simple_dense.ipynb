{
 "cells": [
  {
   "cell_type": "code",
   "execution_count": 1,
   "metadata": {
    "collapsed": false
   },
   "outputs": [
    {
     "name": "stderr",
     "output_type": "stream",
     "text": [
      "Using TensorFlow backend.\n"
     ]
    }
   ],
   "source": [
    "import keras\n",
    "from keras.models import Sequential\n",
    "from keras.layers import Dense, Dropout, Activation\n",
    "from keras.optimizers import SGD, Adam\n",
    "from keras.layers.normalization import BatchNormalization\n",
    "\n",
    "from read_dataset import read_ceps_with_train_test\n",
    "import numpy as np\n"
   ]
  },
  {
   "cell_type": "code",
   "execution_count": 2,
   "metadata": {
    "collapsed": false,
    "scrolled": true
   },
   "outputs": [],
   "source": [
    "X_train, X_test, y_train, y_test = read_ceps_with_train_test(recreate_data=True)"
   ]
  },
  {
   "cell_type": "code",
   "execution_count": 3,
   "metadata": {
    "collapsed": false
   },
   "outputs": [
    {
     "name": "stdout",
     "output_type": "stream",
     "text": [
      "recreated data as follow.\n",
      "X_train shape is\n"
     ]
    }
   ],
   "source": [
    "print(\"recreated data as follow.\")\n",
    "print(\"X_train shape is\")"
   ]
  },
  {
   "cell_type": "code",
   "execution_count": 4,
   "metadata": {
    "collapsed": false
   },
   "outputs": [
    {
     "name": "stdout",
     "output_type": "stream",
     "text": [
      "Epoch 1/20\n",
      "600/600 [==============================] - 1s - loss: 2.4273 - acc: 0.2217     \n",
      "Epoch 2/20\n",
      "600/600 [==============================] - 0s - loss: 1.7783 - acc: 0.3717     \n",
      "Epoch 3/20\n",
      "600/600 [==============================] - 0s - loss: 1.5207 - acc: 0.4617     \n",
      "Epoch 4/20\n",
      "600/600 [==============================] - 0s - loss: 1.4393 - acc: 0.4850     \n",
      "Epoch 5/20\n",
      "600/600 [==============================] - 0s - loss: 1.3236 - acc: 0.5200     \n",
      "Epoch 6/20\n",
      "600/600 [==============================] - 0s - loss: 1.2988 - acc: 0.5083     \n",
      "Epoch 7/20\n",
      "600/600 [==============================] - 0s - loss: 1.2084 - acc: 0.5750     \n",
      "Epoch 8/20\n",
      "600/600 [==============================] - 0s - loss: 1.2127 - acc: 0.5567     \n",
      "Epoch 9/20\n",
      "600/600 [==============================] - 0s - loss: 1.0964 - acc: 0.6150     \n",
      "Epoch 10/20\n",
      "600/600 [==============================] - 0s - loss: 1.0862 - acc: 0.6050     \n",
      "Epoch 11/20\n",
      "600/600 [==============================] - 0s - loss: 1.0506 - acc: 0.6417     \n",
      "Epoch 12/20\n",
      "600/600 [==============================] - 0s - loss: 0.9736 - acc: 0.6533     \n",
      "Epoch 13/20\n",
      "600/600 [==============================] - 0s - loss: 0.9635 - acc: 0.6467     \n",
      "Epoch 14/20\n",
      "600/600 [==============================] - 0s - loss: 0.9566 - acc: 0.6550     \n",
      "Epoch 15/20\n",
      "600/600 [==============================] - 0s - loss: 0.8993 - acc: 0.6750     \n",
      "Epoch 16/20\n",
      "600/600 [==============================] - 0s - loss: 0.8978 - acc: 0.6833     \n",
      "Epoch 17/20\n",
      "600/600 [==============================] - 0s - loss: 0.9128 - acc: 0.6700     \n",
      "Epoch 18/20\n",
      "600/600 [==============================] - 0s - loss: 0.8508 - acc: 0.7017     \n",
      "Epoch 19/20\n",
      "600/600 [==============================] - 0s - loss: 0.7762 - acc: 0.7350     \n",
      "Epoch 20/20\n",
      "600/600 [==============================] - 0s - loss: 0.7993 - acc: 0.7083     \n"
     ]
    },
    {
     "data": {
      "text/plain": [
       "<keras.callbacks.History at 0x7ff449d64a58>"
      ]
     },
     "execution_count": 4,
     "metadata": {},
     "output_type": "execute_result"
    }
   ],
   "source": [
    "model = Sequential()\n",
    "\n",
    "# this layerf from https://keras.io/getting-started/sequntial-model-guide/\n",
    "# Dense(64) is fully-connected layer with 64 hidden units\n",
    "model.add(Dense(200, activation='relu', input_dim=20))\n",
    "model.add(Dropout(0.1))\n",
    "model.add(BatchNormalization())\n",
    "model.add(Dense(400, activation='relu'))\n",
    "model.add(Dropout(0.2))\n",
    "model.add(BatchNormalization())\n",
    "model.add(Dense(10, activation='softmax'))\n",
    "\n",
    "# sgd = SGD(lr=0.001, decay=1e-6, momentum=0.9, nesterov=True)\n",
    "adam = Adam(lr=0.001, decay=1e-6)\n",
    "\n",
    "model.compile(loss='categorical_crossentropy',\n",
    "             optimizer=adam,\n",
    "             metrics=['accuracy'])\n",
    "\n",
    "model.fit(X_train, y_train, epochs=20, batch_size=100)"
   ]
  },
  {
   "cell_type": "code",
   "execution_count": 5,
   "metadata": {
    "collapsed": true
   },
   "outputs": [],
   "source": [
    "model_filepath = \"./savedModels/ceps_dense_model.h5\"\n",
    "model.save(model_filepath)"
   ]
  },
  {
   "cell_type": "code",
   "execution_count": 6,
   "metadata": {
    "collapsed": false
   },
   "outputs": [
    {
     "name": "stdout",
     "output_type": "stream",
     "text": [
      "100/400 [======>.......................] - ETA: 0s\n",
      "['loss', 'acc']\n",
      "[1.3296507894992828, 0.53750000149011612]\n"
     ]
    }
   ],
   "source": [
    "score = model.evaluate(X_test, y_test, batch_size=100)\n",
    "print(\"\")\n",
    "print(model.metrics_names)\n",
    "print(score)"
   ]
  },
  {
   "cell_type": "code",
   "execution_count": 11,
   "metadata": {
    "collapsed": false
   },
   "outputs": [],
   "source": [
    "file_path = \"../data/songData/genres/disco/disco.00006.ceps.npy\"\n",
    "ceps = np.load(file_path)\n",
    "\n",
    "t_ceps = ceps.transpose()\n",
    "t_num_ceps = len(t_ceps)\n",
    "t_ceps_mean = np.mean(t_ceps[int(t_num_ceps / 10):int(t_num_ceps * 9 / 10)], axis=0)\n",
    "predict_data = np.array([t_ceps_mean])"
   ]
  },
  {
   "cell_type": "code",
   "execution_count": 8,
   "metadata": {
    "collapsed": false
   },
   "outputs": [
    {
     "name": "stdout",
     "output_type": "stream",
     "text": [
      "[[ 0.33529261  0.16656417  0.15735482  0.00399345  0.00427445  0.2349479\n",
      "   0.01921141  0.0062082   0.03076703  0.04138589]]\n",
      "0\n"
     ]
    }
   ],
   "source": [
    "predict_result = model.predict(predict_data)\n",
    "print(predict_result)\n",
    "print(np.argmax(predict_result))"
   ]
  },
  {
   "cell_type": "code",
   "execution_count": 9,
   "metadata": {
    "collapsed": true
   },
   "outputs": [],
   "source": [
    "from keras.models import load_model\n",
    "\n",
    "chk_model = load_model('./savedModels/ceps_dense_model.h5')"
   ]
  },
  {
   "cell_type": "code",
   "execution_count": 12,
   "metadata": {
    "collapsed": false
   },
   "outputs": [
    {
     "name": "stdout",
     "output_type": "stream",
     "text": [
      "[[ 0.00929072  0.01603796  0.07182951  0.00890301  0.01556351  0.00148148\n",
      "   0.81044418  0.01330246  0.00239329  0.05075385]]\n",
      "6\n"
     ]
    }
   ],
   "source": [
    "predict_result_chk = chk_model.predict(predict_data)\n",
    "print(predict_result_chk)\n",
    "print(np.argmax(predict_result_chk))"
   ]
  }
 ],
 "metadata": {
  "anaconda-cloud": {},
  "kernelspec": {
   "display_name": "Python [conda root]",
   "language": "python",
   "name": "conda-root-py"
  },
  "language_info": {
   "codemirror_mode": {
    "name": "ipython",
    "version": 3
   },
   "file_extension": ".py",
   "mimetype": "text/x-python",
   "name": "python",
   "nbconvert_exporter": "python",
   "pygments_lexer": "ipython3",
   "version": "3.5.2"
  }
 },
 "nbformat": 4,
 "nbformat_minor": 1
}
