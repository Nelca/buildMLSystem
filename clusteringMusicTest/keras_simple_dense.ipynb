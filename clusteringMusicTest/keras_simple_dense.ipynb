{
 "cells": [
  {
   "cell_type": "code",
   "execution_count": 1,
   "metadata": {
    "collapsed": false
   },
   "outputs": [
    {
     "name": "stderr",
     "output_type": "stream",
     "text": [
      "Using TensorFlow backend.\n"
     ]
    }
   ],
   "source": [
    "import keras\n",
    "from keras.models import Sequential\n",
    "from keras.layers import Dense, Dropout, Activation\n",
    "from keras.optimizers import SGD, Adam\n",
    "from keras.layers.normalization import BatchNormalization\n",
    "\n",
    "from read_dataset import read_ceps_with_train_test\n",
    "import numpy as np\n",
    "from create_data_ceps import createCepsSS\n",
    "from read_saved_models import loadCepsStanderdScaler\n",
    "\n",
    "from matplotlib import pyplot as plt\n",
    "%matplotlib inline"
   ]
  },
  {
   "cell_type": "code",
   "execution_count": 2,
   "metadata": {
    "collapsed": false,
    "scrolled": true
   },
   "outputs": [],
   "source": [
    "X_train, X_test, y_train, y_test = read_ceps_with_train_test()"
   ]
  },
  {
   "cell_type": "code",
   "execution_count": 3,
   "metadata": {
    "collapsed": true
   },
   "outputs": [],
   "source": [
    "def getStanderizedData(data):\n",
    "    data_shape = data.shape\n",
    "    n = data_shape[0]\n",
    "    reshaped_data = data.reshape(n, -1)\n",
    "    saved_ss = loadCepsStanderdScaler()\n",
    "    trasformed_data = saved_ss.transform(reshaped_data)\n",
    "    ret_data = trasformed_data.reshape(data_shape)\n",
    "    return ret_data"
   ]
  },
  {
   "cell_type": "code",
   "execution_count": 4,
   "metadata": {
    "collapsed": false
   },
   "outputs": [],
   "source": [
    "X_ss_train = getStanderizedData(X_train)\n",
    "X_ss_test = getStanderizedData(X_test)"
   ]
  },
  {
   "cell_type": "code",
   "execution_count": 5,
   "metadata": {
    "collapsed": false
   },
   "outputs": [],
   "source": [
    "model = Sequential()\n",
    "\n",
    "# this layerf from https://keras.io/getting-started/sequntial-model-guide/\n",
    "# Dense(64) is fully-connected layer with 64 hidden units\n",
    "model.add(Dense(100, activation='relu', input_dim=20))\n",
    "model.add(Dropout(0.5))\n",
    "model.add(BatchNormalization())\n",
    "model.add(Dense(100, activation='relu'))\n",
    "model.add(Dropout(0.4))\n",
    "model.add(BatchNormalization())\n",
    "model.add(Dense(50, activation='relu'))\n",
    "model.add(Dropout(0.5))\n",
    "model.add(BatchNormalization())\n",
    "model.add(Dense(10, activation='softmax'))\n",
    "\n",
    "# sgd = SGD(lr=0.001, decay=1e-6, momentum=0.9, nesterov=True)\n",
    "adam = Adam(lr=0.01, decay=1e-7)\n",
    "\n",
    "model.compile(loss='categorical_crossentropy',\n",
    "             optimizer=adam,\n",
    "             metrics=['accuracy'])\n",
    "epoch = 20"
   ]
  },
  {
   "cell_type": "code",
   "execution_count": 6,
   "metadata": {
    "collapsed": false,
    "scrolled": true
   },
   "outputs": [
    {
     "name": "stdout",
     "output_type": "stream",
     "text": [
      "Train on 480 samples, validate on 120 samples\n",
      "Epoch 1/20\n",
      "480/480 [==============================] - 5s - loss: 2.7136 - acc: 0.1396 - val_loss: 2.1551 - val_acc: 0.2333\n",
      "Epoch 2/20\n",
      "480/480 [==============================] - 0s - loss: 2.2320 - acc: 0.2250 - val_loss: 2.0985 - val_acc: 0.2917\n",
      "Epoch 3/20\n",
      "480/480 [==============================] - 0s - loss: 2.0205 - acc: 0.3042 - val_loss: 2.1165 - val_acc: 0.3000\n",
      "Epoch 4/20\n",
      "480/480 [==============================] - 0s - loss: 1.9206 - acc: 0.3396 - val_loss: 2.0147 - val_acc: 0.2833\n",
      "Epoch 5/20\n",
      "480/480 [==============================] - 0s - loss: 1.8219 - acc: 0.3604 - val_loss: 1.8974 - val_acc: 0.2917\n",
      "Epoch 6/20\n",
      "480/480 [==============================] - 0s - loss: 1.7000 - acc: 0.4083 - val_loss: 1.8224 - val_acc: 0.2917\n",
      "Epoch 7/20\n",
      "480/480 [==============================] - 0s - loss: 1.6962 - acc: 0.3771 - val_loss: 1.7760 - val_acc: 0.3000\n",
      "Epoch 8/20\n",
      "480/480 [==============================] - 0s - loss: 1.6207 - acc: 0.4167 - val_loss: 1.7224 - val_acc: 0.3083\n",
      "Epoch 9/20\n",
      "480/480 [==============================] - 0s - loss: 1.6295 - acc: 0.4333 - val_loss: 1.6777 - val_acc: 0.3250\n",
      "Epoch 10/20\n",
      "480/480 [==============================] - 0s - loss: 1.5804 - acc: 0.4479 - val_loss: 1.6856 - val_acc: 0.3750\n",
      "Epoch 11/20\n",
      "480/480 [==============================] - 0s - loss: 1.6037 - acc: 0.4083 - val_loss: 1.6309 - val_acc: 0.4083\n",
      "Epoch 12/20\n",
      "480/480 [==============================] - 0s - loss: 1.4841 - acc: 0.4833 - val_loss: 1.5788 - val_acc: 0.4083\n",
      "Epoch 13/20\n",
      "480/480 [==============================] - 0s - loss: 1.4434 - acc: 0.4750 - val_loss: 1.5389 - val_acc: 0.4083\n",
      "Epoch 14/20\n",
      "480/480 [==============================] - 0s - loss: 1.5074 - acc: 0.4458 - val_loss: 1.5528 - val_acc: 0.3917\n",
      "Epoch 15/20\n",
      "480/480 [==============================] - 0s - loss: 1.3967 - acc: 0.4875 - val_loss: 1.5569 - val_acc: 0.3667\n",
      "Epoch 16/20\n",
      "480/480 [==============================] - 0s - loss: 1.4310 - acc: 0.5021 - val_loss: 1.4985 - val_acc: 0.4000\n",
      "Epoch 17/20\n",
      "480/480 [==============================] - 0s - loss: 1.3138 - acc: 0.5021 - val_loss: 1.4502 - val_acc: 0.4167\n",
      "Epoch 18/20\n",
      "480/480 [==============================] - 0s - loss: 1.3192 - acc: 0.5229 - val_loss: 1.4554 - val_acc: 0.4333\n",
      "Epoch 19/20\n",
      "480/480 [==============================] - 0s - loss: 1.3771 - acc: 0.5042 - val_loss: 1.4210 - val_acc: 0.4333\n",
      "Epoch 20/20\n",
      "480/480 [==============================] - 0s - loss: 1.3307 - acc: 0.5479 - val_loss: 1.4328 - val_acc: 0.4250\n"
     ]
    }
   ],
   "source": [
    "result = model.fit(X_ss_train, y_train, epochs=epoch, batch_size=100,  validation_split=0.2)"
   ]
  },
  {
   "cell_type": "code",
   "execution_count": 7,
   "metadata": {
    "collapsed": false,
    "scrolled": true
   },
   "outputs": [
    {
     "name": "stdout",
     "output_type": "stream",
     "text": [
      "100/400 [======>.......................] - ETA: 0s\n",
      "['loss', 'acc']\n",
      "[1.3474427759647369, 0.51999998837709427]\n"
     ]
    },
    {
     "data": {
      "image/png": "[encoded data removed]",
      "text/plain": [
       "<matplotlib.figure.Figure at 0x7fbe985f4c88>"
      ]
     },
     "metadata": {},
     "output_type": "display_data"
    }
   ],
   "source": [
    "x = range(epoch)\n",
    "plt.plot(x, result.history['acc'], label='train accuracy')\n",
    "plt.plot(x, result.history['val_acc'], label='test accuracy')\n",
    "plt.legend(loc='center left', bbox_to_anchor=(1, 0.5))\n",
    "\n",
    "score = model.evaluate(X_ss_test, y_test, batch_size=100)\n",
    "print(\"\")\n",
    "print(model.metrics_names)\n",
    "print(score)"
   ]
  },
  {
   "cell_type": "code",
   "execution_count": 8,
   "metadata": {
    "collapsed": true
   },
   "outputs": [],
   "source": [
    "model_filepath = \"./savedModels/ceps_standerized_dense_model.h5\"\n",
    "model.save(model_filepath)"
   ]
  },
  {
   "cell_type": "code",
   "execution_count": 9,
   "metadata": {
    "collapsed": false
   },
   "outputs": [],
   "source": [
    "file_path = \"../data/songData/genres/disco/disco.00006.ceps.npy\"\n",
    "ceps = np.load(file_path)\n",
    "\n",
    "t_ceps = ceps.transpose()\n",
    "t_num_ceps = len(t_ceps)\n",
    "t_ceps_mean = np.mean(t_ceps[int(t_num_ceps / 10):int(t_num_ceps * 9 / 10)], axis=0)\n",
    "predict_data = np.array([t_ceps_mean])\n",
    "predict_data = getStanderizedData(predict_data)"
   ]
  },
  {
   "cell_type": "code",
   "execution_count": 10,
   "metadata": {
    "collapsed": false
   },
   "outputs": [
    {
     "name": "stdout",
     "output_type": "stream",
     "text": [
      "[[ 0.10700841  0.00580404  0.07550108  0.16170007  0.01823782  0.00376182\n",
      "   0.26405472  0.00872526  0.0131992   0.34200758]]\n",
      "9\n"
     ]
    }
   ],
   "source": [
    "predict_result = model.predict(predict_data)\n",
    "print(predict_result)\n",
    "print(np.argmax(predict_result))"
   ]
  }
 ],
 "metadata": {
  "anaconda-cloud": {},
  "kernelspec": {
   "display_name": "Python [conda root]",
   "language": "python",
   "name": "conda-root-py"
  },
  "language_info": {
   "codemirror_mode": {
    "name": "ipython",
    "version": 3
   },
   "file_extension": ".py",
   "mimetype": "text/x-python",
   "name": "python",
   "nbconvert_exporter": "python",
   "pygments_lexer": "ipython3",
   "version": "3.5.2"
  }
 },
 "nbformat": 4,
 "nbformat_minor": 1
}
