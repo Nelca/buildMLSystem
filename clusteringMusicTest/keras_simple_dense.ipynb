{
 "cells": [
  {
   "cell_type": "code",
   "execution_count": 1,
   "metadata": {
    "collapsed": false
   },
   "outputs": [
    {
     "name": "stderr",
     "output_type": "stream",
     "text": [
      "Using TensorFlow backend.\n"
     ]
    }
   ],
   "source": [
    "import keras\n",
    "from keras.models import Sequential\n",
    "from keras.layers import Dense, Dropout, Activation\n",
    "from keras.optimizers import SGD, Adam\n",
    "from keras.layers.normalization import BatchNormalization\n",
    "\n",
    "from read_dataset import read_ceps_with_train_test\n",
    "import numpy as np\n",
    "from create_data_ceps import createCepsSS\n",
    "from read_saved_models import loadCepsStanderdScaler\n",
    "\n",
    "from matplotlib import pyplot as plt\n",
    "%matplotlib inline"
   ]
  },
  {
   "cell_type": "code",
   "execution_count": 2,
   "metadata": {
    "collapsed": false,
    "scrolled": true
   },
   "outputs": [],
   "source": [
    "X_train, X_test, y_train, y_test = read_ceps_with_train_test()"
   ]
  },
  {
   "cell_type": "code",
   "execution_count": 3,
   "metadata": {
    "collapsed": true
   },
   "outputs": [],
   "source": [
    "def getStanderizedData(data):\n",
    "    data_shape = data.shape\n",
    "    n = data_shape[0]\n",
    "    reshaped_data = data.reshape(n, -1)\n",
    "    saved_ss = loadCepsStanderdScaler()\n",
    "    trasformed_data = saved_ss.transform(reshaped_data)\n",
    "    ret_data = trasformed_data.reshape(data_shape)\n",
    "    return ret_data"
   ]
  },
  {
   "cell_type": "code",
   "execution_count": 4,
   "metadata": {
    "collapsed": false
   },
   "outputs": [],
   "source": [
    "X_ss_train = getStanderizedData(X_train)\n",
    "X_ss_test = getStanderizedData(X_test)"
   ]
  },
  {
   "cell_type": "code",
   "execution_count": 5,
   "metadata": {
    "collapsed": true
   },
   "outputs": [],
   "source": [
    "layer_1_outdim = 600\n",
    "layer_1_dropout = 0.5\n",
    "layer_2_outdim = 300\n",
    "layer_2_dropout = 0.5\n",
    "layer_3_outdim = 200\n",
    "layer_3_dropout = 0.4\n",
    "layer_4_outdim = 100\n",
    "layer_4_dropout = 0.3"
   ]
  },
  {
   "cell_type": "code",
   "execution_count": 6,
   "metadata": {
    "collapsed": false
   },
   "outputs": [],
   "source": [
    "model = Sequential()\n",
    "\n",
    "# this layerf from https://keras.io/getting-started/sequntial-model-guide/\n",
    "# Dense(64) is fully-connected layer with 64 hidden units\n",
    "model.add(Dense(layer_1_outdim, activation='relu', input_dim=20))\n",
    "model.add(Dropout(layer_1_dropout))\n",
    "model.add(BatchNormalization())\n",
    "\n",
    "model.add(Dense(layer_2_outdim, activation='relu'))\n",
    "model.add(Dropout(layer_2_dropout))\n",
    "model.add(BatchNormalization())\n",
    "\n",
    "model.add(Dense(layer_3_outdim, activation='relu'))\n",
    "model.add(Dropout(layer_3_dropout))\n",
    "model.add(BatchNormalization())\n",
    "\n",
    "model.add(Dense(10, activation='softmax'))\n",
    "\n",
    "# sgd = SGD(lr=0.001, decay=1e-6, momentum=0.9, nesterov=True)\n",
    "adam = Adam(lr=0.01, decay=1e-7)\n",
    "\n",
    "model.compile(loss='categorical_crossentropy',\n",
    "             optimizer=adam,\n",
    "             metrics=['accuracy'])\n",
    "epoch = 20"
   ]
  },
  {
   "cell_type": "code",
   "execution_count": 7,
   "metadata": {
    "collapsed": false,
    "scrolled": true
   },
   "outputs": [
    {
     "name": "stdout",
     "output_type": "stream",
     "text": [
      "Train on 480 samples, validate on 120 samples\n",
      "Epoch 1/20\n",
      "480/480 [==============================] - 3s - loss: 2.4733 - acc: 0.2271 - val_loss: 2.2308 - val_acc: 0.2833\n",
      "Epoch 2/20\n",
      "480/480 [==============================] - 0s - loss: 1.8626 - acc: 0.3979 - val_loss: 3.5079 - val_acc: 0.3000\n",
      "Epoch 3/20\n",
      "480/480 [==============================] - 0s - loss: 1.6761 - acc: 0.4271 - val_loss: 4.7157 - val_acc: 0.2917\n",
      "Epoch 4/20\n",
      "480/480 [==============================] - 0s - loss: 1.4563 - acc: 0.4771 - val_loss: 4.1115 - val_acc: 0.3000\n",
      "Epoch 5/20\n",
      "480/480 [==============================] - 0s - loss: 1.3230 - acc: 0.5313 - val_loss: 3.6168 - val_acc: 0.3250\n",
      "Epoch 6/20\n",
      "480/480 [==============================] - 0s - loss: 1.3198 - acc: 0.5125 - val_loss: 3.2980 - val_acc: 0.3667\n",
      "Epoch 7/20\n",
      "480/480 [==============================] - 0s - loss: 1.1933 - acc: 0.5396 - val_loss: 2.7237 - val_acc: 0.4000\n",
      "Epoch 8/20\n",
      "480/480 [==============================] - 0s - loss: 1.1857 - acc: 0.5604 - val_loss: 2.2132 - val_acc: 0.4083\n",
      "Epoch 9/20\n",
      "480/480 [==============================] - 0s - loss: 1.0943 - acc: 0.6042 - val_loss: 1.9820 - val_acc: 0.3917\n",
      "Epoch 10/20\n",
      "480/480 [==============================] - 0s - loss: 1.0926 - acc: 0.6375 - val_loss: 1.8616 - val_acc: 0.4167\n",
      "Epoch 11/20\n",
      "480/480 [==============================] - 0s - loss: 1.0259 - acc: 0.6187 - val_loss: 1.7370 - val_acc: 0.4500\n",
      "Epoch 12/20\n",
      "480/480 [==============================] - 0s - loss: 1.0030 - acc: 0.6250 - val_loss: 1.5082 - val_acc: 0.4917\n",
      "Epoch 13/20\n",
      "480/480 [==============================] - 0s - loss: 0.9055 - acc: 0.6708 - val_loss: 1.5794 - val_acc: 0.5000\n",
      "Epoch 14/20\n",
      "480/480 [==============================] - 0s - loss: 0.9478 - acc: 0.6458 - val_loss: 1.6366 - val_acc: 0.4583\n",
      "Epoch 15/20\n",
      "480/480 [==============================] - 0s - loss: 0.8768 - acc: 0.6896 - val_loss: 1.4067 - val_acc: 0.5250\n",
      "Epoch 16/20\n",
      "480/480 [==============================] - 0s - loss: 0.9760 - acc: 0.6458 - val_loss: 1.3936 - val_acc: 0.5250\n",
      "Epoch 17/20\n",
      "480/480 [==============================] - 0s - loss: 0.9081 - acc: 0.6542 - val_loss: 1.4875 - val_acc: 0.4833\n",
      "Epoch 18/20\n",
      "480/480 [==============================] - 0s - loss: 0.8829 - acc: 0.7000 - val_loss: 1.3788 - val_acc: 0.5000\n",
      "Epoch 19/20\n",
      "480/480 [==============================] - 0s - loss: 0.8996 - acc: 0.6937 - val_loss: 1.3646 - val_acc: 0.5417\n",
      "Epoch 20/20\n",
      "480/480 [==============================] - 0s - loss: 0.7705 - acc: 0.7271 - val_loss: 1.3883 - val_acc: 0.5167\n"
     ]
    }
   ],
   "source": [
    "result = model.fit(X_ss_train, y_train, epochs=epoch, batch_size=100,  validation_split=0.2)"
   ]
  },
  {
   "cell_type": "code",
   "execution_count": 8,
   "metadata": {
    "collapsed": false,
    "scrolled": true
   },
   "outputs": [
    {
     "name": "stdout",
     "output_type": "stream",
     "text": [
      "100/400 [======>.......................] - ETA: 0s\n",
      "['loss', 'acc']\n",
      "[1.2371015846729279, 0.56749999523162842]\n"
     ]
    },
    {
     "data": {
      "image/png": "[encoded data removed]",
      "text/plain": [
       "<matplotlib.figure.Figure at 0x7f0b06d2bef0>"
      ]
     },
     "metadata": {},
     "output_type": "display_data"
    }
   ],
   "source": [
    "x = range(epoch)\n",
    "plt.plot(x, result.history['acc'], label='train accuracy')\n",
    "plt.plot(x, result.history['val_acc'], label='test accuracy')\n",
    "plt.legend(loc='center left', bbox_to_anchor=(1, 0.5))\n",
    "\n",
    "score = model.evaluate(X_ss_test, y_test, batch_size=100)\n",
    "print(\"\")\n",
    "print(model.metrics_names)\n",
    "print(score)"
   ]
  },
  {
   "cell_type": "code",
   "execution_count": 9,
   "metadata": {
    "collapsed": true
   },
   "outputs": [],
   "source": [
    "model_filepath = \"./savedModels/ceps_standerized_dense_model.h5\"\n",
    "model.save(model_filepath)"
   ]
  },
  {
   "cell_type": "code",
   "execution_count": 10,
   "metadata": {
    "collapsed": false
   },
   "outputs": [
    {
     "data": {
      "text/plain": [
       "\"\\nnote\\n\\n---\\nlayer_1_outdim = 100\\nlayer_1_dropout = 0.5\\nlayer_2_outdim = 100\\nlayer_2_dropout = 0.4\\nlayer_3_outdim = 50\\nlayer_3_dropout = 0.5\\nloss: 1.3307 - acc: 0.5479 - val_loss: 1.4328 - val_acc: 0.4250\\ntest['loss', 'acc'][1.3474427759647369, 0.51999998837709427]\\n---\\n\\n\""
      ]
     },
     "execution_count": 10,
     "metadata": {},
     "output_type": "execute_result"
    }
   ],
   "source": [
    "\"\"\"\n",
    "note\n",
    "\n",
    "---\n",
    "layer_1_outdim = 100\n",
    "layer_1_dropout = 0.5\n",
    "layer_2_outdim = 100\n",
    "layer_2_dropout = 0.4\n",
    "layer_3_outdim = 50\n",
    "layer_3_dropout = 0.5\n",
    "loss: 1.3307 - acc: 0.5479 - val_loss: 1.4328 - val_acc: 0.4250\n",
    "test['loss', 'acc'][1.3474427759647369, 0.51999998837709427]\n",
    "---\n",
    "\n",
    "\"\"\""
   ]
  },
  {
   "cell_type": "code",
   "execution_count": 11,
   "metadata": {
    "collapsed": false
   },
   "outputs": [],
   "source": [
    "file_path = \"../data/songData/genres/disco/disco.00006.ceps.npy\"\n",
    "ceps = np.load(file_path)\n",
    "\n",
    "t_ceps = ceps.transpose()\n",
    "t_num_ceps = len(t_ceps)\n",
    "t_ceps_mean = np.mean(t_ceps[int(t_num_ceps / 10):int(t_num_ceps * 9 / 10)], axis=0)\n",
    "predict_data = np.array([t_ceps_mean])\n",
    "predict_data = getStanderizedData(predict_data)"
   ]
  },
  {
   "cell_type": "code",
   "execution_count": 12,
   "metadata": {
    "collapsed": false
   },
   "outputs": [
    {
     "name": "stdout",
     "output_type": "stream",
     "text": [
      "[[ 0.02450029  0.00282325  0.06668147  0.26487291  0.00333071  0.0019709\n",
      "   0.11277793  0.00311872  0.00812419  0.51179969]]\n",
      "9\n"
     ]
    }
   ],
   "source": [
    "predict_result = model.predict(predict_data)\n",
    "print(predict_result)\n",
    "print(np.argmax(predict_result))"
   ]
  }
 ],
 "metadata": {
  "anaconda-cloud": {},
  "kernelspec": {
   "display_name": "Python [conda root]",
   "language": "python",
   "name": "conda-root-py"
  },
  "language_info": {
   "codemirror_mode": {
    "name": "ipython",
    "version": 3
   },
   "file_extension": ".py",
   "mimetype": "text/x-python",
   "name": "python",
   "nbconvert_exporter": "python",
   "pygments_lexer": "ipython3",
   "version": "3.5.2"
  }
 },
 "nbformat": 4,
 "nbformat_minor": 1
}
