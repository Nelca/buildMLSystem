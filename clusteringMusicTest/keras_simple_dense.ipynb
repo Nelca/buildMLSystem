{
 "cells": [
  {
   "cell_type": "code",
   "execution_count": 1,
   "metadata": {
    "collapsed": false
   },
   "outputs": [
    {
     "name": "stderr",
     "output_type": "stream",
     "text": [
      "Using TensorFlow backend.\n"
     ]
    }
   ],
   "source": [
    "import keras\n",
    "from keras.models import Sequential\n",
    "from keras.layers import Dense, Dropout, Activation\n",
    "from keras.optimizers import SGD, Adam\n",
    "from keras.layers.normalization import BatchNormalization\n",
    "\n",
    "from read_dataset import read_ceps_with_train_test\n",
    "import numpy as np\n",
    "from create_data_ceps import createCepsSS\n",
    "from read_saved_models import loadCepsStanderdScaler\n",
    "\n",
    "from matplotlib import pyplot as plt\n",
    "%matplotlib inline"
   ]
  },
  {
   "cell_type": "code",
   "execution_count": 2,
   "metadata": {
    "collapsed": false,
    "scrolled": true
   },
   "outputs": [],
   "source": [
    "X_train, X_test, y_train, y_test = read_ceps_with_train_test()"
   ]
  },
  {
   "cell_type": "code",
   "execution_count": 3,
   "metadata": {
    "collapsed": true
   },
   "outputs": [],
   "source": [
    "def getStanderizedData(data):\n",
    "    data_shape = data.shape\n",
    "    n = data_shape[0]\n",
    "    reshaped_data = data.reshape(n, -1)\n",
    "    saved_ss = loadCepsStanderdScaler()\n",
    "    trasformed_data = saved_ss.transform(reshaped_data)\n",
    "    ret_data = trasformed_data.reshape(data_shape)\n",
    "    return ret_data"
   ]
  },
  {
   "cell_type": "code",
   "execution_count": 4,
   "metadata": {
    "collapsed": false
   },
   "outputs": [],
   "source": [
    "X_ss_train = getStanderizedData(X_train)\n",
    "X_ss_test = getStanderizedData(X_test)"
   ]
  },
  {
   "cell_type": "code",
   "execution_count": 13,
   "metadata": {
    "collapsed": true
   },
   "outputs": [],
   "source": [
    "layer_1_outdim = 1000\n",
    "layer_1_dropout = 0.7\n",
    "layer_2_outdim = 500\n",
    "layer_2_dropout = 0.6\n",
    "layer_3_outdim = 100\n",
    "layer_3_dropout = 0.3\n",
    "layer_4_outdim = 100\n",
    "layer_4_dropout = 0.4"
   ]
  },
  {
   "cell_type": "code",
   "execution_count": 32,
   "metadata": {
    "collapsed": false
   },
   "outputs": [],
   "source": [
    "model = Sequential()\n",
    "\n",
    "# this layerf from https://keras.io/getting-started/sequntial-model-guide/\n",
    "# Dense(64) is fully-connected layer with 64 hidden units\n",
    "model.add(Dense(layer_1_outdim, activation='relu', input_dim=20))\n",
    "model.add(Dropout(layer_1_dropout))\n",
    "model.add(BatchNormalization())\n",
    "\n",
    "model.add(Dense(layer_2_outdim, activation='relu'))\n",
    "model.add(Dropout(layer_2_dropout))\n",
    "model.add(BatchNormalization())\n",
    "\n",
    "model.add(Dense(layer_3_outdim, activation='relu'))\n",
    "model.add(Dropout(layer_3_dropout))\n",
    "model.add(BatchNormalization())\n",
    "\n",
    "model.add(Dense(10, activation='softmax'))\n",
    "\n",
    "# sgd = SGD(lr=0.001, decay=1e-6, momentum=0.9, nesterov=True)\n",
    "adam = Adam(lr=0.01, decay=1e-9)\n",
    "\n",
    "model.compile(loss='categorical_crossentropy',\n",
    "             optimizer=adam,\n",
    "             metrics=['accuracy'])\n",
    "epoch = 20"
   ]
  },
  {
   "cell_type": "code",
   "execution_count": 33,
   "metadata": {
    "collapsed": false,
    "scrolled": true
   },
   "outputs": [
    {
     "name": "stdout",
     "output_type": "stream",
     "text": [
      "Train on 480 samples, validate on 120 samples\n",
      "Epoch 1/20\n",
      "480/480 [==============================] - 4s - loss: 2.4931 - acc: 0.2438 - val_loss: 2.5432 - val_acc: 0.2667\n",
      "Epoch 2/20\n",
      "480/480 [==============================] - 0s - loss: 1.9414 - acc: 0.3500 - val_loss: 4.1776 - val_acc: 0.2667\n",
      "Epoch 3/20\n",
      "480/480 [==============================] - 0s - loss: 1.7696 - acc: 0.3958 - val_loss: 5.7370 - val_acc: 0.2833\n",
      "Epoch 4/20\n",
      "480/480 [==============================] - 0s - loss: 1.5942 - acc: 0.4500 - val_loss: 6.2291 - val_acc: 0.2833\n",
      "Epoch 5/20\n",
      "480/480 [==============================] - 0s - loss: 1.4781 - acc: 0.4479 - val_loss: 5.9897 - val_acc: 0.2917\n",
      "Epoch 6/20\n",
      "480/480 [==============================] - 0s - loss: 1.5007 - acc: 0.4667 - val_loss: 5.4573 - val_acc: 0.2917\n",
      "Epoch 7/20\n",
      "480/480 [==============================] - 0s - loss: 1.3818 - acc: 0.4542 - val_loss: 4.4578 - val_acc: 0.3167\n",
      "Epoch 8/20\n",
      "480/480 [==============================] - 0s - loss: 1.3722 - acc: 0.4687 - val_loss: 3.9926 - val_acc: 0.3167\n",
      "Epoch 9/20\n",
      "480/480 [==============================] - 0s - loss: 1.3055 - acc: 0.5333 - val_loss: 3.5336 - val_acc: 0.3167\n",
      "Epoch 10/20\n",
      "480/480 [==============================] - 0s - loss: 1.2698 - acc: 0.5375 - val_loss: 3.0161 - val_acc: 0.3250\n",
      "Epoch 11/20\n",
      "480/480 [==============================] - 0s - loss: 1.2696 - acc: 0.5375 - val_loss: 2.5906 - val_acc: 0.3667\n",
      "Epoch 12/20\n",
      "480/480 [==============================] - 0s - loss: 1.1959 - acc: 0.5604 - val_loss: 2.2285 - val_acc: 0.3833\n",
      "Epoch 13/20\n",
      "480/480 [==============================] - 0s - loss: 1.1821 - acc: 0.5667 - val_loss: 2.1897 - val_acc: 0.4000\n",
      "Epoch 14/20\n",
      "480/480 [==============================] - 0s - loss: 1.1355 - acc: 0.5792 - val_loss: 1.9312 - val_acc: 0.4250\n",
      "Epoch 15/20\n",
      "480/480 [==============================] - 0s - loss: 1.1975 - acc: 0.5521 - val_loss: 1.7697 - val_acc: 0.4750\n",
      "Epoch 16/20\n",
      "480/480 [==============================] - 0s - loss: 1.1885 - acc: 0.5500 - val_loss: 1.7616 - val_acc: 0.4667\n",
      "Epoch 17/20\n",
      "480/480 [==============================] - 0s - loss: 1.1007 - acc: 0.6021 - val_loss: 1.7364 - val_acc: 0.4417\n",
      "Epoch 18/20\n",
      "480/480 [==============================] - 0s - loss: 1.0864 - acc: 0.6083 - val_loss: 1.7216 - val_acc: 0.4833\n",
      "Epoch 19/20\n",
      "480/480 [==============================] - 0s - loss: 1.1071 - acc: 0.6083 - val_loss: 1.7014 - val_acc: 0.4750\n",
      "Epoch 20/20\n",
      "480/480 [==============================] - 0s - loss: 1.1240 - acc: 0.5771 - val_loss: 1.6599 - val_acc: 0.4833\n"
     ]
    }
   ],
   "source": [
    "result = model.fit(X_ss_train, y_train, epochs=epoch, batch_size=100,  validation_split=0.2)"
   ]
  },
  {
   "cell_type": "code",
   "execution_count": 34,
   "metadata": {
    "collapsed": false,
    "scrolled": true
   },
   "outputs": [
    {
     "name": "stdout",
     "output_type": "stream",
     "text": [
      "400/400 [==============================] - 0s     \n",
      "\n",
      "['loss', 'acc']\n",
      "[1.4789343178272247, 0.52749998867511749]\n"
     ]
    },
    {
     "data": {
      "image/png": "[encoded data removed]",
      "text/plain": [
       "<matplotlib.figure.Figure at 0x7f4c7f0cf780>"
      ]
     },
     "metadata": {},
     "output_type": "display_data"
    }
   ],
   "source": [
    "x = range(epoch)\n",
    "plt.plot(x, result.history['acc'], label='train accuracy')\n",
    "plt.plot(x, result.history['val_acc'], label='test accuracy')\n",
    "plt.legend(loc='center left', bbox_to_anchor=(1, 0.5))\n",
    "\n",
    "score = model.evaluate(X_ss_test, y_test, batch_size=100)\n",
    "print(\"\")\n",
    "print(model.metrics_names)\n",
    "print(score)"
   ]
  },
  {
   "cell_type": "code",
   "execution_count": 9,
   "metadata": {
    "collapsed": true
   },
   "outputs": [],
   "source": [
    "model_filepath = \"./savedModels/ceps_standerized_dense_model.h5\"\n",
    "model.save(model_filepath)"
   ]
  },
  {
   "cell_type": "code",
   "execution_count": 10,
   "metadata": {
    "collapsed": false
   },
   "outputs": [
    {
     "data": {
      "text/plain": [
       "\"\\nnote\\n\\n---\\nlayer_1_outdim = 100\\nlayer_1_dropout = 0.5\\nlayer_2_outdim = 100\\nlayer_2_dropout = 0.4\\nlayer_3_outdim = 50\\nlayer_3_dropout = 0.5\\nloss: 1.3307 - acc: 0.5479 - val_loss: 1.4328 - val_acc: 0.4250\\ntest['loss', 'acc'][1.3474427759647369, 0.51999998837709427]\\n---\\n\\n\""
      ]
     },
     "execution_count": 10,
     "metadata": {},
     "output_type": "execute_result"
    }
   ],
   "source": [
    "\"\"\"\n",
    "note\n",
    "\n",
    "---\n",
    "layer_1_outdim = 100\n",
    "layer_1_dropout = 0.5\n",
    "layer_2_outdim = 100\n",
    "layer_2_dropout = 0.4\n",
    "layer_3_outdim = 50\n",
    "layer_3_dropout = 0.5\n",
    "loss: 1.3307 - acc: 0.5479 - val_loss: 1.4328 - val_acc: 0.4250\n",
    "test['loss', 'acc'][1.3474427759647369, 0.51999998837709427]\n",
    "---\n",
    "\n",
    "\"\"\""
   ]
  },
  {
   "cell_type": "code",
   "execution_count": 11,
   "metadata": {
    "collapsed": false
   },
   "outputs": [],
   "source": [
    "file_path = \"../data/songData/genres/disco/disco.00006.ceps.npy\"\n",
    "ceps = np.load(file_path)\n",
    "\n",
    "t_ceps = ceps.transpose()\n",
    "t_num_ceps = len(t_ceps)\n",
    "t_ceps_mean = np.mean(t_ceps[int(t_num_ceps / 10):int(t_num_ceps * 9 / 10)], axis=0)\n",
    "predict_data = np.array([t_ceps_mean])\n",
    "predict_data = getStanderizedData(predict_data)"
   ]
  },
  {
   "cell_type": "code",
   "execution_count": 12,
   "metadata": {
    "collapsed": false
   },
   "outputs": [
    {
     "name": "stdout",
     "output_type": "stream",
     "text": [
      "[[ 0.08746123  0.00187122  0.12548836  0.12195867  0.00825068  0.00164968\n",
      "   0.20659859  0.00768998  0.00512603  0.43390548]]\n",
      "9\n"
     ]
    }
   ],
   "source": [
    "predict_result = model.predict(predict_data)\n",
    "print(predict_result)\n",
    "print(np.argmax(predict_result))"
   ]
  }
 ],
 "metadata": {
  "anaconda-cloud": {},
  "kernelspec": {
   "display_name": "Python [conda root]",
   "language": "python",
   "name": "conda-root-py"
  },
  "language_info": {
   "codemirror_mode": {
    "name": "ipython",
    "version": 3
   },
   "file_extension": ".py",
   "mimetype": "text/x-python",
   "name": "python",
   "nbconvert_exporter": "python",
   "pygments_lexer": "ipython3",
   "version": "3.5.2"
  }
 },
 "nbformat": 4,
 "nbformat_minor": 1
}
