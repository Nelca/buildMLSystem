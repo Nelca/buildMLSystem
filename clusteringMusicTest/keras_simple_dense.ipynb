{
 "cells": [
  {
   "cell_type": "code",
   "execution_count": 1,
   "metadata": {
    "collapsed": false
   },
   "outputs": [
    {
     "name": "stderr",
     "output_type": "stream",
     "text": [
      "Using TensorFlow backend.\n"
     ]
    }
   ],
   "source": [
    "import keras\n",
    "from keras.models import Sequential\n",
    "from keras.layers import Dense, Dropout, Activation\n",
    "from keras.optimizers import SGD, Adam\n",
    "from keras.layers.normalization import BatchNormalization\n",
    "\n",
    "from read_dataset import read_ceps_with_train_test\n",
    "import numpy as np\n",
    "from create_data_ceps import createCepsSS\n",
    "from read_saved_models import loadCepsStanderdScaler\n",
    "\n",
    "from matplotlib import pyplot as plt\n",
    "%matplotlib inline"
   ]
  },
  {
   "cell_type": "code",
   "execution_count": 2,
   "metadata": {
    "collapsed": false,
    "scrolled": true
   },
   "outputs": [],
   "source": [
    "X_train, X_test, y_train, y_test = read_ceps_with_train_test()"
   ]
  },
  {
   "cell_type": "code",
   "execution_count": 3,
   "metadata": {
    "collapsed": true
   },
   "outputs": [],
   "source": [
    "def getStanderizedData(data):\n",
    "    data_shape = data.shape\n",
    "    n = data_shape[0]\n",
    "    reshaped_data = data.reshape(n, -1)\n",
    "    saved_ss = loadCepsStanderdScaler()\n",
    "    trasformed_data = saved_ss.transform(reshaped_data)\n",
    "    ret_data = trasformed_data.reshape(data_shape)\n",
    "    return ret_data"
   ]
  },
  {
   "cell_type": "code",
   "execution_count": 4,
   "metadata": {
    "collapsed": false
   },
   "outputs": [],
   "source": [
    "X_ss_train = getStanderizedData(X_train)\n",
    "X_ss_test = getStanderizedData(X_test)"
   ]
  },
  {
   "cell_type": "code",
   "execution_count": 5,
   "metadata": {
    "collapsed": false
   },
   "outputs": [],
   "source": [
    "model = Sequential()\n",
    "\n",
    "# this layerf from https://keras.io/getting-started/sequntial-model-guide/\n",
    "# Dense(64) is fully-connected layer with 64 hidden units\n",
    "model.add(Dense(100, activation='relu', input_dim=20))\n",
    "model.add(Dropout(0.5))\n",
    "model.add(BatchNormalization())\n",
    "model.add(Dense(50, activation='relu'))\n",
    "model.add(Dropout(0.4))\n",
    "model.add(BatchNormalization())\n",
    "model.add(Dense(10, activation='softmax'))\n",
    "\n",
    "# sgd = SGD(lr=0.001, decay=1e-6, momentum=0.9, nesterov=True)\n",
    "adam = Adam(lr=0.01, decay=1e-7)\n",
    "\n",
    "model.compile(loss='categorical_crossentropy',\n",
    "             optimizer=adam,\n",
    "             metrics=['accuracy'])\n",
    "epoch = 20"
   ]
  },
  {
   "cell_type": "code",
   "execution_count": 6,
   "metadata": {
    "collapsed": false,
    "scrolled": false
   },
   "outputs": [
    {
     "name": "stdout",
     "output_type": "stream",
     "text": [
      "Train on 480 samples, validate on 120 samples\n",
      "Epoch 1/20\n",
      "480/480 [==============================] - 2s - loss: 2.5263 - acc: 0.1854 - val_loss: 2.0596 - val_acc: 0.2250\n",
      "Epoch 2/20\n",
      "480/480 [==============================] - 0s - loss: 2.0377 - acc: 0.2979 - val_loss: 1.9830 - val_acc: 0.2750\n",
      "Epoch 3/20\n",
      "480/480 [==============================] - 0s - loss: 1.8114 - acc: 0.3521 - val_loss: 1.8589 - val_acc: 0.2917\n",
      "Epoch 4/20\n",
      "480/480 [==============================] - 0s - loss: 1.7578 - acc: 0.3896 - val_loss: 1.7614 - val_acc: 0.3167\n",
      "Epoch 5/20\n",
      "480/480 [==============================] - 0s - loss: 1.6256 - acc: 0.4312 - val_loss: 1.7163 - val_acc: 0.3250\n",
      "Epoch 6/20\n",
      "480/480 [==============================] - 0s - loss: 1.5700 - acc: 0.4479 - val_loss: 1.7139 - val_acc: 0.3583\n",
      "Epoch 7/20\n",
      "480/480 [==============================] - 0s - loss: 1.5282 - acc: 0.4271 - val_loss: 1.6807 - val_acc: 0.3917\n",
      "Epoch 8/20\n",
      "480/480 [==============================] - 0s - loss: 1.4814 - acc: 0.4667 - val_loss: 1.6113 - val_acc: 0.3917\n",
      "Epoch 9/20\n",
      "480/480 [==============================] - 0s - loss: 1.4452 - acc: 0.4521 - val_loss: 1.5603 - val_acc: 0.4500\n",
      "Epoch 10/20\n",
      "480/480 [==============================] - 0s - loss: 1.3336 - acc: 0.5167 - val_loss: 1.5426 - val_acc: 0.4500\n",
      "Epoch 11/20\n",
      "480/480 [==============================] - 0s - loss: 1.3962 - acc: 0.4792 - val_loss: 1.5442 - val_acc: 0.4250\n",
      "Epoch 12/20\n",
      "480/480 [==============================] - 0s - loss: 1.3344 - acc: 0.5187 - val_loss: 1.5347 - val_acc: 0.4583\n",
      "Epoch 13/20\n",
      "480/480 [==============================] - 0s - loss: 1.3328 - acc: 0.5458 - val_loss: 1.5069 - val_acc: 0.4583\n",
      "Epoch 14/20\n",
      "480/480 [==============================] - 0s - loss: 1.2838 - acc: 0.5479 - val_loss: 1.4721 - val_acc: 0.4500\n",
      "Epoch 15/20\n",
      "480/480 [==============================] - 0s - loss: 1.2466 - acc: 0.5646 - val_loss: 1.4394 - val_acc: 0.4917\n",
      "Epoch 16/20\n",
      "480/480 [==============================] - 0s - loss: 1.1854 - acc: 0.5437 - val_loss: 1.4354 - val_acc: 0.5250\n",
      "Epoch 17/20\n",
      "480/480 [==============================] - 0s - loss: 1.2836 - acc: 0.5667 - val_loss: 1.4264 - val_acc: 0.5250\n",
      "Epoch 18/20\n",
      "480/480 [==============================] - 0s - loss: 1.1463 - acc: 0.5854 - val_loss: 1.4187 - val_acc: 0.5167\n",
      "Epoch 19/20\n",
      "480/480 [==============================] - 0s - loss: 1.2021 - acc: 0.5438 - val_loss: 1.4070 - val_acc: 0.4917\n",
      "Epoch 20/20\n",
      "480/480 [==============================] - 0s - loss: 1.2106 - acc: 0.5625 - val_loss: 1.3946 - val_acc: 0.5000\n"
     ]
    }
   ],
   "source": [
    "result = model.fit(X_ss_train, y_train, epochs=epoch, batch_size=100,  validation_split=0.2)"
   ]
  },
  {
   "cell_type": "code",
   "execution_count": 7,
   "metadata": {
    "collapsed": false,
    "scrolled": true
   },
   "outputs": [
    {
     "data": {
      "text/plain": [
       "<matplotlib.legend.Legend at 0x7fc7a4623d30>"
      ]
     },
     "execution_count": 7,
     "metadata": {},
     "output_type": "execute_result"
    },
    {
     "data": {
      "image/png": "[encoded data removed]",
      "text/plain": [
       "<matplotlib.figure.Figure at 0x7fc7a67f1ba8>"
      ]
     },
     "metadata": {},
     "output_type": "display_data"
    }
   ],
   "source": [
    "x = range(epoch)\n",
    "plt.plot(x, result.history['acc'], label='train accuracy')\n",
    "plt.plot(x, result.history['val_acc'], label='test accuracy')\n",
    "plt.legend(loc='center left', bbox_to_anchor=(1, 0.5))"
   ]
  },
  {
   "cell_type": "code",
   "execution_count": 8,
   "metadata": {
    "collapsed": true
   },
   "outputs": [],
   "source": [
    "model_filepath = \"./savedModels/ceps_standerized_dense_model.h5\"\n",
    "model.save(model_filepath)"
   ]
  },
  {
   "cell_type": "code",
   "execution_count": 9,
   "metadata": {
    "collapsed": false
   },
   "outputs": [
    {
     "name": "stdout",
     "output_type": "stream",
     "text": [
      "100/400 [======>.......................] - ETA: 0s\n",
      "['loss', 'acc']\n",
      "[1.2590595185756683, 0.57750001549720764]\n"
     ]
    }
   ],
   "source": [
    "score = model.evaluate(X_ss_test, y_test, batch_size=100)\n",
    "print(\"\")\n",
    "print(model.metrics_names)\n",
    "print(score)"
   ]
  },
  {
   "cell_type": "code",
   "execution_count": 10,
   "metadata": {
    "collapsed": false
   },
   "outputs": [],
   "source": [
    "file_path = \"../data/songData/genres/disco/disco.00006.ceps.npy\"\n",
    "ceps = np.load(file_path)\n",
    "\n",
    "t_ceps = ceps.transpose()\n",
    "t_num_ceps = len(t_ceps)\n",
    "t_ceps_mean = np.mean(t_ceps[int(t_num_ceps / 10):int(t_num_ceps * 9 / 10)], axis=0)\n",
    "predict_data = np.array([t_ceps_mean])"
   ]
  },
  {
   "cell_type": "code",
   "execution_count": 11,
   "metadata": {
    "collapsed": false
   },
   "outputs": [
    {
     "name": "stdout",
     "output_type": "stream",
     "text": [
      "[[  1.00000000e+00   1.91556620e-22   2.88639258e-33   0.00000000e+00\n",
      "    0.00000000e+00   9.95707286e-29   8.09886053e-17   0.00000000e+00\n",
      "    0.00000000e+00   1.64678737e-35]]\n",
      "0\n"
     ]
    }
   ],
   "source": [
    "predict_result = model.predict(predict_data)\n",
    "print(predict_result)\n",
    "print(np.argmax(predict_result))"
   ]
  }
 ],
 "metadata": {
  "anaconda-cloud": {},
  "kernelspec": {
   "display_name": "Python [conda root]",
   "language": "python",
   "name": "conda-root-py"
  },
  "language_info": {
   "codemirror_mode": {
    "name": "ipython",
    "version": 3
   },
   "file_extension": ".py",
   "mimetype": "text/x-python",
   "name": "python",
   "nbconvert_exporter": "python",
   "pygments_lexer": "ipython3",
   "version": "3.5.2"
  }
 },
 "nbformat": 4,
 "nbformat_minor": 1
}
