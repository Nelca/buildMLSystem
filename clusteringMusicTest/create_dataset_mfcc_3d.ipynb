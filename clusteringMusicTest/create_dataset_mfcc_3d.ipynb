{
 "cells": [
  {
   "cell_type": "code",
   "execution_count": 1,
   "metadata": {
    "collapsed": false
   },
   "outputs": [
    {
     "name": "stderr",
     "output_type": "stream",
     "text": [
      "Using TensorFlow backend.\n"
     ]
    }
   ],
   "source": [
    "import os\n",
    "import glob\n",
    "import sys\n",
    "import numpy as np\n",
    "\n",
    "from sklearn.model_selection import train_test_split\n",
    "\n",
    "import keras\n",
    "import librosa\n",
    "import librosa.display\n",
    "import matplotlib.pyplot as plt\n",
    "import matplotlib.style as ms\n",
    "ms.use('seaborn-muted')\n",
    "%matplotlib inline\n",
    "\n",
    "GENRE_DIR = \"../data/songData/genres/\"\n",
    "GENRE_LIST = []\n",
    "#0\n",
    "GENRE_LIST.append(\"blues\")\n",
    "#1\n",
    "GENRE_LIST.append(\"classical\")\n",
    "#2\n",
    "GENRE_LIST.append(\"country\")\n",
    "#3\n",
    "GENRE_LIST.append(\"disco\")\n",
    "#4\n",
    "GENRE_LIST.append(\"hiphop\")\n",
    "#5\n",
    "GENRE_LIST.append(\"jazz\")\n",
    "#6\n",
    "GENRE_LIST.append(\"metal\")\n",
    "#7\n",
    "GENRE_LIST.append(\"pop\")\n",
    "#8\n",
    "GENRE_LIST.append(\"reggae\")\n",
    "#9\n",
    "GENRE_LIST.append(\"rock\")"
   ]
  },
  {
   "cell_type": "code",
   "execution_count": 2,
   "metadata": {
    "collapsed": false
   },
   "outputs": [],
   "source": [
    "def create_data_for_conv(genre_list=GENRE_LIST):\n",
    "    os.chdir(GENRE_DIR)\n",
    "    for genre in genre_list:\n",
    "        glob_wav = os.path.join(genre, \"*.wav\")\n",
    "        for fn in glob.glob(glob_wav):\n",
    "            create_mfcc_3d(fn) "
   ]
  },
  {
   "cell_type": "code",
   "execution_count": 3,
   "metadata": {
    "collapsed": true
   },
   "outputs": [],
   "source": [
    "def create_mfcc_3d(fn):\n",
    "    y, sr = librosa.load(fn)\n",
    "    y_harmonic, y_pertcussive = librosa.effects.hpss(y)\n",
    "    mfcc = librosa.feature.mfcc(y=y, sr=sr,n_mfcc=30)\n",
    "    harmonic_mfcc = librosa.feature.mfcc(y=y_harmonic, sr=sr,n_mfcc=30)\n",
    "    percus_mfcc = librosa.feature.mfcc(y=y_pertcussive, sr=sr,n_mfcc=30)\n",
    "    data = []\n",
    "    data.append(mfcc)\n",
    "    data.append(percus_mfcc)\n",
    "    data.append(harmonic_mfcc)\n",
    "    data = np.array(data)\n",
    "    \n",
    "    base_fn, ext = os.path.splitext(fn)\n",
    "    data_fn = base_fn + \".mfcc3d\"\n",
    "    np.save(data_fn, data)\n",
    "    print(\"Written\", data_fn)\n"
   ]
  },
  {
   "cell_type": "code",
   "execution_count": 13,
   "metadata": {
    "collapsed": false
   },
   "outputs": [],
   "source": [
    "def create_ceps3d_all_data():\n",
    "    genre_list = GENRE_LIST\n",
    "    base_dir = GENRE_DIR\n",
    "    X = []\n",
    "    y = []\n",
    "    for label, genre in enumerate(genre_list):\n",
    "        for fn in glob.glob(os.path.join(base_dir, genre, \"*.mfcc3d.npy\")):\n",
    "            mfcc3d = np.load(fn)\n",
    "            if mfcc3d[0][0].shape[0] != 1293:\n",
    "                print(\"file shape is\", mfcc3d.shape)\n",
    "                print(\"fn is\", fn)\n",
    "            X.append(mfcc3d)\n",
    "            y.append(label)\n",
    "\n",
    "    print(\"loaded all data\")\n",
    "    all_x_data = np.array(X)\n",
    "    all_y_data = np.array(y)\n",
    "\n",
    "    x_data_path = GENRE_DIR + 'x_3d_all_data'\n",
    "    y_data_path = GENRE_DIR + 'y_3d_all_data'\n",
    "\n",
    "    np.save(x_data_path, all_x_data)\n",
    "    np.save(y_data_path, all_y_data)\n",
    "    print(\"Written\", x_data_path)\n",
    "    print(\"Written\", y_data_path)"
   ]
  },
  {
   "cell_type": "code",
   "execution_count": 10,
   "metadata": {
    "collapsed": true
   },
   "outputs": [],
   "source": [
    "def prepare_mfcc3d_data():\n",
    "    genre_list = GENRE_LIST\n",
    "    base_dir = GENRE_DIR\n",
    "    X = []\n",
    "    y = []\n",
    "    for label, genre in enumerate(genre_list):\n",
    "        for fn in glob.glob(os.path.join(base_dir, genre, \"*.mfcc3d.npy\")):\n",
    "            mfcc3d = np.load(fn)\n",
    "            last_dim = mfcc3d[0][0].shape[0]\n",
    "            if last_dim < 1293:\n",
    "                add_dim = 1293 - last_dim\n",
    "                add_list = np.zeros((3, 30, add_dim))\n",
    "                mfcc3d_formated_data = np.append(mfcc3d, add_list, axis=2)\n",
    "                np.save(fn, mfcc3d_formated_data)\n",
    "                print(\"recreate data of\", fn)"
   ]
  },
  {
   "cell_type": "code",
   "execution_count": null,
   "metadata": {
    "collapsed": false
   },
   "outputs": [],
   "source": [
    "import subprocess\n",
    "subprocess.run(['jupyter', 'nbconvert', '--to', 'python', 'create_dataset_mfcc_3d.ipynb'])"
   ]
  },
  {
   "cell_type": "code",
   "execution_count": 14,
   "metadata": {
    "collapsed": false,
    "scrolled": false
   },
   "outputs": [
    {
     "name": "stdout",
     "output_type": "stream",
     "text": [
      "loaded all data\n",
      "Written ../data/songData/genres/x_3d_all_data\n",
      "Written ../data/songData/genres/y_3d_all_data\n"
     ]
    }
   ],
   "source": [
    "create_ceps3d_all_data()"
   ]
  }
 ],
 "metadata": {
  "anaconda-cloud": {},
  "kernelspec": {
   "display_name": "Python [conda root]",
   "language": "python",
   "name": "conda-root-py"
  },
  "language_info": {
   "codemirror_mode": {
    "name": "ipython",
    "version": 3
   },
   "file_extension": ".py",
   "mimetype": "text/x-python",
   "name": "python",
   "nbconvert_exporter": "python",
   "pygments_lexer": "ipython3",
   "version": "3.5.2"
  }
 },
 "nbformat": 4,
 "nbformat_minor": 1
}
