{
 "cells": [
  {
   "cell_type": "code",
   "execution_count": 1,
   "metadata": {
    "collapsed": false
   },
   "outputs": [
    {
     "name": "stderr",
     "output_type": "stream",
     "text": [
      "Using TensorFlow backend.\n"
     ]
    }
   ],
   "source": [
    "import os\n",
    "import glob\n",
    "import sys\n",
    "import numpy as np\n",
    "\n",
    "from sklearn.model_selection import train_test_split\n",
    "import keras\n",
    "import librosa\n",
    "\n",
    "import librosa.display\n",
    "import matplotlib.pyplot as plt\n",
    "import matplotlib.style as ms\n",
    "ms.use('seaborn-muted')\n",
    "%matplotlib inline\n",
    "\n",
    "GENRE_DIR = \"../data/songData/genres/\"\n",
    "GENRE_LIST = []\n",
    "GENRE_LIST.append(\"blues\")\n",
    "GENRE_LIST.append(\"classical\")\n",
    "GENRE_LIST.append(\"country\")\n",
    "GENRE_LIST.append(\"disco\")\n",
    "GENRE_LIST.append(\"hiphop\")\n",
    "GENRE_LIST.append(\"jazz\")\n",
    "GENRE_LIST.append(\"metal\")\n",
    "GENRE_LIST.append(\"pop\")\n",
    "GENRE_LIST.append(\"reggae\")\n",
    "GENRE_LIST.append(\"rock\")"
   ]
  },
  {
   "cell_type": "code",
   "execution_count": 2,
   "metadata": {
    "collapsed": false
   },
   "outputs": [],
   "source": [
    "def create_data_for_conv(genre_list=GENRE_LIST):\n",
    "    os.chdir(GENRE_DIR)\n",
    "    for genre in genre_list:\n",
    "        glob_wav = os.path.join(genre, \"*.wav\")\n",
    "        for fn in glob.glob(glob_wav):\n",
    "            create_mfcc_3d(fn)"
   ]
  },
  {
   "cell_type": "code",
   "execution_count": 3,
   "metadata": {
    "collapsed": true
   },
   "outputs": [],
   "source": [
    "def create_mfcc_3d(fn):\n",
    "    y, sr = librosa.load(fn)\n",
    "    y_harmonic, y_pertcussive = librosa.effects.hpss(y)\n",
    "    mfcc = librosa.feature.mfcc(y=y, sr=sr,n_mfcc=30)\n",
    "    harmonic_mfcc = librosa.feature.mfcc(y=y_harmonic, sr=sr,n_mfcc=30)\n",
    "    percus_mfcc = librosa.feature.mfcc(y=y_pertcussive, sr=sr,n_mfcc=30)\n",
    "    data = []\n",
    "    data.append(mfcc)\n",
    "    data.append(percus_mfcc)\n",
    "    data.append(harmonic_mfcc)\n",
    "    data = np.array(data)\n",
    "    \n",
    "    base_fn, ext = os.path.splitext(fn)\n",
    "    data_fn = base_fn + \".mfcc3d\"\n",
    "    np.save(data_fn, data)\n",
    "    print(\"Written\", data_fn)\n"
   ]
  },
  {
   "cell_type": "code",
   "execution_count": 20,
   "metadata": {
    "collapsed": false
   },
   "outputs": [
    {
     "ename": "ValueError",
     "evalue": "total size of new array must be unchanged",
     "output_type": "error",
     "traceback": [
      "\u001b[0;31m---------------------------------------------------------------------------\u001b[0m",
      "\u001b[0;31mValueError\u001b[0m                                Traceback (most recent call last)",
      "\u001b[0;32m<ipython-input-20-b472ca40d648>\u001b[0m in \u001b[0;36m<module>\u001b[0;34m()\u001b[0m\n\u001b[1;32m      8\u001b[0m \u001b[0mmfcc3d\u001b[0m \u001b[0;34m=\u001b[0m \u001b[0mnp\u001b[0m\u001b[0;34m.\u001b[0m\u001b[0mload\u001b[0m\u001b[0;34m(\u001b[0m\u001b[0mfn\u001b[0m\u001b[0;34m)\u001b[0m\u001b[0;34m\u001b[0m\u001b[0m\n\u001b[1;32m      9\u001b[0m \u001b[0mmfcc3d\u001b[0m \u001b[0;34m=\u001b[0m \u001b[0mmfcc3d\u001b[0m\u001b[0;34m[\u001b[0m\u001b[0;34m:\u001b[0m\u001b[0;34m,\u001b[0m\u001b[0;34m:\u001b[0m\u001b[0;34m,\u001b[0m\u001b[0;34m:\u001b[0m\u001b[0;36m1290\u001b[0m\u001b[0;34m]\u001b[0m\u001b[0;34m\u001b[0m\u001b[0m\n\u001b[0;32m---> 10\u001b[0;31m \u001b[0mmfcc3d\u001b[0m\u001b[0;34m.\u001b[0m\u001b[0mshape\u001b[0m \u001b[0;34m=\u001b[0m \u001b[0;36m3\u001b[0m\u001b[0;34m,\u001b[0m \u001b[0;36m30\u001b[0m\u001b[0;34m,\u001b[0m \u001b[0;36m1293\u001b[0m\u001b[0;34m\u001b[0m\u001b[0m\n\u001b[0m\u001b[1;32m     11\u001b[0m \u001b[0mprint\u001b[0m\u001b[0;34m(\u001b[0m\u001b[0mmfcc3d\u001b[0m\u001b[0;34m)\u001b[0m\u001b[0;34m\u001b[0m\u001b[0m\n\u001b[1;32m     12\u001b[0m \u001b[0mX\u001b[0m\u001b[0;34m.\u001b[0m\u001b[0mappend\u001b[0m\u001b[0;34m(\u001b[0m\u001b[0mmfcc3d\u001b[0m\u001b[0;34m)\u001b[0m\u001b[0;34m\u001b[0m\u001b[0m\n",
      "\u001b[0;31mValueError\u001b[0m: total size of new array must be unchanged"
     ]
    }
   ],
   "source": [
    "X = []\n",
    "\n",
    "fn = \"../data/songData/genres/blues/blues.00000.mfcc3d.npy\"\n",
    "mfcc3d = np.load(fn)\n",
    "X.append(mfcc3d)\n",
    "\n",
    "fn = \"../data/songData/genres/blues/blues.00000.mfcc3d.npy\"\n",
    "mfcc3d = np.load(fn)\n",
    "mfcc3d = mfcc3d[:,:,:1290]\n",
    "mfcc3d.shape = 3, 30, 1293\n",
    "print(mfcc3d)\n",
    "X.append(mfcc3d)\n",
    "\n",
    "all_x_data = np.array(X)\n",
    "print(all_x_data.shape)"
   ]
  },
  {
   "cell_type": "code",
   "execution_count": 21,
   "metadata": {
    "collapsed": false
   },
   "outputs": [],
   "source": [
    "def create_ceps3d_all_data():\n",
    "    genre_list = GENRE_LIST\n",
    "    base_dir = GENRE_DIR\n",
    "    X = []\n",
    "    y = []\n",
    "    for label, genre in enumerate(genre_list):\n",
    "        for fn in glob.glob(os.path.join(base_dir, genre, \"*.mfcc3d.npy\")):\n",
    "            mfcc3d = np.load(fn)\n",
    "            if mfcc3d[0][0].shape[0] != 1293:\n",
    "                print(\"file shape is\", mfcc3d.shape)\n",
    "                print(\"fn is\", fn)\n",
    "            X.append(mfcc3d)\n",
    "            y.append(label)\n",
    "\n",
    "    print(\"loaded all data\")\n",
    "    all_x_data = np.array(X)\n",
    "    all_y_data = np.array(y)\n",
    "\n",
    "    x_data_path = GENRE_DIR + 'x_3d_all_data'\n",
    "    y_data_path = GENRE_DIR + 'y_3d_all_data'\n",
    "\n",
    "    np.save(x_data_path, all_x_data)\n",
    "    np.save(y_data_path, all_y_data)\n",
    "    print(\"Written\", x_data_path)\n",
    "    print(\"Written\", y_data_path)"
   ]
  },
  {
   "cell_type": "code",
   "execution_count": 10,
   "metadata": {
    "collapsed": true
   },
   "outputs": [],
   "source": [
    "def prepare_mfcc3d_data():\n",
    "    genre_list = GENRE_LIST\n",
    "    base_dir = GENRE_DIR\n",
    "    X = []\n",
    "    y = []\n",
    "    for label, genre in enumerate(genre_list):\n",
    "        for fn in glob.glob(os.path.join(base_dir, genre, \"*.mfcc3d.npy\")):\n",
    "            mfcc3d = np.load(fn)\n",
    "            if mfcc3d[0][0].shape[0] < 1293:\n",
    "                mfcc3d_formated_data = mfcc3d[:,:,:1293]\n",
    "                np.save(fn, mfcc3d_formated_data)\n",
    "                print(\"recreate data of\", fn)"
   ]
  },
  {
   "cell_type": "code",
   "execution_count": 6,
   "metadata": {
    "collapsed": false
   },
   "outputs": [
    {
     "data": {
      "text/plain": [
       "CompletedProcess(args=['jupyter', 'nbconvert', '--to', 'python', 'create_dataset_mfcc_3d.ipynb'], returncode=0)"
      ]
     },
     "execution_count": 6,
     "metadata": {},
     "output_type": "execute_result"
    }
   ],
   "source": [
    "import subprocess\n",
    "subprocess.run(['jupyter', 'nbconvert', '--to', 'python', 'create_dataset_mfcc_3d.ipynb'])"
   ]
  },
  {
   "cell_type": "code",
   "execution_count": 22,
   "metadata": {
    "collapsed": false,
    "scrolled": false
   },
   "outputs": [
    {
     "name": "stdout",
     "output_type": "stream",
     "text": [
      "file shape is (3, 30, 1292)\n",
      "fn is ../data/songData/genres/classical/classical.00049.mfcc3d.npy\n",
      "file shape is (3, 30, 1292)\n",
      "fn is ../data/songData/genres/classical/classical.00051.mfcc3d.npy\n",
      "file shape is (3, 30, 1292)\n",
      "fn is ../data/songData/genres/country/country.00003.mfcc3d.npy\n",
      "file shape is (3, 30, 1292)\n",
      "fn is ../data/songData/genres/country/country.00004.mfcc3d.npy\n",
      "file shape is (3, 30, 1292)\n",
      "fn is ../data/songData/genres/country/country.00007.mfcc3d.npy\n",
      "file shape is (3, 30, 1292)\n",
      "fn is ../data/songData/genres/disco/disco.00014.mfcc3d.npy\n",
      "file shape is (3, 30, 1292)\n",
      "fn is ../data/songData/genres/hiphop/hiphop.00031.mfcc3d.npy\n",
      "file shape is (3, 30, 1290)\n",
      "fn is ../data/songData/genres/hiphop/hiphop.00032.mfcc3d.npy\n",
      "file shape is (3, 30, 1292)\n",
      "fn is ../data/songData/genres/rock/rock.00027.mfcc3d.npy\n",
      "file shape is (3, 30, 1292)\n",
      "fn is ../data/songData/genres/rock/rock.00038.mfcc3d.npy\n",
      "loaded all data\n"
     ]
    },
    {
     "ename": "ValueError",
     "evalue": "could not broadcast input array from shape (3,30,1293) into shape (3,30)",
     "output_type": "error",
     "traceback": [
      "\u001b[0;31m---------------------------------------------------------------------------\u001b[0m",
      "\u001b[0;31mValueError\u001b[0m                                Traceback (most recent call last)",
      "\u001b[0;32m<ipython-input-22-b85864dfaefb>\u001b[0m in \u001b[0;36m<module>\u001b[0;34m()\u001b[0m\n\u001b[0;32m----> 1\u001b[0;31m \u001b[0mcreate_ceps3d_all_data\u001b[0m\u001b[0;34m(\u001b[0m\u001b[0;34m)\u001b[0m\u001b[0;34m\u001b[0m\u001b[0m\n\u001b[0m",
      "\u001b[0;32m<ipython-input-21-047355833619>\u001b[0m in \u001b[0;36mcreate_ceps3d_all_data\u001b[0;34m()\u001b[0m\n\u001b[1;32m     14\u001b[0m \u001b[0;34m\u001b[0m\u001b[0m\n\u001b[1;32m     15\u001b[0m     \u001b[0mprint\u001b[0m\u001b[0;34m(\u001b[0m\u001b[0;34m\"loaded all data\"\u001b[0m\u001b[0;34m)\u001b[0m\u001b[0;34m\u001b[0m\u001b[0m\n\u001b[0;32m---> 16\u001b[0;31m     \u001b[0mall_x_data\u001b[0m \u001b[0;34m=\u001b[0m \u001b[0mnp\u001b[0m\u001b[0;34m.\u001b[0m\u001b[0marray\u001b[0m\u001b[0;34m(\u001b[0m\u001b[0mX\u001b[0m\u001b[0;34m)\u001b[0m\u001b[0;34m\u001b[0m\u001b[0m\n\u001b[0m\u001b[1;32m     17\u001b[0m     \u001b[0mall_y_data\u001b[0m \u001b[0;34m=\u001b[0m \u001b[0mnp\u001b[0m\u001b[0;34m.\u001b[0m\u001b[0marray\u001b[0m\u001b[0;34m(\u001b[0m\u001b[0my\u001b[0m\u001b[0;34m)\u001b[0m\u001b[0;34m\u001b[0m\u001b[0m\n\u001b[1;32m     18\u001b[0m \u001b[0;34m\u001b[0m\u001b[0m\n",
      "\u001b[0;31mValueError\u001b[0m: could not broadcast input array from shape (3,30,1293) into shape (3,30)"
     ]
    }
   ],
   "source": [
    "create_ceps3d_all_data()"
   ]
  }
 ],
 "metadata": {
  "anaconda-cloud": {},
  "kernelspec": {
   "display_name": "Python [conda root]",
   "language": "python",
   "name": "conda-root-py"
  },
  "language_info": {
   "codemirror_mode": {
    "name": "ipython",
    "version": 3
   },
   "file_extension": ".py",
   "mimetype": "text/x-python",
   "name": "python",
   "nbconvert_exporter": "python",
   "pygments_lexer": "ipython3",
   "version": "3.5.2"
  }
 },
 "nbformat": 4,
 "nbformat_minor": 1
}
