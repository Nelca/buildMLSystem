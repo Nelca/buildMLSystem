{
 "cells": [
  {
   "cell_type": "code",
   "execution_count": 8,
   "metadata": {
    "collapsed": false
   },
   "outputs": [],
   "source": [
    "import numpy as np\n",
    "import keras\n",
    "from keras.models import Sequential\n",
    "from keras.layers import Dense, Dropout, Flatten\n",
    "from keras.layers import Conv2D, MaxPooling2D\n",
    "from keras.optimizers import SGD\n",
    "from keras.layers.normalization import BatchNormalization\n",
    "\n",
    "from sklearn.preprocessing import StandardScaler\n",
    "from sklearn.externals import joblib\n",
    "\n",
    "from read_dataset import read_ceps3d_with_train_test\n",
    "import read_saved_models"
   ]
  },
  {
   "cell_type": "code",
   "execution_count": 2,
   "metadata": {
    "collapsed": true
   },
   "outputs": [],
   "source": [
    "def getStanderizedData(data):\n",
    "    data_shape = data.shape\n",
    "    n = data_shape[0]\n",
    "    reshaped_data = data.reshape(n, -1)\n",
    "    saved_ss = loadMfcc3dStanderdScaler()\n",
    "    trasformed_data = saved_ss.transform(reshaped_data)\n",
    "    ret_data = trasformed_data.reshape(data_shape)\n",
    "    return ret_data"
   ]
  },
  {
   "cell_type": "code",
   "execution_count": 3,
   "metadata": {
    "collapsed": true
   },
   "outputs": [],
   "source": [
    "def createStdScaler():\n",
    "    file_path = \"../data/songData/genres/x_3d_all_data.npy\"\n",
    "    all_x_data = np.load(file_path)\n",
    "    n = all_x_data.shape[0]\n",
    "    reshaped_data = all_x_data.reshape(n, -1)\n",
    "\n",
    "    ss = StandardScaler()\n",
    "    ss.fit(reshaped_data)\n",
    "    joblib.dump(ss, './savedStanderdScaler/mfcc_3d_ss.pkl')"
   ]
  },
  {
   "cell_type": "code",
   "execution_count": 4,
   "metadata": {
    "collapsed": false
   },
   "outputs": [],
   "source": [
    "X_train, X_test, y_train, y_test = read_ceps3d_with_train_test()"
   ]
  },
  {
   "cell_type": "code",
   "execution_count": 5,
   "metadata": {
    "collapsed": true
   },
   "outputs": [],
   "source": [
    "X_train= getStanderizedData(X_train)\n",
    "X_test= getStanderizedData(X_test)"
   ]
  },
  {
   "cell_type": "code",
   "execution_count": 6,
   "metadata": {
    "collapsed": false,
    "scrolled": true
   },
   "outputs": [
    {
     "name": "stdout",
     "output_type": "stream",
     "text": [
      "(600, 3, 30, 1293)\n",
      "(400, 3, 30, 1293)\n",
      "(600, 10)\n",
      "(400, 10)\n",
      "[ 0.  0.  0.  0.  0.  0.  0.  0.  0.  1.]\n"
     ]
    }
   ],
   "source": [
    "print(X_train.shape)\n",
    "print(X_test.shape)\n",
    "print(y_train.shape)\n",
    "print(y_test.shape)\n",
    "print(y_test[0])"
   ]
  },
  {
   "cell_type": "code",
   "execution_count": 9,
   "metadata": {
    "collapsed": false
   },
   "outputs": [],
   "source": [
    "model = Sequential()\n",
    "\n",
    "# the model is convolutional with layer of 30 * 1293\n",
    "model.add(Conv2D(500, (10, 10), activation='relu',\n",
    "                 input_shape=(3, 30, 1293),\n",
    "                 data_format='channels_first'))\n",
    "model.add(MaxPooling2D(pool_size=(5, 5)))\n",
    "model.add(Dropout(0.3))\n",
    "model.add(BatchNormalization())\n",
    "\n",
    "model.add(Conv2D(50, (3, 3), activation='relu'))\n",
    "model.add(MaxPooling2D(pool_size=(2, 2)))\n",
    "model.add(Dropout(0.2))\n",
    "model.add(BatchNormalization())\n",
    "\n",
    "model.add(Flatten())\n",
    "model.add(Dense(300, activation='relu'))\n",
    "model.add(Dropout(0.1))\n",
    "model.add(BatchNormalization())\n",
    "    \n",
    "model.add(Dense(10, activation='softmax'))\n",
    "\n",
    "sgd = SGD(lr=0.1, decay=1e-8, momentum=0.9, nesterov=True)\n",
    "model.compile(loss='categorical_crossentropy', optimizer=sgd, metrics=['accuracy', 'categorical_accuracy'])"
   ]
  },
  {
   "cell_type": "code",
   "execution_count": 13,
   "metadata": {
    "collapsed": false
   },
   "outputs": [
    {
     "name": "stdout",
     "output_type": "stream",
     "text": [
      "Epoch 1/10\n",
      "600/600 [==============================] - 1148s - loss: 2.9474 - acc: 0.2600 - categorical_accuracy: 0.2600   \n",
      "Epoch 2/10\n",
      "600/600 [==============================] - 1134s - loss: 2.2900 - acc: 0.3533 - categorical_accuracy: 0.3533   \n",
      "Epoch 3/10\n",
      "600/600 [==============================] - 1170s - loss: 2.0656 - acc: 0.4150 - categorical_accuracy: 0.4150   \n",
      "Epoch 4/10\n",
      "600/600 [==============================] - 1134s - loss: 1.7565 - acc: 0.4800 - categorical_accuracy: 0.4800   \n",
      "Epoch 5/10\n",
      "600/600 [==============================] - 1129s - loss: 1.4381 - acc: 0.5750 - categorical_accuracy: 0.5750   \n",
      "Epoch 6/10\n",
      "600/600 [==============================] - 1129s - loss: 1.2255 - acc: 0.5867 - categorical_accuracy: 0.5867   \n",
      "Epoch 7/10\n",
      "600/600 [==============================] - 1124s - loss: 1.0315 - acc: 0.6567 - categorical_accuracy: 0.6567   \n",
      "Epoch 8/10\n",
      "600/600 [==============================] - 1136s - loss: 0.9163 - acc: 0.7033 - categorical_accuracy: 0.7033   \n",
      "Epoch 9/10\n",
      "600/600 [==============================] - 1126s - loss: 0.6863 - acc: 0.7750 - categorical_accuracy: 0.7750   \n",
      "Epoch 10/10\n",
      "600/600 [==============================] - 1124s - loss: 0.5401 - acc: 0.8250 - categorical_accuracy: 0.8250   \n"
     ]
    },
    {
     "data": {
      "text/plain": [
       "<keras.callbacks.History at 0x7fafcc253080>"
      ]
     },
     "execution_count": 13,
     "metadata": {},
     "output_type": "execute_result"
    }
   ],
   "source": [
    "model.fit(X_train, y_train, batch_size=32, epochs=10)"
   ]
  },
  {
   "cell_type": "code",
   "execution_count": 14,
   "metadata": {
    "collapsed": false
   },
   "outputs": [
    {
     "name": "stdout",
     "output_type": "stream",
     "text": [
      "400/400 [==============================] - 491s    \n",
      "['loss', 'acc', 'categorical_accuracy']\n",
      "[2.4088606643676758, 0.46000000000000002, 0.46000000000000002]\n"
     ]
    }
   ],
   "source": [
    "score = model.evaluate(X_test, y_test, batch_size=32)\n",
    "print(model.metrics_names)\n",
    "print(score)"
   ]
  },
  {
   "cell_type": "code",
   "execution_count": 15,
   "metadata": {
    "collapsed": true
   },
   "outputs": [],
   "source": [
    "model_filepath = \"./savedModels/ceps_cnn3d_model.h5\"\n",
    "model.save(model_filepath)"
   ]
  }
 ],
 "metadata": {
  "anaconda-cloud": {},
  "kernelspec": {
   "display_name": "Python [conda root]",
   "language": "python",
   "name": "conda-root-py"
  },
  "language_info": {
   "codemirror_mode": {
    "name": "ipython",
    "version": 3
   },
   "file_extension": ".py",
   "mimetype": "text/x-python",
   "name": "python",
   "nbconvert_exporter": "python",
   "pygments_lexer": "ipython3",
   "version": "3.5.2"
  }
 },
 "nbformat": 4,
 "nbformat_minor": 1
}
