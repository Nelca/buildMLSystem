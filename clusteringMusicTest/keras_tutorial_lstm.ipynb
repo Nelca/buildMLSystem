{
 "cells": [
  {
   "cell_type": "code",
   "execution_count": 1,
   "metadata": {
    "collapsed": false
   },
   "outputs": [
    {
     "name": "stderr",
     "output_type": "stream",
     "text": [
      "Using TensorFlow backend.\n"
     ]
    }
   ],
   "source": [
    "import keras\n",
    "from keras.models import Sequential\n",
    "from keras.layers import Dense, Dropout, Activation, LSTM\n",
    "from keras.optimizers import SGD\n",
    "from read_dataset import read_ceps_with_train_test\n"
   ]
  },
  {
   "cell_type": "code",
   "execution_count": 2,
   "metadata": {
    "collapsed": false
   },
   "outputs": [],
   "source": [
    "X_train, X_test, y_train, y_test = read_ceps_with_train_test()\n",
    "y_train = keras.utils.to_categorical(y_train, num_classes=10)\n",
    "y_test = keras.utils.to_categorical(y_test, num_classes=10)"
   ]
  },
  {
   "cell_type": "code",
   "execution_count": 3,
   "metadata": {
    "collapsed": false
   },
   "outputs": [],
   "source": [
    "model = Sequential()\n",
    "\n",
    "# this layerf from https://keras.io/getting-started/sequential-model-guide/\n",
    "# Dense(64) is fully-connected layer with 64 hidden units\n",
    "model.add(Dense(64, activation='relu', input_dim=20))\n",
    "model.add(Dropout(0.3))\n",
    "model.add(Dense(64, activation='relu'))\n",
    "model.add(Dropout(0.3))\n",
    "model.add(Dense(10, activation='softmax'))\n",
    "\n",
    "sgd = SGD(lr=0.01, decay=1e-6, momentum=0.9, nesterov=True)"
   ]
  },
  {
   "cell_type": "code",
   "execution_count": 4,
   "metadata": {
    "collapsed": false
   },
   "outputs": [
    {
     "name": "stdout",
     "output_type": "stream",
     "text": [
      "Epoch 1/20\n",
      "600/600 [==============================] - 0s - loss: 13.6140 - acc: 0.0983     \n",
      "Epoch 2/20\n",
      "600/600 [==============================] - 0s - loss: 12.7194 - acc: 0.1300     \n",
      "Epoch 3/20\n",
      "600/600 [==============================] - 0s - loss: 12.0402 - acc: 0.1600     \n",
      "Epoch 4/20\n",
      "600/600 [==============================] - 0s - loss: 10.9479 - acc: 0.1683     \n",
      "Epoch 5/20\n",
      "600/600 [==============================] - 0s - loss: 5.6023 - acc: 0.1633     \n",
      "Epoch 6/20\n",
      "600/600 [==============================] - 0s - loss: 2.3337 - acc: 0.1067     \n",
      "Epoch 7/20\n",
      "600/600 [==============================] - 0s - loss: 2.2325 - acc: 0.1400     \n",
      "Epoch 8/20\n",
      "600/600 [==============================] - 0s - loss: 2.1847 - acc: 0.1900     \n",
      "Epoch 9/20\n",
      "600/600 [==============================] - 0s - loss: 2.2002 - acc: 0.1850     \n",
      "Epoch 10/20\n",
      "600/600 [==============================] - 0s - loss: 2.1695 - acc: 0.2017     \n",
      "Epoch 11/20\n",
      "600/600 [==============================] - 0s - loss: 2.1552 - acc: 0.2133     \n",
      "Epoch 12/20\n",
      "600/600 [==============================] - 0s - loss: 2.1816 - acc: 0.1783     \n",
      "Epoch 13/20\n",
      "600/600 [==============================] - 0s - loss: 2.1651 - acc: 0.2050     \n",
      "Epoch 14/20\n",
      "600/600 [==============================] - 0s - loss: 2.0829 - acc: 0.2183     \n",
      "Epoch 15/20\n",
      "600/600 [==============================] - 0s - loss: 2.1135 - acc: 0.2167     \n",
      "Epoch 16/20\n",
      "600/600 [==============================] - 0s - loss: 2.0959 - acc: 0.2217     \n",
      "Epoch 17/20\n",
      "600/600 [==============================] - 0s - loss: 2.1099 - acc: 0.2250     \n",
      "Epoch 18/20\n",
      "600/600 [==============================] - 0s - loss: 2.0840 - acc: 0.2267     \n",
      "Epoch 19/20\n",
      "600/600 [==============================] - 0s - loss: 2.0287 - acc: 0.2567     \n",
      "Epoch 20/20\n",
      "600/600 [==============================] - 0s - loss: 2.0552 - acc: 0.2483     \n"
     ]
    },
    {
     "data": {
      "text/plain": [
       "<keras.callbacks.History at 0x7f83fb4b6470>"
      ]
     },
     "execution_count": 4,
     "metadata": {},
     "output_type": "execute_result"
    }
   ],
   "source": [
    "model.compile(loss='categorical_crossentropy',\n",
    "             optimizer=sgd,\n",
    "             metrics=['accuracy'])\n",
    "\n",
    "model.fit(X_train, y_train, epochs=20, batch_size=128)"
   ]
  },
  {
   "cell_type": "code",
   "execution_count": 7,
   "metadata": {
    "collapsed": false
   },
   "outputs": [
    {
     "name": "stdout",
     "output_type": "stream",
     "text": [
      "100/400 [======>.......................] - ETA: 0s\n",
      "[1.9588640630245209, 0.26499999687075615]\n"
     ]
    }
   ],
   "source": [
    "score = model.evaluate(X_test, y_test, batch_size=100)\n",
    "print(\"\")\n",
    "print(score)"
   ]
  },
  {
   "cell_type": "code",
   "execution_count": 6,
   "metadata": {
    "collapsed": false
   },
   "outputs": [
    {
     "data": {
      "text/plain": [
       "['loss', 'acc']"
      ]
     },
     "execution_count": 6,
     "metadata": {},
     "output_type": "execute_result"
    }
   ],
   "source": [
    "model.metrics_names"
   ]
  }
 ],
 "metadata": {
  "anaconda-cloud": {},
  "kernelspec": {
   "display_name": "Python [conda root]",
   "language": "python",
   "name": "conda-root-py"
  },
  "language_info": {
   "codemirror_mode": {
    "name": "ipython",
    "version": 3
   },
   "file_extension": ".py",
   "mimetype": "text/x-python",
   "name": "python",
   "nbconvert_exporter": "python",
   "pygments_lexer": "ipython3",
   "version": "3.5.2"
  }
 },
 "nbformat": 4,
 "nbformat_minor": 1
}
